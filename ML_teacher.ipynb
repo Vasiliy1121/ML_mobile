{
 "cells": [
  {
   "cell_type": "markdown",
   "metadata": {
    "toc": true
   },
   "source": [
    "<h1>Содержание<span class=\"tocSkip\"></span></h1>\n",
    "<div class=\"toc\"><ul class=\"toc-item\"><li><span><a href=\"#Подготовка-данных\" data-toc-modified-id=\"Подготовка-данных-1\"><span class=\"toc-item-num\">1&nbsp;&nbsp;</span>Подготовка данных</a></span></li><li><span><a href=\"#Исследование-задачи\" data-toc-modified-id=\"Исследование-задачи-2\"><span class=\"toc-item-num\">2&nbsp;&nbsp;</span>Исследование задачи</a></span><ul class=\"toc-item\"><li><span><a href=\"#Подготовка-данных\" data-toc-modified-id=\"Подготовка-данных-2.1\"><span class=\"toc-item-num\">2.1&nbsp;&nbsp;</span>Подготовка данных</a></span></li><li><span><a href=\"#Разбиение-датасета-на-выборки\" data-toc-modified-id=\"Разбиение-датасета-на-выборки-2.2\"><span class=\"toc-item-num\">2.2&nbsp;&nbsp;</span>Разбиение датасета на выборки</a></span></li><li><span><a href=\"#Обучение-модели\" data-toc-modified-id=\"Обучение-модели-2.3\"><span class=\"toc-item-num\">2.3&nbsp;&nbsp;</span>Обучение модели</a></span></li><li><span><a href=\"#Проверка-модели-на-адекватность\" data-toc-modified-id=\"Проверка-модели-на-адекватность-2.4\"><span class=\"toc-item-num\">2.4&nbsp;&nbsp;</span>Проверка модели на адекватность</a></span></li><li><span><a href=\"#Вывод\" data-toc-modified-id=\"Вывод-2.5\"><span class=\"toc-item-num\">2.5&nbsp;&nbsp;</span>Вывод</a></span></li></ul></li><li><span><a href=\"#Борьба-с-дисбалансом\" data-toc-modified-id=\"Борьба-с-дисбалансом-3\"><span class=\"toc-item-num\">3&nbsp;&nbsp;</span>Борьба с дисбалансом</a></span><ul class=\"toc-item\"><li><span><a href=\"#Логистическая-регрессия-с-учетом-дисбаланса\" data-toc-modified-id=\"Логистическая-регрессия-с-учетом-дисбаланса-3.1\"><span class=\"toc-item-num\">3.1&nbsp;&nbsp;</span>Логистическая регрессия с учетом дисбаланса</a></span><ul class=\"toc-item\"><li><span><a href=\"#Увеличение-выборки\" data-toc-modified-id=\"Увеличение-выборки-3.1.1\"><span class=\"toc-item-num\">3.1.1&nbsp;&nbsp;</span>Увеличение выборки</a></span></li><li><span><a href=\"#Уменьшение-выборки\" data-toc-modified-id=\"Уменьшение-выборки-3.1.2\"><span class=\"toc-item-num\">3.1.2&nbsp;&nbsp;</span>Уменьшение выборки</a></span></li></ul></li><li><span><a href=\"#Случайный-лес-с-учетом-дисбаланса\" data-toc-modified-id=\"Случайный-лес-с-учетом-дисбаланса-3.2\"><span class=\"toc-item-num\">3.2&nbsp;&nbsp;</span>Случайный лес с учетом дисбаланса</a></span></li><li><span><a href=\"#Решающее-дерево-с-учетом-дисбаланса\" data-toc-modified-id=\"Решающее-дерево-с-учетом-дисбаланса-3.3\"><span class=\"toc-item-num\">3.3&nbsp;&nbsp;</span>Решающее дерево с учетом дисбаланса</a></span></li><li><span><a href=\"#Вывод\" data-toc-modified-id=\"Вывод-3.4\"><span class=\"toc-item-num\">3.4&nbsp;&nbsp;</span>Вывод</a></span></li></ul></li><li><span><a href=\"#Тестирование-модели\" data-toc-modified-id=\"Тестирование-модели-4\"><span class=\"toc-item-num\">4&nbsp;&nbsp;</span>Тестирование модели</a></span></li><li><span><a href=\"#Вывод\" data-toc-modified-id=\"Вывод-5\"><span class=\"toc-item-num\">5&nbsp;&nbsp;</span>Вывод</a></span></li><li><span><a href=\"#Чек-лист-готовности-проекта\" data-toc-modified-id=\"Чек-лист-готовности-проекта-6\"><span class=\"toc-item-num\">6&nbsp;&nbsp;</span>Чек-лист готовности проекта</a></span></li></ul></div>"
   ]
  },
  {
   "cell_type": "markdown",
   "metadata": {},
   "source": [
    "# Отток клиентов"
   ]
  },
  {
   "cell_type": "markdown",
   "metadata": {},
   "source": [
    "Из «Бета-Банка» стали уходить клиенты. Каждый месяц. Немного, но заметно. Банковские маркетологи посчитали: сохранять текущих клиентов дешевле, чем привлекать новых.\n",
    "\n",
    "Нужно спрогнозировать, уйдёт клиент из банка в ближайшее время или нет. Вам предоставлены исторические данные о поведении клиентов и расторжении договоров с банком. \n",
    "\n",
    "Постройте модель с предельно большим значением *F1*-меры. Чтобы сдать проект успешно, нужно довести метрику до 0.59. Проверьте *F1*-меру на тестовой выборке самостоятельно.\n",
    "\n",
    "Дополнительно измеряйте *AUC-ROC*, сравнивайте её значение с *F1*-мерой.\n",
    "\n",
    "Источник данных: [https://www.kaggle.com/barelydedicated/bank-customer-churn-modeling](https://www.kaggle.com/barelydedicated/bank-customer-churn-modeling)"
   ]
  },
  {
   "cell_type": "markdown",
   "metadata": {},
   "source": [
    "**В ходе проекта предполагается выполнить следующие шаги:**\n",
    "* Подготовка данных для дальнейшего построения модели классификации;\n",
    "* Проверка датасета на дисбаланс и его устранение в случае наличия;\n",
    "* Построение моделей классификации, подбор гиперпараметров и выбор наилучшей модели;\n",
    "* Тестирование модели;\n",
    "* Общий вывод."
   ]
  },
  {
   "cell_type": "markdown",
   "metadata": {},
   "source": [
    "## Подготовка данных"
   ]
  },
  {
   "cell_type": "markdown",
   "metadata": {},
   "source": [
    "В проекте используется 1 датасет - `/datasets/Churn.csv` - данные о клиентах банка. Откроем и изучим его."
   ]
  },
  {
   "cell_type": "code",
   "execution_count": 1,
   "metadata": {},
   "outputs": [],
   "source": [
    "# импорт необходимых библиотек\n",
    "import pandas as pd\n",
    "import numpy as np\n",
    "\n",
    "import matplotlib.pyplot as plt\n",
    "import seaborn as sns\n",
    "\n",
    "from sklearn.model_selection import train_test_split \n",
    "from sklearn.tree import DecisionTreeClassifier\n",
    "from sklearn.dummy import DummyClassifier\n",
    "from sklearn.ensemble import RandomForestClassifier\n",
    "from sklearn.linear_model import LogisticRegression \n",
    "from sklearn.metrics import accuracy_score, f1_score, roc_auc_score\n",
    "\n",
    "from sklearn.utils import shuffle\n",
    "from sklearn.metrics import roc_curve \n",
    "\n",
    "from sklearn.model_selection import GridSearchCV\n",
    "from sklearn.preprocessing import StandardScaler "
   ]
  },
  {
   "cell_type": "code",
   "execution_count": 2,
   "metadata": {},
   "outputs": [],
   "source": [
    "# чтение датафрейма\n",
    "df = pd.read_csv('Churn.csv')"
   ]
  },
  {
   "cell_type": "code",
   "execution_count": 3,
   "metadata": {},
   "outputs": [
    {
     "data": {
      "text/html": [
       "<div>\n",
       "<style scoped>\n",
       "    .dataframe tbody tr th:only-of-type {\n",
       "        vertical-align: middle;\n",
       "    }\n",
       "\n",
       "    .dataframe tbody tr th {\n",
       "        vertical-align: top;\n",
       "    }\n",
       "\n",
       "    .dataframe thead th {\n",
       "        text-align: right;\n",
       "    }\n",
       "</style>\n",
       "<table border=\"1\" class=\"dataframe\">\n",
       "  <thead>\n",
       "    <tr style=\"text-align: right;\">\n",
       "      <th></th>\n",
       "      <th>RowNumber</th>\n",
       "      <th>CustomerId</th>\n",
       "      <th>Surname</th>\n",
       "      <th>CreditScore</th>\n",
       "      <th>Geography</th>\n",
       "      <th>Gender</th>\n",
       "      <th>Age</th>\n",
       "      <th>Tenure</th>\n",
       "      <th>Balance</th>\n",
       "      <th>NumOfProducts</th>\n",
       "      <th>HasCrCard</th>\n",
       "      <th>IsActiveMember</th>\n",
       "      <th>EstimatedSalary</th>\n",
       "      <th>Exited</th>\n",
       "    </tr>\n",
       "  </thead>\n",
       "  <tbody>\n",
       "    <tr>\n",
       "      <th>0</th>\n",
       "      <td>1</td>\n",
       "      <td>15634602</td>\n",
       "      <td>Hargrave</td>\n",
       "      <td>619</td>\n",
       "      <td>France</td>\n",
       "      <td>Female</td>\n",
       "      <td>42</td>\n",
       "      <td>2.0</td>\n",
       "      <td>0.00</td>\n",
       "      <td>1</td>\n",
       "      <td>1</td>\n",
       "      <td>1</td>\n",
       "      <td>101348.88</td>\n",
       "      <td>1</td>\n",
       "    </tr>\n",
       "    <tr>\n",
       "      <th>1</th>\n",
       "      <td>2</td>\n",
       "      <td>15647311</td>\n",
       "      <td>Hill</td>\n",
       "      <td>608</td>\n",
       "      <td>Spain</td>\n",
       "      <td>Female</td>\n",
       "      <td>41</td>\n",
       "      <td>1.0</td>\n",
       "      <td>83807.86</td>\n",
       "      <td>1</td>\n",
       "      <td>0</td>\n",
       "      <td>1</td>\n",
       "      <td>112542.58</td>\n",
       "      <td>0</td>\n",
       "    </tr>\n",
       "    <tr>\n",
       "      <th>2</th>\n",
       "      <td>3</td>\n",
       "      <td>15619304</td>\n",
       "      <td>Onio</td>\n",
       "      <td>502</td>\n",
       "      <td>France</td>\n",
       "      <td>Female</td>\n",
       "      <td>42</td>\n",
       "      <td>8.0</td>\n",
       "      <td>159660.80</td>\n",
       "      <td>3</td>\n",
       "      <td>1</td>\n",
       "      <td>0</td>\n",
       "      <td>113931.57</td>\n",
       "      <td>1</td>\n",
       "    </tr>\n",
       "    <tr>\n",
       "      <th>3</th>\n",
       "      <td>4</td>\n",
       "      <td>15701354</td>\n",
       "      <td>Boni</td>\n",
       "      <td>699</td>\n",
       "      <td>France</td>\n",
       "      <td>Female</td>\n",
       "      <td>39</td>\n",
       "      <td>1.0</td>\n",
       "      <td>0.00</td>\n",
       "      <td>2</td>\n",
       "      <td>0</td>\n",
       "      <td>0</td>\n",
       "      <td>93826.63</td>\n",
       "      <td>0</td>\n",
       "    </tr>\n",
       "    <tr>\n",
       "      <th>4</th>\n",
       "      <td>5</td>\n",
       "      <td>15737888</td>\n",
       "      <td>Mitchell</td>\n",
       "      <td>850</td>\n",
       "      <td>Spain</td>\n",
       "      <td>Female</td>\n",
       "      <td>43</td>\n",
       "      <td>2.0</td>\n",
       "      <td>125510.82</td>\n",
       "      <td>1</td>\n",
       "      <td>1</td>\n",
       "      <td>1</td>\n",
       "      <td>79084.10</td>\n",
       "      <td>0</td>\n",
       "    </tr>\n",
       "  </tbody>\n",
       "</table>\n",
       "</div>"
      ],
      "text/plain": [
       "   RowNumber  CustomerId   Surname  CreditScore Geography  Gender  Age  \\\n",
       "0          1    15634602  Hargrave          619    France  Female   42   \n",
       "1          2    15647311      Hill          608     Spain  Female   41   \n",
       "2          3    15619304      Onio          502    France  Female   42   \n",
       "3          4    15701354      Boni          699    France  Female   39   \n",
       "4          5    15737888  Mitchell          850     Spain  Female   43   \n",
       "\n",
       "   Tenure    Balance  NumOfProducts  HasCrCard  IsActiveMember  \\\n",
       "0     2.0       0.00              1          1               1   \n",
       "1     1.0   83807.86              1          0               1   \n",
       "2     8.0  159660.80              3          1               0   \n",
       "3     1.0       0.00              2          0               0   \n",
       "4     2.0  125510.82              1          1               1   \n",
       "\n",
       "   EstimatedSalary  Exited  \n",
       "0        101348.88       1  \n",
       "1        112542.58       0  \n",
       "2        113931.57       1  \n",
       "3         93826.63       0  \n",
       "4         79084.10       0  "
      ]
     },
     "execution_count": 3,
     "metadata": {},
     "output_type": "execute_result"
    }
   ],
   "source": [
    "# вывод на экран датафрейма df\n",
    "df.head()"
   ]
  },
  {
   "cell_type": "code",
   "execution_count": 4,
   "metadata": {
    "scrolled": false
   },
   "outputs": [
    {
     "name": "stdout",
     "output_type": "stream",
     "text": [
      "<class 'pandas.core.frame.DataFrame'>\n",
      "RangeIndex: 10000 entries, 0 to 9999\n",
      "Data columns (total 14 columns):\n",
      " #   Column           Non-Null Count  Dtype  \n",
      "---  ------           --------------  -----  \n",
      " 0   RowNumber        10000 non-null  int64  \n",
      " 1   CustomerId       10000 non-null  int64  \n",
      " 2   Surname          10000 non-null  object \n",
      " 3   CreditScore      10000 non-null  int64  \n",
      " 4   Geography        10000 non-null  object \n",
      " 5   Gender           10000 non-null  object \n",
      " 6   Age              10000 non-null  int64  \n",
      " 7   Tenure           9091 non-null   float64\n",
      " 8   Balance          10000 non-null  float64\n",
      " 9   NumOfProducts    10000 non-null  int64  \n",
      " 10  HasCrCard        10000 non-null  int64  \n",
      " 11  IsActiveMember   10000 non-null  int64  \n",
      " 12  EstimatedSalary  10000 non-null  float64\n",
      " 13  Exited           10000 non-null  int64  \n",
      "dtypes: float64(3), int64(8), object(3)\n",
      "memory usage: 1.1+ MB\n"
     ]
    }
   ],
   "source": [
    "# информация о данных\n",
    "df.info()"
   ]
  },
  {
   "cell_type": "code",
   "execution_count": 5,
   "metadata": {},
   "outputs": [
    {
     "data": {
      "text/html": [
       "<div>\n",
       "<style scoped>\n",
       "    .dataframe tbody tr th:only-of-type {\n",
       "        vertical-align: middle;\n",
       "    }\n",
       "\n",
       "    .dataframe tbody tr th {\n",
       "        vertical-align: top;\n",
       "    }\n",
       "\n",
       "    .dataframe thead th {\n",
       "        text-align: right;\n",
       "    }\n",
       "</style>\n",
       "<table border=\"1\" class=\"dataframe\">\n",
       "  <thead>\n",
       "    <tr style=\"text-align: right;\">\n",
       "      <th></th>\n",
       "      <th>RowNumber</th>\n",
       "      <th>CustomerId</th>\n",
       "      <th>CreditScore</th>\n",
       "      <th>Age</th>\n",
       "      <th>Tenure</th>\n",
       "      <th>Balance</th>\n",
       "      <th>NumOfProducts</th>\n",
       "      <th>HasCrCard</th>\n",
       "      <th>IsActiveMember</th>\n",
       "      <th>EstimatedSalary</th>\n",
       "      <th>Exited</th>\n",
       "    </tr>\n",
       "  </thead>\n",
       "  <tbody>\n",
       "    <tr>\n",
       "      <th>count</th>\n",
       "      <td>10000.00000</td>\n",
       "      <td>1.000000e+04</td>\n",
       "      <td>10000.000000</td>\n",
       "      <td>10000.000000</td>\n",
       "      <td>9091.000000</td>\n",
       "      <td>10000.000000</td>\n",
       "      <td>10000.000000</td>\n",
       "      <td>10000.00000</td>\n",
       "      <td>10000.000000</td>\n",
       "      <td>10000.000000</td>\n",
       "      <td>10000.000000</td>\n",
       "    </tr>\n",
       "    <tr>\n",
       "      <th>mean</th>\n",
       "      <td>5000.50000</td>\n",
       "      <td>1.569094e+07</td>\n",
       "      <td>650.528800</td>\n",
       "      <td>38.921800</td>\n",
       "      <td>4.997690</td>\n",
       "      <td>76485.889288</td>\n",
       "      <td>1.530200</td>\n",
       "      <td>0.70550</td>\n",
       "      <td>0.515100</td>\n",
       "      <td>100090.239881</td>\n",
       "      <td>0.203700</td>\n",
       "    </tr>\n",
       "    <tr>\n",
       "      <th>std</th>\n",
       "      <td>2886.89568</td>\n",
       "      <td>7.193619e+04</td>\n",
       "      <td>96.653299</td>\n",
       "      <td>10.487806</td>\n",
       "      <td>2.894723</td>\n",
       "      <td>62397.405202</td>\n",
       "      <td>0.581654</td>\n",
       "      <td>0.45584</td>\n",
       "      <td>0.499797</td>\n",
       "      <td>57510.492818</td>\n",
       "      <td>0.402769</td>\n",
       "    </tr>\n",
       "    <tr>\n",
       "      <th>min</th>\n",
       "      <td>1.00000</td>\n",
       "      <td>1.556570e+07</td>\n",
       "      <td>350.000000</td>\n",
       "      <td>18.000000</td>\n",
       "      <td>0.000000</td>\n",
       "      <td>0.000000</td>\n",
       "      <td>1.000000</td>\n",
       "      <td>0.00000</td>\n",
       "      <td>0.000000</td>\n",
       "      <td>11.580000</td>\n",
       "      <td>0.000000</td>\n",
       "    </tr>\n",
       "    <tr>\n",
       "      <th>25%</th>\n",
       "      <td>2500.75000</td>\n",
       "      <td>1.562853e+07</td>\n",
       "      <td>584.000000</td>\n",
       "      <td>32.000000</td>\n",
       "      <td>2.000000</td>\n",
       "      <td>0.000000</td>\n",
       "      <td>1.000000</td>\n",
       "      <td>0.00000</td>\n",
       "      <td>0.000000</td>\n",
       "      <td>51002.110000</td>\n",
       "      <td>0.000000</td>\n",
       "    </tr>\n",
       "    <tr>\n",
       "      <th>50%</th>\n",
       "      <td>5000.50000</td>\n",
       "      <td>1.569074e+07</td>\n",
       "      <td>652.000000</td>\n",
       "      <td>37.000000</td>\n",
       "      <td>5.000000</td>\n",
       "      <td>97198.540000</td>\n",
       "      <td>1.000000</td>\n",
       "      <td>1.00000</td>\n",
       "      <td>1.000000</td>\n",
       "      <td>100193.915000</td>\n",
       "      <td>0.000000</td>\n",
       "    </tr>\n",
       "    <tr>\n",
       "      <th>75%</th>\n",
       "      <td>7500.25000</td>\n",
       "      <td>1.575323e+07</td>\n",
       "      <td>718.000000</td>\n",
       "      <td>44.000000</td>\n",
       "      <td>7.000000</td>\n",
       "      <td>127644.240000</td>\n",
       "      <td>2.000000</td>\n",
       "      <td>1.00000</td>\n",
       "      <td>1.000000</td>\n",
       "      <td>149388.247500</td>\n",
       "      <td>0.000000</td>\n",
       "    </tr>\n",
       "    <tr>\n",
       "      <th>max</th>\n",
       "      <td>10000.00000</td>\n",
       "      <td>1.581569e+07</td>\n",
       "      <td>850.000000</td>\n",
       "      <td>92.000000</td>\n",
       "      <td>10.000000</td>\n",
       "      <td>250898.090000</td>\n",
       "      <td>4.000000</td>\n",
       "      <td>1.00000</td>\n",
       "      <td>1.000000</td>\n",
       "      <td>199992.480000</td>\n",
       "      <td>1.000000</td>\n",
       "    </tr>\n",
       "  </tbody>\n",
       "</table>\n",
       "</div>"
      ],
      "text/plain": [
       "         RowNumber    CustomerId   CreditScore           Age       Tenure  \\\n",
       "count  10000.00000  1.000000e+04  10000.000000  10000.000000  9091.000000   \n",
       "mean    5000.50000  1.569094e+07    650.528800     38.921800     4.997690   \n",
       "std     2886.89568  7.193619e+04     96.653299     10.487806     2.894723   \n",
       "min        1.00000  1.556570e+07    350.000000     18.000000     0.000000   \n",
       "25%     2500.75000  1.562853e+07    584.000000     32.000000     2.000000   \n",
       "50%     5000.50000  1.569074e+07    652.000000     37.000000     5.000000   \n",
       "75%     7500.25000  1.575323e+07    718.000000     44.000000     7.000000   \n",
       "max    10000.00000  1.581569e+07    850.000000     92.000000    10.000000   \n",
       "\n",
       "             Balance  NumOfProducts    HasCrCard  IsActiveMember  \\\n",
       "count   10000.000000   10000.000000  10000.00000    10000.000000   \n",
       "mean    76485.889288       1.530200      0.70550        0.515100   \n",
       "std     62397.405202       0.581654      0.45584        0.499797   \n",
       "min         0.000000       1.000000      0.00000        0.000000   \n",
       "25%         0.000000       1.000000      0.00000        0.000000   \n",
       "50%     97198.540000       1.000000      1.00000        1.000000   \n",
       "75%    127644.240000       2.000000      1.00000        1.000000   \n",
       "max    250898.090000       4.000000      1.00000        1.000000   \n",
       "\n",
       "       EstimatedSalary        Exited  \n",
       "count     10000.000000  10000.000000  \n",
       "mean     100090.239881      0.203700  \n",
       "std       57510.492818      0.402769  \n",
       "min          11.580000      0.000000  \n",
       "25%       51002.110000      0.000000  \n",
       "50%      100193.915000      0.000000  \n",
       "75%      149388.247500      0.000000  \n",
       "max      199992.480000      1.000000  "
      ]
     },
     "execution_count": 5,
     "metadata": {},
     "output_type": "execute_result"
    }
   ],
   "source": [
    "df.describe()"
   ]
  },
  {
   "cell_type": "markdown",
   "metadata": {},
   "source": [
    "Согласно описанию данных, датафрейм содержит следующие столбцы:\n",
    "\n",
    "**Признаки**\n",
    "* `RowNumber` — индекс строки в данных\n",
    "* `CustomerId` — уникальный идентификатор клиента\n",
    "* `Surname` — фамилия\n",
    "* `CreditScore` — кредитный рейтинг\n",
    "* `Geography` — страна проживания\n",
    "* `Gender` — пол\n",
    "* `Age` — возраст\n",
    "* `Tenure` — сколько лет человек является клиентом банка\n",
    "* `Balance` — баланс на счёте\n",
    "* `NumOfProducts` — количество продуктов банка, используемых клиентом\n",
    "* `HasCrCard` — наличие кредитной карты\n",
    "* `IsActiveMember` — активность клиента\n",
    "* `EstimatedSalary` — предполагаемая зарплата\n",
    "\n",
    "**Целевой признак**\n",
    "* `Exited` — факт ухода клиента"
   ]
  },
  {
   "cell_type": "markdown",
   "metadata": {},
   "source": [
    "## Исследование задачи"
   ]
  },
  {
   "cell_type": "markdown",
   "metadata": {},
   "source": [
    "### Подготовка данных"
   ]
  },
  {
   "cell_type": "markdown",
   "metadata": {},
   "source": [
    "В датасете присутствуют столбцы с категориальными признаками. Преобразуем их в численные методом OHE."
   ]
  },
  {
   "cell_type": "code",
   "execution_count": 6,
   "metadata": {},
   "outputs": [],
   "source": [
    "# заполнение нулевых значений\n",
    "df = df.fillna(0)"
   ]
  },
  {
   "cell_type": "code",
   "execution_count": 7,
   "metadata": {},
   "outputs": [],
   "source": [
    "# удаление столбцов, не участвующих в построении модели\n",
    "data_ohe = df.drop(['RowNumber', 'CustomerId', 'Surname'], axis=1)"
   ]
  },
  {
   "cell_type": "code",
   "execution_count": 8,
   "metadata": {},
   "outputs": [],
   "source": [
    "# преобразование категориальных переменных в численные\n",
    "data_ohe = pd.get_dummies(data_ohe, drop_first=True)"
   ]
  },
  {
   "cell_type": "code",
   "execution_count": 9,
   "metadata": {
    "scrolled": false
   },
   "outputs": [
    {
     "data": {
      "text/html": [
       "<div>\n",
       "<style scoped>\n",
       "    .dataframe tbody tr th:only-of-type {\n",
       "        vertical-align: middle;\n",
       "    }\n",
       "\n",
       "    .dataframe tbody tr th {\n",
       "        vertical-align: top;\n",
       "    }\n",
       "\n",
       "    .dataframe thead th {\n",
       "        text-align: right;\n",
       "    }\n",
       "</style>\n",
       "<table border=\"1\" class=\"dataframe\">\n",
       "  <thead>\n",
       "    <tr style=\"text-align: right;\">\n",
       "      <th></th>\n",
       "      <th>CreditScore</th>\n",
       "      <th>Age</th>\n",
       "      <th>Tenure</th>\n",
       "      <th>Balance</th>\n",
       "      <th>NumOfProducts</th>\n",
       "      <th>HasCrCard</th>\n",
       "      <th>IsActiveMember</th>\n",
       "      <th>EstimatedSalary</th>\n",
       "      <th>Exited</th>\n",
       "      <th>Geography_Germany</th>\n",
       "      <th>Geography_Spain</th>\n",
       "      <th>Gender_Male</th>\n",
       "    </tr>\n",
       "  </thead>\n",
       "  <tbody>\n",
       "    <tr>\n",
       "      <th>0</th>\n",
       "      <td>619</td>\n",
       "      <td>42</td>\n",
       "      <td>2.0</td>\n",
       "      <td>0.00</td>\n",
       "      <td>1</td>\n",
       "      <td>1</td>\n",
       "      <td>1</td>\n",
       "      <td>101348.88</td>\n",
       "      <td>1</td>\n",
       "      <td>0</td>\n",
       "      <td>0</td>\n",
       "      <td>0</td>\n",
       "    </tr>\n",
       "    <tr>\n",
       "      <th>1</th>\n",
       "      <td>608</td>\n",
       "      <td>41</td>\n",
       "      <td>1.0</td>\n",
       "      <td>83807.86</td>\n",
       "      <td>1</td>\n",
       "      <td>0</td>\n",
       "      <td>1</td>\n",
       "      <td>112542.58</td>\n",
       "      <td>0</td>\n",
       "      <td>0</td>\n",
       "      <td>1</td>\n",
       "      <td>0</td>\n",
       "    </tr>\n",
       "    <tr>\n",
       "      <th>2</th>\n",
       "      <td>502</td>\n",
       "      <td>42</td>\n",
       "      <td>8.0</td>\n",
       "      <td>159660.80</td>\n",
       "      <td>3</td>\n",
       "      <td>1</td>\n",
       "      <td>0</td>\n",
       "      <td>113931.57</td>\n",
       "      <td>1</td>\n",
       "      <td>0</td>\n",
       "      <td>0</td>\n",
       "      <td>0</td>\n",
       "    </tr>\n",
       "    <tr>\n",
       "      <th>3</th>\n",
       "      <td>699</td>\n",
       "      <td>39</td>\n",
       "      <td>1.0</td>\n",
       "      <td>0.00</td>\n",
       "      <td>2</td>\n",
       "      <td>0</td>\n",
       "      <td>0</td>\n",
       "      <td>93826.63</td>\n",
       "      <td>0</td>\n",
       "      <td>0</td>\n",
       "      <td>0</td>\n",
       "      <td>0</td>\n",
       "    </tr>\n",
       "    <tr>\n",
       "      <th>4</th>\n",
       "      <td>850</td>\n",
       "      <td>43</td>\n",
       "      <td>2.0</td>\n",
       "      <td>125510.82</td>\n",
       "      <td>1</td>\n",
       "      <td>1</td>\n",
       "      <td>1</td>\n",
       "      <td>79084.10</td>\n",
       "      <td>0</td>\n",
       "      <td>0</td>\n",
       "      <td>1</td>\n",
       "      <td>0</td>\n",
       "    </tr>\n",
       "  </tbody>\n",
       "</table>\n",
       "</div>"
      ],
      "text/plain": [
       "   CreditScore  Age  Tenure    Balance  NumOfProducts  HasCrCard  \\\n",
       "0          619   42     2.0       0.00              1          1   \n",
       "1          608   41     1.0   83807.86              1          0   \n",
       "2          502   42     8.0  159660.80              3          1   \n",
       "3          699   39     1.0       0.00              2          0   \n",
       "4          850   43     2.0  125510.82              1          1   \n",
       "\n",
       "   IsActiveMember  EstimatedSalary  Exited  Geography_Germany  \\\n",
       "0               1        101348.88       1                  0   \n",
       "1               1        112542.58       0                  0   \n",
       "2               0        113931.57       1                  0   \n",
       "3               0         93826.63       0                  0   \n",
       "4               1         79084.10       0                  0   \n",
       "\n",
       "   Geography_Spain  Gender_Male  \n",
       "0                0            0  \n",
       "1                1            0  \n",
       "2                0            0  \n",
       "3                0            0  \n",
       "4                1            0  "
      ]
     },
     "execution_count": 9,
     "metadata": {},
     "output_type": "execute_result"
    }
   ],
   "source": [
    "data_ohe.head()"
   ]
  },
  {
   "cell_type": "markdown",
   "metadata": {},
   "source": [
    "### Разбиение датасета на выборки"
   ]
  },
  {
   "cell_type": "markdown",
   "metadata": {},
   "source": [
    "Разобьем датасет на 3 выборки: обучающую, валидационную и тестовую. В обучающую выборку войдет 60 % исходных данных, а в валидиционную и тесттовую по 20 %.\n",
    "\n",
    "В даннном случае мы решаем задачу классификации. Целевым признаком будет столбец `Exited` - то есть ушел клиент из банка или нет."
   ]
  },
  {
   "cell_type": "code",
   "execution_count": 10,
   "metadata": {},
   "outputs": [],
   "source": [
    "# выделение признаков и целевого признака\n",
    "features = data_ohe.drop(['Exited'], axis=1)\n",
    "target = data_ohe['Exited']"
   ]
  },
  {
   "cell_type": "code",
   "execution_count": 11,
   "metadata": {},
   "outputs": [
    {
     "data": {
      "text/plain": [
       "0.2037"
      ]
     },
     "execution_count": 11,
     "metadata": {},
     "output_type": "execute_result"
    }
   ],
   "source": [
    "# проверка на дисбаланс\n",
    "target.mean()"
   ]
  },
  {
   "cell_type": "markdown",
   "metadata": {},
   "source": [
    "В целевом признаке присутствует дисбаланс классов: нулевых значений (клиент не ушел) больше единичных (клиент ушел). Чтобы соблюсти пропорциональность в выборках укажем при разбиении параметр stratify."
   ]
  },
  {
   "cell_type": "code",
   "execution_count": 12,
   "metadata": {},
   "outputs": [],
   "source": [
    "# разбиение датасета на тренировочную и валидационную выборки\n",
    "features_train, features_valid,  target_train, target_valid = train_test_split(features, target, \n",
    "                                                                               train_size=0.6, \n",
    "                                                                               random_state=12345, \n",
    "                                                                               stratify=target)"
   ]
  },
  {
   "cell_type": "code",
   "execution_count": 13,
   "metadata": {},
   "outputs": [],
   "source": [
    "# дополнительное разбиение валидационной выборки на валидационную и тестовую\n",
    "features_valid, features_test, target_valid, target_test = train_test_split(features_valid, target_valid, \n",
    "                                                                               train_size=0.5, \n",
    "                                                                               random_state=12345, \n",
    "                                                                               stratify=target_valid)"
   ]
  },
  {
   "cell_type": "markdown",
   "metadata": {},
   "source": [
    "Для контроля за корректностью разбиения применим метод .shape"
   ]
  },
  {
   "cell_type": "code",
   "execution_count": 14,
   "metadata": {},
   "outputs": [
    {
     "data": {
      "text/plain": [
       "'features_train'"
      ]
     },
     "metadata": {},
     "output_type": "display_data"
    },
    {
     "data": {
      "text/plain": [
       "(6000, 11)"
      ]
     },
     "metadata": {},
     "output_type": "display_data"
    },
    {
     "data": {
      "text/plain": [
       "'target_train'"
      ]
     },
     "metadata": {},
     "output_type": "display_data"
    },
    {
     "data": {
      "text/plain": [
       "(6000,)"
      ]
     },
     "metadata": {},
     "output_type": "display_data"
    },
    {
     "data": {
      "text/plain": [
       "'features_valid'"
      ]
     },
     "metadata": {},
     "output_type": "display_data"
    },
    {
     "data": {
      "text/plain": [
       "(2000, 11)"
      ]
     },
     "metadata": {},
     "output_type": "display_data"
    },
    {
     "data": {
      "text/plain": [
       "'target_valid'"
      ]
     },
     "metadata": {},
     "output_type": "display_data"
    },
    {
     "data": {
      "text/plain": [
       "(2000,)"
      ]
     },
     "metadata": {},
     "output_type": "display_data"
    },
    {
     "data": {
      "text/plain": [
       "'features_test'"
      ]
     },
     "metadata": {},
     "output_type": "display_data"
    },
    {
     "data": {
      "text/plain": [
       "(2000, 11)"
      ]
     },
     "metadata": {},
     "output_type": "display_data"
    },
    {
     "data": {
      "text/plain": [
       "'target_test'"
      ]
     },
     "metadata": {},
     "output_type": "display_data"
    },
    {
     "data": {
      "text/plain": [
       "(2000,)"
      ]
     },
     "metadata": {},
     "output_type": "display_data"
    }
   ],
   "source": [
    "display('features_train', features_train.shape)\n",
    "display('target_train', target_train.shape)\n",
    "display('features_valid', features_valid.shape)\n",
    "display('target_valid', target_valid.shape)\n",
    "display('features_test', features_test.shape)\n",
    "display('target_test', target_test.shape)"
   ]
  },
  {
   "cell_type": "code",
   "execution_count": 15,
   "metadata": {},
   "outputs": [
    {
     "name": "stdout",
     "output_type": "stream",
     "text": [
      "Collecting fast_ml\n",
      "  Downloading fast_ml-3.68-py3-none-any.whl (42 kB)\n",
      "Installing collected packages: fast-ml\n",
      "Successfully installed fast-ml-3.68\n"
     ]
    }
   ],
   "source": [
    "#Kод ревьюера ( пример )\n",
    "!pip install fast_ml\n",
    "from fast_ml.model_development import train_valid_test_split\n",
    "\n",
    "X_train, y_train, X_valid, y_valid, X_test, y_test = train_valid_test_split(df, target = 'Exited', \n",
    "                                                                            train_size=0.6, valid_size=0.2, test_size=0.2)\n"
   ]
  },
  {
   "cell_type": "code",
   "execution_count": 16,
   "metadata": {},
   "outputs": [
    {
     "name": "stdout",
     "output_type": "stream",
     "text": [
      "Обучающая выборка: (6000, 13)\n",
      "Валидационная выборка: (2000, 13)\n",
      "Тестовая выборка: (2000, 13)\n"
     ]
    }
   ],
   "source": [
    "#Kод ревьюера ( пример )\n",
    "print('Обучающая выборка:', X_train.shape)\n",
    "print('Валидационная выборка:', X_valid.shape)\n",
    "print('Тестовая выборка:', X_test.shape)"
   ]
  },
  {
   "cell_type": "markdown",
   "metadata": {},
   "source": [
    "Отмасштабируем численные признаки."
   ]
  },
  {
   "cell_type": "code",
   "execution_count": 17,
   "metadata": {},
   "outputs": [],
   "source": [
    "# численные признаки\n",
    "numeric = ['CreditScore', 'Age', 'Tenure', 'Balance', 'NumOfProducts', 'EstimatedSalary']"
   ]
  },
  {
   "cell_type": "code",
   "execution_count": 18,
   "metadata": {
    "scrolled": true
   },
   "outputs": [],
   "source": [
    "pd.options.mode.chained_assignment = None\n",
    "scaler = StandardScaler()\n",
    "scaler.fit(features_train[numeric]) \n",
    "features_train[numeric] = scaler.transform(features_train[numeric])\n",
    "features_valid[numeric] = scaler.transform(features_valid[numeric])\n",
    "features_test[numeric] = scaler.transform(features_test[numeric])"
   ]
  },
  {
   "cell_type": "code",
   "execution_count": 19,
   "metadata": {},
   "outputs": [
    {
     "data": {
      "text/html": [
       "<div>\n",
       "<style scoped>\n",
       "    .dataframe tbody tr th:only-of-type {\n",
       "        vertical-align: middle;\n",
       "    }\n",
       "\n",
       "    .dataframe tbody tr th {\n",
       "        vertical-align: top;\n",
       "    }\n",
       "\n",
       "    .dataframe thead th {\n",
       "        text-align: right;\n",
       "    }\n",
       "</style>\n",
       "<table border=\"1\" class=\"dataframe\">\n",
       "  <thead>\n",
       "    <tr style=\"text-align: right;\">\n",
       "      <th></th>\n",
       "      <th>CreditScore</th>\n",
       "      <th>Age</th>\n",
       "      <th>Tenure</th>\n",
       "      <th>Balance</th>\n",
       "      <th>NumOfProducts</th>\n",
       "      <th>HasCrCard</th>\n",
       "      <th>IsActiveMember</th>\n",
       "      <th>EstimatedSalary</th>\n",
       "      <th>Geography_Germany</th>\n",
       "      <th>Geography_Spain</th>\n",
       "      <th>Gender_Male</th>\n",
       "    </tr>\n",
       "  </thead>\n",
       "  <tbody>\n",
       "    <tr>\n",
       "      <th>2837</th>\n",
       "      <td>-1.040434</td>\n",
       "      <td>0.953312</td>\n",
       "      <td>0.467449</td>\n",
       "      <td>0.774657</td>\n",
       "      <td>-0.914708</td>\n",
       "      <td>0</td>\n",
       "      <td>1</td>\n",
       "      <td>-0.119110</td>\n",
       "      <td>1</td>\n",
       "      <td>0</td>\n",
       "      <td>0</td>\n",
       "    </tr>\n",
       "    <tr>\n",
       "      <th>9925</th>\n",
       "      <td>0.454006</td>\n",
       "      <td>-0.095244</td>\n",
       "      <td>-1.461501</td>\n",
       "      <td>1.910540</td>\n",
       "      <td>-0.914708</td>\n",
       "      <td>1</td>\n",
       "      <td>1</td>\n",
       "      <td>-0.258658</td>\n",
       "      <td>0</td>\n",
       "      <td>0</td>\n",
       "      <td>0</td>\n",
       "    </tr>\n",
       "    <tr>\n",
       "      <th>8746</th>\n",
       "      <td>0.103585</td>\n",
       "      <td>-0.476537</td>\n",
       "      <td>1.110432</td>\n",
       "      <td>0.481608</td>\n",
       "      <td>0.820981</td>\n",
       "      <td>0</td>\n",
       "      <td>1</td>\n",
       "      <td>1.422836</td>\n",
       "      <td>0</td>\n",
       "      <td>0</td>\n",
       "      <td>1</td>\n",
       "    </tr>\n",
       "    <tr>\n",
       "      <th>660</th>\n",
       "      <td>-0.184996</td>\n",
       "      <td>0.190726</td>\n",
       "      <td>-1.461501</td>\n",
       "      <td>0.088439</td>\n",
       "      <td>-0.914708</td>\n",
       "      <td>1</td>\n",
       "      <td>1</td>\n",
       "      <td>-1.160427</td>\n",
       "      <td>1</td>\n",
       "      <td>0</td>\n",
       "      <td>0</td>\n",
       "    </tr>\n",
       "    <tr>\n",
       "      <th>3610</th>\n",
       "      <td>-0.720933</td>\n",
       "      <td>1.620574</td>\n",
       "      <td>-1.140009</td>\n",
       "      <td>0.879129</td>\n",
       "      <td>-0.914708</td>\n",
       "      <td>1</td>\n",
       "      <td>0</td>\n",
       "      <td>0.113236</td>\n",
       "      <td>0</td>\n",
       "      <td>0</td>\n",
       "      <td>0</td>\n",
       "    </tr>\n",
       "  </tbody>\n",
       "</table>\n",
       "</div>"
      ],
      "text/plain": [
       "      CreditScore       Age    Tenure   Balance  NumOfProducts  HasCrCard  \\\n",
       "2837    -1.040434  0.953312  0.467449  0.774657      -0.914708          0   \n",
       "9925     0.454006 -0.095244 -1.461501  1.910540      -0.914708          1   \n",
       "8746     0.103585 -0.476537  1.110432  0.481608       0.820981          0   \n",
       "660     -0.184996  0.190726 -1.461501  0.088439      -0.914708          1   \n",
       "3610    -0.720933  1.620574 -1.140009  0.879129      -0.914708          1   \n",
       "\n",
       "      IsActiveMember  EstimatedSalary  Geography_Germany  Geography_Spain  \\\n",
       "2837               1        -0.119110                  1                0   \n",
       "9925               1        -0.258658                  0                0   \n",
       "8746               1         1.422836                  0                0   \n",
       "660                1        -1.160427                  1                0   \n",
       "3610               0         0.113236                  0                0   \n",
       "\n",
       "      Gender_Male  \n",
       "2837            0  \n",
       "9925            0  \n",
       "8746            1  \n",
       "660             0  \n",
       "3610            0  "
      ]
     },
     "execution_count": 19,
     "metadata": {},
     "output_type": "execute_result"
    }
   ],
   "source": [
    "features_train.head()"
   ]
  },
  {
   "cell_type": "markdown",
   "metadata": {},
   "source": [
    "### Обучение модели"
   ]
  },
  {
   "cell_type": "markdown",
   "metadata": {},
   "source": [
    "**Решающее дерево**\n",
    "\n",
    "Обучим модель решающего дерева и посчитает значение параметра Accuracy на валидационной выборке."
   ]
  },
  {
   "cell_type": "code",
   "execution_count": 20,
   "metadata": {},
   "outputs": [],
   "source": [
    "# модель решающего дерева\n",
    "model_tree = DecisionTreeClassifier(random_state=12345)\n",
    "model_tree.fit(features_train, target_train)\n",
    "\n",
    "predicted_valid_tree = model_tree.predict(features_valid)\n",
    "accuracy_valid_tree = accuracy_score(target_valid, predicted_valid_tree)"
   ]
  },
  {
   "cell_type": "code",
   "execution_count": 21,
   "metadata": {},
   "outputs": [
    {
     "data": {
      "text/plain": [
       "0.79"
      ]
     },
     "execution_count": 21,
     "metadata": {},
     "output_type": "execute_result"
    }
   ],
   "source": [
    "accuracy_valid_tree"
   ]
  },
  {
   "cell_type": "markdown",
   "metadata": {},
   "source": [
    "**Построем также ROC-кривую и иземрим площадь под ней (AUC)**"
   ]
  },
  {
   "cell_type": "code",
   "execution_count": 22,
   "metadata": {},
   "outputs": [
    {
     "data": {
      "image/png": "[encoded data removed]",
      "text/plain": [
       "<Figure size 432x288 with 1 Axes>"
      ]
     },
     "metadata": {
      "needs_background": "light"
     },
     "output_type": "display_data"
    }
   ],
   "source": [
    "probabilities_valid = model_tree.predict_proba(features_valid)\n",
    "probabilities_one_valid = probabilities_valid[:, 1]\n",
    "\n",
    "fpr, tpr, thresholds = roc_curve(target_valid, probabilities_one_valid)\n",
    "\n",
    "plt.figure()\n",
    "plt.plot(fpr, tpr)\n",
    "\n",
    "# ROC-кривая случайной модели \n",
    "plt.plot([0, 1], [0, 1], linestyle='--')\n",
    "\n",
    "plt.xlim([0, 1])\n",
    "plt.ylim([0, 1])\n",
    "\n",
    "plt.xlabel(\"False Positive Rate\")\n",
    "plt.ylabel(\"True Positive Rate\")\n",
    "plt.title(\"ROC-кривая\")\n",
    "plt.grid(True)\n",
    "plt.show()"
   ]
  },
  {
   "cell_type": "code",
   "execution_count": 23,
   "metadata": {},
   "outputs": [
    {
     "data": {
      "text/plain": [
       "0.6912750024632969"
      ]
     },
     "execution_count": 23,
     "metadata": {},
     "output_type": "execute_result"
    }
   ],
   "source": [
    "auc_roc_tree = roc_auc_score(target_valid, probabilities_one_valid)\n",
    "auc_roc_tree"
   ]
  },
  {
   "cell_type": "markdown",
   "metadata": {},
   "source": [
    "**Случайный лес**"
   ]
  },
  {
   "cell_type": "code",
   "execution_count": 24,
   "metadata": {},
   "outputs": [],
   "source": [
    "# модель Случайный лес\n",
    "model_forest = RandomForestClassifier(random_state=12345)\n",
    "model_forest.fit(features_train, target_train)\n",
    "\n",
    "predicted_valid_forest = model_forest.predict(features_valid)\n",
    "accuracy_valid_forest = accuracy_score(target_valid, predicted_valid_forest)"
   ]
  },
  {
   "cell_type": "code",
   "execution_count": 25,
   "metadata": {
    "scrolled": true
   },
   "outputs": [
    {
     "data": {
      "text/plain": [
       "0.8685"
      ]
     },
     "execution_count": 25,
     "metadata": {},
     "output_type": "execute_result"
    }
   ],
   "source": [
    "accuracy_valid_forest"
   ]
  },
  {
   "cell_type": "markdown",
   "metadata": {},
   "source": [
    "**Построем также ROC-кривую и иземрим площадь под ней (AUC)**"
   ]
  },
  {
   "cell_type": "code",
   "execution_count": 26,
   "metadata": {},
   "outputs": [
    {
     "data": {
      "image/png": "[encoded data removed]",
      "text/plain": [
       "<Figure size 432x288 with 1 Axes>"
      ]
     },
     "metadata": {
      "needs_background": "light"
     },
     "output_type": "display_data"
    }
   ],
   "source": [
    "probabilities_valid = model_forest.predict_proba(features_valid)\n",
    "probabilities_one_valid = probabilities_valid[:, 1]\n",
    "\n",
    "fpr, tpr, thresholds = roc_curve(target_valid, probabilities_one_valid)\n",
    "\n",
    "plt.figure()\n",
    "plt.plot(fpr, tpr)\n",
    "\n",
    "# ROC-кривая случайной модели \n",
    "plt.plot([0, 1], [0, 1], linestyle='--')\n",
    "\n",
    "plt.xlim([0, 1])\n",
    "plt.ylim([0, 1])\n",
    "\n",
    "plt.xlabel(\"False Positive Rate\")\n",
    "plt.ylabel(\"True Positive Rate\")\n",
    "plt.title(\"ROC-кривая\")\n",
    "plt.grid(True)\n",
    "plt.show()"
   ]
  },
  {
   "cell_type": "code",
   "execution_count": 27,
   "metadata": {},
   "outputs": [
    {
     "data": {
      "text/plain": [
       "0.8665770642427826"
      ]
     },
     "execution_count": 27,
     "metadata": {},
     "output_type": "execute_result"
    }
   ],
   "source": [
    "auc_roc_forest = roc_auc_score(target_valid, probabilities_one_valid)\n",
    "auc_roc_forest"
   ]
  },
  {
   "cell_type": "markdown",
   "metadata": {},
   "source": [
    "**Логистическая регрессия**"
   ]
  },
  {
   "cell_type": "code",
   "execution_count": 28,
   "metadata": {},
   "outputs": [],
   "source": [
    "model_forest_logist = LogisticRegression(random_state=12345, solver='lbfgs')\n",
    "model_forest_logist.fit(features_train, target_train)\n",
    "\n",
    "predicted_valid_logist = model_forest_logist.predict(features_valid)\n",
    "accuracy_valid_logist = accuracy_score(target_valid, predicted_valid_logist)"
   ]
  },
  {
   "cell_type": "code",
   "execution_count": 29,
   "metadata": {},
   "outputs": [
    {
     "data": {
      "text/plain": [
       "0.8105"
      ]
     },
     "execution_count": 29,
     "metadata": {},
     "output_type": "execute_result"
    }
   ],
   "source": [
    "accuracy_valid_logist"
   ]
  },
  {
   "cell_type": "markdown",
   "metadata": {},
   "source": [
    "**Построем также ROC-кривую и иземрим площадь под ней (AUC)**"
   ]
  },
  {
   "cell_type": "code",
   "execution_count": 30,
   "metadata": {},
   "outputs": [
    {
     "data": {
      "image/png": "[encoded data removed]",
      "text/plain": [
       "<Figure size 432x288 with 1 Axes>"
      ]
     },
     "metadata": {
      "needs_background": "light"
     },
     "output_type": "display_data"
    }
   ],
   "source": [
    "probabilities_valid = model_forest_logist.predict_proba(features_valid)\n",
    "probabilities_one_valid = probabilities_valid[:, 1]\n",
    "\n",
    "fpr, tpr, thresholds = roc_curve(target_valid, probabilities_one_valid)\n",
    "\n",
    "plt.figure()\n",
    "plt.plot(fpr, tpr)\n",
    "\n",
    "# ROC-кривая случайной модели \n",
    "plt.plot([0, 1], [0, 1], linestyle='--')\n",
    "\n",
    "plt.xlim([0, 1])\n",
    "plt.ylim([0, 1])\n",
    "\n",
    "plt.xlabel(\"False Positive Rate\")\n",
    "plt.ylabel(\"True Positive Rate\")\n",
    "plt.title(\"ROC-кривая\")\n",
    "plt.grid(True)\n",
    "plt.show()"
   ]
  },
  {
   "cell_type": "code",
   "execution_count": 31,
   "metadata": {},
   "outputs": [
    {
     "data": {
      "text/plain": [
       "0.7876468740762637"
      ]
     },
     "execution_count": 31,
     "metadata": {},
     "output_type": "execute_result"
    }
   ],
   "source": [
    "auc_roc_logist = roc_auc_score(target_valid, probabilities_one_valid)\n",
    "auc_roc_logist"
   ]
  },
  {
   "cell_type": "markdown",
   "metadata": {},
   "source": [
    "* Лучшее значение параметра accuracy  и AUC-ROC достигается для модели случайного леса. \n",
    "\n",
    "**Проверим модели на адекватность.**"
   ]
  },
  {
   "cell_type": "markdown",
   "metadata": {},
   "source": [
    "### Проверка модели на адекватность"
   ]
  },
  {
   "cell_type": "markdown",
   "metadata": {},
   "source": [
    "Сравним значение параметра accuracy построенных моделей с данным параметром для константной модели, которая всегда предсказывает 0."
   ]
  },
  {
   "cell_type": "code",
   "execution_count": 32,
   "metadata": {},
   "outputs": [],
   "source": [
    "random_model = DummyClassifier(strategy = 'most_frequent', random_state = 12345)\n",
    "random_model.fit(features_train, target_train)\n",
    "random_score = random_model.score(features_test, target_test)"
   ]
  },
  {
   "cell_type": "code",
   "execution_count": 33,
   "metadata": {},
   "outputs": [
    {
     "data": {
      "text/plain": [
       "0.7965"
      ]
     },
     "execution_count": 33,
     "metadata": {},
     "output_type": "execute_result"
    }
   ],
   "source": [
    "random_score"
   ]
  },
  {
   "cell_type": "markdown",
   "metadata": {},
   "source": [
    "### Вывод"
   ]
  },
  {
   "cell_type": "markdown",
   "metadata": {},
   "source": [
    "**Константная модель имеет практически такое же значение accuracy, как и построенные модели. Значит они работают некорректно. Это вызвано дисбалансом классов: количество нулей в целевом признаке значительно выше, чем единиц.** "
   ]
  },
  {
   "cell_type": "markdown",
   "metadata": {},
   "source": [
    "## Борьба с дисбалансом"
   ]
  },
  {
   "cell_type": "markdown",
   "metadata": {},
   "source": [
    "Для начала посчитаем значение f1-меры без учета дисбаланса классов:"
   ]
  },
  {
   "cell_type": "code",
   "execution_count": 34,
   "metadata": {},
   "outputs": [
    {
     "data": {
      "text/plain": [
       "'Decicion tree:'"
      ]
     },
     "metadata": {},
     "output_type": "display_data"
    },
    {
     "data": {
      "text/plain": [
       "0.5047169811320754"
      ]
     },
     "metadata": {},
     "output_type": "display_data"
    },
    {
     "data": {
      "text/plain": [
       "'Random forest:'"
      ]
     },
     "metadata": {},
     "output_type": "display_data"
    },
    {
     "data": {
      "text/plain": [
       "0.6103703703703703"
      ]
     },
     "metadata": {},
     "output_type": "display_data"
    },
    {
     "data": {
      "text/plain": [
       "'Logistic regression:'"
      ]
     },
     "metadata": {},
     "output_type": "display_data"
    },
    {
     "data": {
      "text/plain": [
       "0.30458715596330277"
      ]
     },
     "metadata": {},
     "output_type": "display_data"
    }
   ],
   "source": [
    "display('Decicion tree:', f1_score(target_valid, predicted_valid_tree))\n",
    "display('Random forest:', f1_score(target_valid, predicted_valid_forest))\n",
    "display('Logistic regression:', f1_score(target_valid, predicted_valid_logist))"
   ]
  },
  {
   "cell_type": "markdown",
   "metadata": {},
   "source": [
    "### Логистическая регрессия с учетом дисбаланса"
   ]
  },
  {
   "cell_type": "markdown",
   "metadata": {},
   "source": [
    "Обучим модель логистической регрессии с учетом дисбаланса классов.Зададим параметр class_weight='balanced' и посмотрим, как изменится значение f1-меры."
   ]
  },
  {
   "cell_type": "code",
   "execution_count": 35,
   "metadata": {},
   "outputs": [
    {
     "name": "stdout",
     "output_type": "stream",
     "text": [
      "F1: 0.5302897278314311\n"
     ]
    }
   ],
   "source": [
    "model_logist_balanced = LogisticRegression(random_state=12345, solver='liblinear', class_weight='balanced')\n",
    "model_logist_balanced.fit(features_train, target_train)\n",
    "predicted_valid_log = model_logist_balanced.predict(features_valid)\n",
    "\n",
    "print(\"F1:\", f1_score(target_valid, predicted_valid_log))"
   ]
  },
  {
   "cell_type": "code",
   "execution_count": 36,
   "metadata": {
    "scrolled": true
   },
   "outputs": [
    {
     "data": {
      "image/png": "[encoded data removed]",
      "text/plain": [
       "<Figure size 432x288 with 1 Axes>"
      ]
     },
     "metadata": {
      "needs_background": "light"
     },
     "output_type": "display_data"
    }
   ],
   "source": [
    "probabilities_valid = model_logist_balanced.predict_proba(features_valid)\n",
    "probabilities_one_valid = probabilities_valid[:, 1]\n",
    "\n",
    "fpr, tpr, thresholds = roc_curve(target_valid, probabilities_one_valid)\n",
    "\n",
    "plt.figure()\n",
    "plt.plot(fpr, tpr)\n",
    "\n",
    "# ROC-кривая случайной модели \n",
    "plt.plot([0, 1], [0, 1], linestyle='--')\n",
    "\n",
    "plt.xlim([0, 1])\n",
    "plt.ylim([0, 1])\n",
    "\n",
    "plt.xlabel(\"False Positive Rate\")\n",
    "plt.ylabel(\"True Positive Rate\")\n",
    "plt.title(\"ROC-кривая\")\n",
    "plt.grid(True)\n",
    "plt.show()"
   ]
  },
  {
   "cell_type": "code",
   "execution_count": 37,
   "metadata": {},
   "outputs": [
    {
     "data": {
      "text/plain": [
       "0.7937758646172037"
      ]
     },
     "execution_count": 37,
     "metadata": {},
     "output_type": "execute_result"
    }
   ],
   "source": [
    "auc_roc_logist_balance = roc_auc_score(target_valid, probabilities_one_valid)\n",
    "auc_roc_logist_balance"
   ]
  },
  {
   "cell_type": "markdown",
   "metadata": {},
   "source": [
    "**Значение f1 увеличилось с 0.3 до 0.53, а AUC-ROC c 0.78 до 0.79**"
   ]
  },
  {
   "cell_type": "markdown",
   "metadata": {},
   "source": [
    "#### Увеличение выборки"
   ]
  },
  {
   "cell_type": "markdown",
   "metadata": {},
   "source": [
    " Теперь попробуем также увеличить размер обучающей выборки."
   ]
  },
  {
   "cell_type": "code",
   "execution_count": 38,
   "metadata": {},
   "outputs": [],
   "source": [
    "def upsample(features, target, repeat):\n",
    "    \"\"\"\n",
    "    Функция приниамет на вход 3 параметра: признаки, целевой признак и количество повторений. Затем:\n",
    "    - разделяет выборку на отрицательные и положительные объекты;\n",
    "    - копирует несколько раз положительные объекты;\n",
    "    - с учётом полученных данных создает новую выборку;\n",
    "    - перемешивает данные: идущие друг за другом одинаковые вопросы не помогут обучению.\n",
    "    \"\"\"\n",
    "    features_zeros = features[target == 0]\n",
    "    features_ones = features[target == 1]\n",
    "    target_zeros = target[target == 0]\n",
    "    target_ones = target[target == 1]\n",
    "\n",
    "    features_upsampled = pd.concat([features_zeros] + [features_ones] * repeat)\n",
    "    target_upsampled = pd.concat([target_zeros] + [target_ones] * repeat)\n",
    "    \n",
    "    features_upsampled, target_upsampled = shuffle(\n",
    "        features_upsampled, target_upsampled, random_state=12345)\n",
    "    \n",
    "    return features_upsampled, target_upsampled"
   ]
  },
  {
   "cell_type": "code",
   "execution_count": 39,
   "metadata": {},
   "outputs": [
    {
     "name": "stdout",
     "output_type": "stream",
     "text": [
      "F1: 0.5289982425307558\n"
     ]
    }
   ],
   "source": [
    "features_upsampled, target_upsampled = upsample(features_train, target_train, 4)\n",
    "\n",
    "# обучение модели\n",
    "model = LogisticRegression(random_state=12345, solver='liblinear', class_weight='balanced')\n",
    "model.fit(features_upsampled, target_upsampled)\n",
    "predicted_valid = model.predict(features_valid)\n",
    "\n",
    "\n",
    "print(\"F1:\", f1_score(target_valid, predicted_valid))"
   ]
  },
  {
   "cell_type": "code",
   "execution_count": 40,
   "metadata": {},
   "outputs": [
    {
     "data": {
      "image/png": "[encoded data removed]",
      "text/plain": [
       "<Figure size 432x288 with 1 Axes>"
      ]
     },
     "metadata": {
      "needs_background": "light"
     },
     "output_type": "display_data"
    }
   ],
   "source": [
    "probabilities_valid = model.predict_proba(features_valid)\n",
    "probabilities_one_valid = probabilities_valid[:, 1]\n",
    "\n",
    "fpr, tpr, thresholds = roc_curve(target_valid, probabilities_one_valid)\n",
    "\n",
    "plt.figure()\n",
    "plt.plot(fpr, tpr)\n",
    "\n",
    "# ROC-кривая случайной модели \n",
    "plt.plot([0, 1], [0, 1], linestyle='--')\n",
    "\n",
    "plt.xlim([0, 1])\n",
    "plt.ylim([0, 1])\n",
    "\n",
    "plt.xlabel(\"False Positive Rate\")\n",
    "plt.ylabel(\"True Positive Rate\")\n",
    "plt.title(\"ROC-кривая\")\n",
    "plt.grid(True)\n",
    "plt.show()"
   ]
  },
  {
   "cell_type": "code",
   "execution_count": 41,
   "metadata": {},
   "outputs": [
    {
     "data": {
      "text/plain": [
       "0.7937666272539168"
      ]
     },
     "execution_count": 41,
     "metadata": {},
     "output_type": "execute_result"
    }
   ],
   "source": [
    "auc_roc_logist_up = roc_auc_score(target_valid, probabilities_one_valid)\n",
    "auc_roc_logist_up"
   ]
  },
  {
   "cell_type": "markdown",
   "metadata": {},
   "source": [
    "Значение f1 практически не изменилось, AUC-ROC немного выросло."
   ]
  },
  {
   "cell_type": "markdown",
   "metadata": {},
   "source": [
    "#### Уменьшение выборки"
   ]
  },
  {
   "cell_type": "code",
   "execution_count": 42,
   "metadata": {},
   "outputs": [],
   "source": [
    "def downsample(features, target, fraction):\n",
    "    \"\"\"\n",
    "    Функция приниамет на вход 3 параметра: признаки, целевой признак и долю отрицательных объектов, которые нужно сохранить. Затем:\n",
    "    - разделяет обучающую выборку на отрицательные и положительные объекты;\n",
    "    - случайным образом отбрасывает часть из отрицательных объектов;\n",
    "    - с учётом полученных данных создает новую обучающую выборку;\n",
    "    - перемешивает данные. Положительные не должны идти следом за отрицательными: алгоритмам будет сложнее обучаться.\n",
    "    \"\"\"\n",
    "    features_zeros = features[target == 0]\n",
    "    features_ones = features[target == 1]\n",
    "    target_zeros = target[target == 0]\n",
    "    target_ones = target[target == 1]\n",
    "\n",
    "    features_downsampled = pd.concat(\n",
    "        [features_zeros.sample(frac=fraction, random_state=12345)] + [features_ones])\n",
    "    target_downsampled = pd.concat(\n",
    "        [target_zeros.sample(frac=fraction, random_state=12345)] + [target_ones])\n",
    "    \n",
    "    features_downsampled, target_downsampled = shuffle(\n",
    "        features_downsampled, target_downsampled, random_state=12345)\n",
    "    \n",
    "    return features_downsampled, target_downsampled"
   ]
  },
  {
   "cell_type": "code",
   "execution_count": 43,
   "metadata": {},
   "outputs": [
    {
     "name": "stdout",
     "output_type": "stream",
     "text": [
      "F1: 0.525217391304348\n"
     ]
    }
   ],
   "source": [
    "features_downsampled, target_downsampled = downsample(features_train, target_train, 0.25)\n",
    "\n",
    "# обучение модели\n",
    "model = LogisticRegression(random_state=12345, solver='liblinear', class_weight='balanced')\n",
    "model.fit(features_downsampled, target_downsampled)\n",
    "predicted_valid = model.predict(features_valid)\n",
    "\n",
    "print(\"F1:\", f1_score(target_valid, predicted_valid))"
   ]
  },
  {
   "cell_type": "code",
   "execution_count": 44,
   "metadata": {},
   "outputs": [
    {
     "data": {
      "image/png": "[encoded data removed]",
      "text/plain": [
       "<Figure size 432x288 with 1 Axes>"
      ]
     },
     "metadata": {
      "needs_background": "light"
     },
     "output_type": "display_data"
    }
   ],
   "source": [
    "probabilities_valid = model.predict_proba(features_valid)\n",
    "probabilities_one_valid = probabilities_valid[:, 1]\n",
    "\n",
    "fpr, tpr, thresholds = roc_curve(target_valid, probabilities_one_valid)\n",
    "\n",
    "plt.figure()\n",
    "plt.plot(fpr, tpr)\n",
    "\n",
    "# ROC-кривая случайной модели \n",
    "plt.plot([0, 1], [0, 1], linestyle='--')\n",
    "\n",
    "plt.xlim([0, 1])\n",
    "plt.ylim([0, 1])\n",
    "\n",
    "plt.xlabel(\"False Positive Rate\")\n",
    "plt.ylabel(\"True Positive Rate\")\n",
    "plt.title(\"ROC-кривая\")\n",
    "plt.grid(True)\n",
    "plt.show()"
   ]
  },
  {
   "cell_type": "code",
   "execution_count": 45,
   "metadata": {},
   "outputs": [
    {
     "data": {
      "text/plain": [
       "0.7926288920090651"
      ]
     },
     "execution_count": 45,
     "metadata": {},
     "output_type": "execute_result"
    }
   ],
   "source": [
    "auc_roc_logist_down = roc_auc_score(target_valid, probabilities_one_valid)\n",
    "auc_roc_logist_down"
   ]
  },
  {
   "cell_type": "markdown",
   "metadata": {},
   "source": [
    "Значение f1 практически не изменилось, AUC-ROC немного выросло."
   ]
  },
  {
   "cell_type": "markdown",
   "metadata": {},
   "source": [
    "### Случайный лес с учетом дисбаланса"
   ]
  },
  {
   "cell_type": "code",
   "execution_count": 46,
   "metadata": {},
   "outputs": [
    {
     "name": "stdout",
     "output_type": "stream",
     "text": [
      "F1: 0.6077872744539412\n"
     ]
    }
   ],
   "source": [
    "# уменьшение выборки\n",
    "model_forest = RandomForestClassifier(random_state=12345, class_weight='balanced', n_estimators=80, max_depth=22)\n",
    "model_forest.fit(features_downsampled, target_downsampled)\n",
    "\n",
    "predicted_valid_forest = model_forest.predict(features_valid)\n",
    "\n",
    "print(\"F1:\", f1_score(target_valid, predicted_valid_forest))"
   ]
  },
  {
   "cell_type": "code",
   "execution_count": 47,
   "metadata": {},
   "outputs": [
    {
     "name": "stdout",
     "output_type": "stream",
     "text": [
      "F1: 0.6480446927374303\n"
     ]
    }
   ],
   "source": [
    "# увеличение выборки\n",
    "model_forest = RandomForestClassifier(random_state=12345, class_weight='balanced', n_estimators=60, max_depth=10)\n",
    "model_forest.fit(features_upsampled, target_upsampled)\n",
    "\n",
    "predicted_valid_forest = model_forest.predict(features_valid)\n",
    "\n",
    "best_model = model_forest\n",
    "\n",
    "print(\"F1:\", f1_score(target_valid, predicted_valid_forest))"
   ]
  },
  {
   "cell_type": "markdown",
   "metadata": {},
   "source": [
    "Построим для данной модели ROC-кривую."
   ]
  },
  {
   "cell_type": "code",
   "execution_count": 48,
   "metadata": {},
   "outputs": [
    {
     "data": {
      "image/png": "[encoded data removed]",
      "text/plain": [
       "<Figure size 432x288 with 1 Axes>"
      ]
     },
     "metadata": {
      "needs_background": "light"
     },
     "output_type": "display_data"
    }
   ],
   "source": [
    "probabilities_valid = model_forest.predict_proba(features_valid)\n",
    "probabilities_one_valid = probabilities_valid[:, 1]\n",
    "\n",
    "fpr, tpr, thresholds = roc_curve(target_valid, probabilities_one_valid)\n",
    "\n",
    "plt.figure()\n",
    "plt.plot(fpr, tpr)\n",
    "\n",
    "# ROC-кривая случайной модели \n",
    "plt.plot([0, 1], [0, 1], linestyle='--')\n",
    "\n",
    "plt.xlim([0, 1])\n",
    "plt.ylim([0, 1])\n",
    "\n",
    "plt.xlabel(\"False Positive Rate\")\n",
    "plt.ylabel(\"True Positive Rate\")\n",
    "plt.title(\"ROC-кривая\")\n",
    "plt.grid(True)\n",
    "plt.show()"
   ]
  },
  {
   "cell_type": "code",
   "execution_count": 49,
   "metadata": {},
   "outputs": [
    {
     "data": {
      "text/plain": [
       "0.8678379643314613"
      ]
     },
     "execution_count": 49,
     "metadata": {},
     "output_type": "execute_result"
    }
   ],
   "source": [
    "auc_roc = roc_auc_score(target_valid, probabilities_one_valid)\n",
    "auc_roc"
   ]
  },
  {
   "cell_type": "markdown",
   "metadata": {},
   "source": [
    "### Решающее дерево с учетом дисбаланса"
   ]
  },
  {
   "cell_type": "code",
   "execution_count": 50,
   "metadata": {},
   "outputs": [
    {
     "name": "stdout",
     "output_type": "stream",
     "text": [
      "F1: 0.5109612141652613\n"
     ]
    }
   ],
   "source": [
    "# уменьшение выборки\n",
    "model_tree = DecisionTreeClassifier(random_state=12345, class_weight='balanced')\n",
    "model_tree.fit(features_downsampled, target_downsampled)\n",
    "\n",
    "predicted_valid_tree = model_tree.predict(features_valid)\n",
    "\n",
    "print(\"F1:\", f1_score(target_valid, predicted_valid_tree))"
   ]
  },
  {
   "cell_type": "markdown",
   "metadata": {},
   "source": [
    "Построим ROC-кривую для данной модели"
   ]
  },
  {
   "cell_type": "code",
   "execution_count": 51,
   "metadata": {},
   "outputs": [
    {
     "data": {
      "image/png": "[encoded data removed]",
      "text/plain": [
       "<Figure size 432x288 with 1 Axes>"
      ]
     },
     "metadata": {
      "needs_background": "light"
     },
     "output_type": "display_data"
    }
   ],
   "source": [
    "probabilities_valid = model_tree.predict_proba(features_valid)\n",
    "probabilities_one_valid = probabilities_valid[:, 1]\n",
    "\n",
    "fpr, tpr, thresholds = roc_curve(target_valid, probabilities_one_valid)\n",
    "\n",
    "plt.figure()\n",
    "plt.plot(fpr, tpr)\n",
    "\n",
    "# ROC-кривая случайной модели \n",
    "plt.plot([0, 1], [0, 1], linestyle='--')\n",
    "\n",
    "plt.xlim([0, 1])\n",
    "plt.ylim([0, 1])\n",
    "\n",
    "plt.xlabel(\"False Positive Rate\")\n",
    "plt.ylabel(\"True Positive Rate\")\n",
    "plt.title(\"ROC-кривая\")\n",
    "plt.grid(True)\n",
    "plt.show()"
   ]
  },
  {
   "cell_type": "code",
   "execution_count": 52,
   "metadata": {},
   "outputs": [
    {
     "data": {
      "text/plain": [
       "0.7221401123263376"
      ]
     },
     "execution_count": 52,
     "metadata": {},
     "output_type": "execute_result"
    }
   ],
   "source": [
    "auc_roc_tree_down = roc_auc_score(target_valid, probabilities_one_valid)\n",
    "auc_roc_tree_down"
   ]
  },
  {
   "cell_type": "code",
   "execution_count": 53,
   "metadata": {},
   "outputs": [
    {
     "name": "stdout",
     "output_type": "stream",
     "text": [
      "F1: 0.5147783251231527\n"
     ]
    }
   ],
   "source": [
    "# увеличение выборки\n",
    "model_tree = DecisionTreeClassifier(random_state=12345, class_weight='balanced')\n",
    "model_tree.fit(features_upsampled, target_upsampled)\n",
    "\n",
    "predicted_valid_tree = model_tree.predict(features_valid)\n",
    "\n",
    "print(\"F1:\", f1_score(target_valid, predicted_valid_tree))"
   ]
  },
  {
   "cell_type": "code",
   "execution_count": 54,
   "metadata": {},
   "outputs": [
    {
     "data": {
      "image/png": "[encoded data removed]",
      "text/plain": [
       "<Figure size 432x288 with 1 Axes>"
      ]
     },
     "metadata": {
      "needs_background": "light"
     },
     "output_type": "display_data"
    }
   ],
   "source": [
    "probabilities_valid = model_tree.predict_proba(features_valid)\n",
    "probabilities_one_valid = probabilities_valid[:, 1]\n",
    "\n",
    "fpr, tpr, thresholds = roc_curve(target_valid, probabilities_one_valid)\n",
    "\n",
    "plt.figure()\n",
    "plt.plot(fpr, tpr)\n",
    "\n",
    "# ROC-кривая случайной модели \n",
    "plt.plot([0, 1], [0, 1], linestyle='--')\n",
    "\n",
    "plt.xlim([0, 1])\n",
    "plt.ylim([0, 1])\n",
    "\n",
    "plt.xlabel(\"False Positive Rate\")\n",
    "plt.ylabel(\"True Positive Rate\")\n",
    "plt.title(\"ROC-кривая\")\n",
    "plt.grid(True)\n",
    "plt.show()"
   ]
  },
  {
   "cell_type": "code",
   "execution_count": 55,
   "metadata": {},
   "outputs": [
    {
     "data": {
      "text/plain": [
       "0.6948837323874273"
      ]
     },
     "execution_count": 55,
     "metadata": {},
     "output_type": "execute_result"
    }
   ],
   "source": [
    "auc_roc_tree_up = roc_auc_score(target_valid, probabilities_one_valid)\n",
    "auc_roc_tree_up"
   ]
  },
  {
   "cell_type": "markdown",
   "metadata": {},
   "source": [
    "### Вывод"
   ]
  },
  {
   "cell_type": "markdown",
   "metadata": {},
   "source": [
    "Наилучшее значение f1 и AUC-ROC достигается для модели случайного леса при увеличении выборки."
   ]
  },
  {
   "cell_type": "markdown",
   "metadata": {},
   "source": [
    "## Тестирование модели"
   ]
  },
  {
   "cell_type": "markdown",
   "metadata": {},
   "source": [
    "Проверим лучшую модель на тестовом датасете."
   ]
  },
  {
   "cell_type": "code",
   "execution_count": 56,
   "metadata": {},
   "outputs": [
    {
     "name": "stdout",
     "output_type": "stream",
     "text": [
      "F1: 0.5970819304152637\n"
     ]
    }
   ],
   "source": [
    "test_predictions = best_model.predict(features_test)\n",
    "print(\"F1:\", f1_score(target_test, test_predictions))"
   ]
  },
  {
   "cell_type": "code",
   "execution_count": 57,
   "metadata": {
    "scrolled": true
   },
   "outputs": [
    {
     "data": {
      "image/png": "[encoded data removed]",
      "text/plain": [
       "<Figure size 432x288 with 1 Axes>"
      ]
     },
     "metadata": {
      "needs_background": "light"
     },
     "output_type": "display_data"
    }
   ],
   "source": [
    "probabilities_test = best_model.predict_proba(features_test)\n",
    "probabilities_one_test = probabilities_test[:, 1]\n",
    "\n",
    "fpr, tpr, thresholds = roc_curve(target_test, probabilities_one_test)\n",
    "\n",
    "plt.figure()\n",
    "plt.plot(fpr, tpr)\n",
    "\n",
    "# ROC-кривая случайной модели \n",
    "plt.plot([0, 1], [0, 1], linestyle='--')\n",
    "\n",
    "plt.xlim([0, 1])\n",
    "plt.ylim([0, 1])\n",
    "\n",
    "plt.xlabel(\"False Positive Rate\")\n",
    "plt.ylabel(\"True Positive Rate\")\n",
    "plt.title(\"ROC-кривая\")\n",
    "plt.grid(True)\n",
    "plt.show()"
   ]
  },
  {
   "cell_type": "code",
   "execution_count": 58,
   "metadata": {},
   "outputs": [
    {
     "data": {
      "text/plain": [
       "0.8495552563349172"
      ]
     },
     "execution_count": 58,
     "metadata": {},
     "output_type": "execute_result"
    }
   ],
   "source": [
    "auc_roc = roc_auc_score(target_test, probabilities_one_test)\n",
    "auc_roc"
   ]
  },
  {
   "cell_type": "markdown",
   "metadata": {},
   "source": [
    "Дообучим дополнительно модель на валидационной выборке."
   ]
  },
  {
   "cell_type": "code",
   "execution_count": 59,
   "metadata": {},
   "outputs": [],
   "source": [
    "features_upsampled_val, target_upsampled_val = upsample(features_valid, target_valid, 4)"
   ]
  },
  {
   "cell_type": "code",
   "execution_count": 60,
   "metadata": {},
   "outputs": [
    {
     "data": {
      "text/plain": [
       "RandomForestClassifier(class_weight='balanced', max_depth=10, n_estimators=60,\n",
       "                       random_state=12345)"
      ]
     },
     "execution_count": 60,
     "metadata": {},
     "output_type": "execute_result"
    }
   ],
   "source": [
    "best_model.fit(features_upsampled_val, target_upsampled_val)"
   ]
  },
  {
   "cell_type": "code",
   "execution_count": 61,
   "metadata": {},
   "outputs": [
    {
     "name": "stdout",
     "output_type": "stream",
     "text": [
      "F1: 0.6033653846153847\n"
     ]
    }
   ],
   "source": [
    "test_predictions_1 = best_model.predict(features_test)\n",
    "print(\"F1:\", f1_score(target_test, test_predictions_1))"
   ]
  },
  {
   "cell_type": "code",
   "execution_count": 62,
   "metadata": {
    "scrolled": true
   },
   "outputs": [
    {
     "data": {
      "image/png": "[encoded data removed]",
      "text/plain": [
       "<Figure size 432x288 with 1 Axes>"
      ]
     },
     "metadata": {
      "needs_background": "light"
     },
     "output_type": "display_data"
    }
   ],
   "source": [
    "probabilities_test = best_model.predict_proba(features_test)\n",
    "probabilities_one_test = probabilities_test[:, 1]\n",
    "\n",
    "fpr, tpr, thresholds = roc_curve(target_test, probabilities_one_test)\n",
    "\n",
    "plt.figure()\n",
    "plt.plot(fpr, tpr)\n",
    "\n",
    "# ROC-кривая случайной модели \n",
    "plt.plot([0, 1], [0, 1], linestyle='--')\n",
    "\n",
    "plt.xlim([0, 1])\n",
    "plt.ylim([0, 1])\n",
    "\n",
    "plt.xlabel(\"False Positive Rate\")\n",
    "plt.ylabel(\"True Positive Rate\")\n",
    "plt.title(\"ROC-кривая\")\n",
    "plt.grid(True)\n",
    "plt.show()"
   ]
  },
  {
   "cell_type": "code",
   "execution_count": 63,
   "metadata": {},
   "outputs": [
    {
     "data": {
      "text/plain": [
       "0.8470550673940506"
      ]
     },
     "execution_count": 63,
     "metadata": {},
     "output_type": "execute_result"
    }
   ],
   "source": [
    "auc_roc = roc_auc_score(target_test, probabilities_one_test)\n",
    "auc_roc"
   ]
  },
  {
   "cell_type": "markdown",
   "metadata": {},
   "source": [
    "## Вывод"
   ]
  },
  {
   "cell_type": "markdown",
   "metadata": {},
   "source": [
    "**В ходе проекта было проведено прогнозирование ухода клиентов из банка.**\n",
    "\n",
    "* **Для этого были  построены 3 модели классификации: логистическая регрессия, решающее дерево и случайный лес.**\n",
    "\n",
    "\n",
    "* **Было обнаружено, что в связи с дисбалансом классов (1:4) точность предсказания модели практически совпадает с точностью предсказания случайной модели (случайная модель: 0.8, лучшая построенная модель - 0.86)**\n",
    "\n",
    "\n",
    "* **Для борьбы с дисбалансом были применены методы Взвешивания классов, уменьшения выборки и увеличения выборки**\n",
    "\n",
    "\n",
    "* **Наилучший результат показала модель Случайный лес при увеличении выборки, удалось достичь значения f1 - 0.65**\n",
    "\n",
    "\n",
    "* **Лучшая модель была проверена на тестовой выборке. В результате f1-мера = 0.597**\n",
    "\n",
    "\n",
    "* **Затем модель была дообучена на валидационной выборке, в результате чего f1 мера повысилась до 0.6**\n",
    "\n",
    "\n",
    "* **Также была построена ROC кривая и измерено значения площади под ней (AUC = 0.85)**"
   ]
  }
 ],
 "metadata": {
  "ExecuteTimeLog": [
   {
    "duration": 1658,
    "start_time": "2022-08-17T04:02:07.325Z"
   },
   {
    "duration": 149,
    "start_time": "2022-08-17T04:02:37.225Z"
   },
   {
    "duration": 170,
    "start_time": "2022-08-17T04:03:00.787Z"
   },
   {
    "duration": 19,
    "start_time": "2022-08-17T04:03:12.714Z"
   },
   {
    "duration": 19,
    "start_time": "2022-08-17T04:03:32.650Z"
   },
   {
    "duration": 14,
    "start_time": "2022-08-17T04:03:54.930Z"
   },
   {
    "duration": 13,
    "start_time": "2022-08-17T04:04:05.393Z"
   },
   {
    "duration": 1711,
    "start_time": "2022-08-19T15:12:22.474Z"
   },
   {
    "duration": 177,
    "start_time": "2022-08-19T15:12:25.766Z"
   },
   {
    "duration": 26,
    "start_time": "2022-08-19T15:12:27.342Z"
   },
   {
    "duration": 19,
    "start_time": "2022-08-19T15:12:29.286Z"
   },
   {
    "duration": 265,
    "start_time": "2022-08-19T15:13:19.742Z"
   },
   {
    "duration": 169,
    "start_time": "2022-08-19T15:13:43.342Z"
   },
   {
    "duration": 152,
    "start_time": "2022-08-19T15:14:08.527Z"
   },
   {
    "duration": 136,
    "start_time": "2022-08-19T15:14:23.535Z"
   },
   {
    "duration": 268,
    "start_time": "2022-08-19T15:14:36.808Z"
   },
   {
    "duration": 160,
    "start_time": "2022-08-19T15:14:51.535Z"
   },
   {
    "duration": 181,
    "start_time": "2022-08-19T15:15:02.887Z"
   },
   {
    "duration": 170,
    "start_time": "2022-08-19T15:15:16.063Z"
   },
   {
    "duration": 209,
    "start_time": "2022-08-19T15:15:26.536Z"
   },
   {
    "duration": 171,
    "start_time": "2022-08-19T15:15:34.304Z"
   },
   {
    "duration": 190,
    "start_time": "2022-08-19T15:15:41.872Z"
   },
   {
    "duration": 6,
    "start_time": "2022-08-19T15:17:26.604Z"
   },
   {
    "duration": 6,
    "start_time": "2022-08-19T15:19:58.612Z"
   },
   {
    "duration": 5,
    "start_time": "2022-08-19T15:20:07.500Z"
   },
   {
    "duration": 4,
    "start_time": "2022-08-19T15:22:20.355Z"
   },
   {
    "duration": 14,
    "start_time": "2022-08-19T15:22:53.060Z"
   },
   {
    "duration": 8,
    "start_time": "2022-08-19T15:23:07.215Z"
   },
   {
    "duration": 21,
    "start_time": "2022-08-19T15:23:36.915Z"
   },
   {
    "duration": 1719,
    "start_time": "2022-08-19T15:24:10.715Z"
   },
   {
    "duration": 6,
    "start_time": "2022-08-19T15:24:18.421Z"
   },
   {
    "duration": 13,
    "start_time": "2022-08-19T15:24:54.437Z"
   },
   {
    "duration": 1854,
    "start_time": "2022-08-21T10:53:49.393Z"
   },
   {
    "duration": 437,
    "start_time": "2022-08-21T10:53:51.249Z"
   },
   {
    "duration": 28,
    "start_time": "2022-08-21T10:53:51.687Z"
   },
   {
    "duration": 19,
    "start_time": "2022-08-21T10:53:51.717Z"
   },
   {
    "duration": 20,
    "start_time": "2022-08-21T10:53:51.737Z"
   },
   {
    "duration": 8,
    "start_time": "2022-08-21T10:53:51.759Z"
   },
   {
    "duration": 15,
    "start_time": "2022-08-21T10:53:51.769Z"
   },
   {
    "duration": 16,
    "start_time": "2022-08-21T10:53:51.786Z"
   },
   {
    "duration": 50,
    "start_time": "2022-08-21T10:53:51.811Z"
   },
   {
    "duration": 9,
    "start_time": "2022-08-21T10:59:29.129Z"
   },
   {
    "duration": 219,
    "start_time": "2022-08-21T11:01:19.663Z"
   },
   {
    "duration": 33,
    "start_time": "2022-08-21T11:01:28.692Z"
   },
   {
    "duration": 234,
    "start_time": "2022-08-21T11:04:09.173Z"
   },
   {
    "duration": 31,
    "start_time": "2022-08-21T11:04:11.920Z"
   },
   {
    "duration": 203,
    "start_time": "2022-08-21T11:04:27.155Z"
   },
   {
    "duration": 27,
    "start_time": "2022-08-21T11:04:29.136Z"
   },
   {
    "duration": 1668,
    "start_time": "2022-08-21T11:06:16.070Z"
   },
   {
    "duration": 828,
    "start_time": "2022-08-21T11:06:36.421Z"
   },
   {
    "duration": 6,
    "start_time": "2022-08-21T11:06:50.645Z"
   },
   {
    "duration": 15,
    "start_time": "2022-08-21T11:06:54.791Z"
   },
   {
    "duration": 14,
    "start_time": "2022-08-21T11:07:15.224Z"
   },
   {
    "duration": 19,
    "start_time": "2022-08-21T11:07:16.567Z"
   },
   {
    "duration": 5,
    "start_time": "2022-08-21T11:10:01.267Z"
   },
   {
    "duration": 1730,
    "start_time": "2022-08-21T11:17:49.924Z"
   },
   {
    "duration": 142,
    "start_time": "2022-08-21T11:17:51.657Z"
   },
   {
    "duration": 23,
    "start_time": "2022-08-21T11:17:51.801Z"
   },
   {
    "duration": 27,
    "start_time": "2022-08-21T11:17:51.826Z"
   },
   {
    "duration": 17,
    "start_time": "2022-08-21T11:17:51.856Z"
   },
   {
    "duration": 46,
    "start_time": "2022-08-21T11:17:51.875Z"
   },
   {
    "duration": 7,
    "start_time": "2022-08-21T11:17:51.923Z"
   },
   {
    "duration": 19,
    "start_time": "2022-08-21T11:17:51.933Z"
   },
   {
    "duration": 24,
    "start_time": "2022-08-21T11:17:51.954Z"
   },
   {
    "duration": 42,
    "start_time": "2022-08-21T11:17:51.982Z"
   },
   {
    "duration": 37,
    "start_time": "2022-08-21T11:17:52.027Z"
   },
   {
    "duration": 13,
    "start_time": "2022-08-21T11:18:16.701Z"
   },
   {
    "duration": 3,
    "start_time": "2022-08-21T11:21:01.780Z"
   },
   {
    "duration": 3,
    "start_time": "2022-08-21T11:21:20.649Z"
   },
   {
    "duration": 51,
    "start_time": "2022-08-21T11:22:15.349Z"
   },
   {
    "duration": 30,
    "start_time": "2022-08-21T11:22:32.299Z"
   },
   {
    "duration": 23,
    "start_time": "2022-08-21T11:22:34.704Z"
   },
   {
    "duration": 19,
    "start_time": "2022-08-21T11:22:47.078Z"
   },
   {
    "duration": 17,
    "start_time": "2022-08-21T11:23:06.026Z"
   },
   {
    "duration": 146,
    "start_time": "2022-08-21T11:27:04.024Z"
   },
   {
    "duration": 25,
    "start_time": "2022-08-21T11:28:32.955Z"
   },
   {
    "duration": 17,
    "start_time": "2022-08-21T11:28:42.713Z"
   },
   {
    "duration": 3,
    "start_time": "2022-08-21T11:28:47.270Z"
   },
   {
    "duration": 13,
    "start_time": "2022-08-21T11:29:58.542Z"
   },
   {
    "duration": 10,
    "start_time": "2022-08-21T11:30:02.963Z"
   },
   {
    "duration": 11,
    "start_time": "2022-08-21T11:30:07.730Z"
   },
   {
    "duration": 13,
    "start_time": "2022-08-21T11:30:12.404Z"
   },
   {
    "duration": 37,
    "start_time": "2022-08-21T11:30:39.771Z"
   },
   {
    "duration": 13,
    "start_time": "2022-08-21T11:30:50.726Z"
   },
   {
    "duration": 17,
    "start_time": "2022-08-21T11:30:57.960Z"
   },
   {
    "duration": 1579,
    "start_time": "2022-08-21T11:31:10.536Z"
   },
   {
    "duration": 51,
    "start_time": "2022-08-21T11:31:12.117Z"
   },
   {
    "duration": 30,
    "start_time": "2022-08-21T11:31:12.172Z"
   },
   {
    "duration": 20,
    "start_time": "2022-08-21T11:31:12.204Z"
   },
   {
    "duration": 56,
    "start_time": "2022-08-21T11:31:12.227Z"
   },
   {
    "duration": 26,
    "start_time": "2022-08-21T11:31:12.285Z"
   },
   {
    "duration": 31,
    "start_time": "2022-08-21T11:31:12.319Z"
   },
   {
    "duration": 37,
    "start_time": "2022-08-21T11:31:12.353Z"
   },
   {
    "duration": 38,
    "start_time": "2022-08-21T11:31:12.395Z"
   },
   {
    "duration": 14,
    "start_time": "2022-08-21T11:31:12.436Z"
   },
   {
    "duration": 11,
    "start_time": "2022-08-21T11:31:12.452Z"
   },
   {
    "duration": 23,
    "start_time": "2022-08-21T11:31:12.465Z"
   },
   {
    "duration": 9,
    "start_time": "2022-08-21T11:31:12.490Z"
   },
   {
    "duration": 149,
    "start_time": "2022-08-21T11:31:12.500Z"
   },
   {
    "duration": 0,
    "start_time": "2022-08-21T11:31:12.652Z"
   },
   {
    "duration": 0,
    "start_time": "2022-08-21T11:31:12.654Z"
   },
   {
    "duration": 51,
    "start_time": "2022-08-21T11:31:22.365Z"
   },
   {
    "duration": 4,
    "start_time": "2022-08-21T11:31:33.507Z"
   },
   {
    "duration": 5,
    "start_time": "2022-08-21T11:34:18.524Z"
   },
   {
    "duration": 15,
    "start_time": "2022-08-21T11:36:13.817Z"
   },
   {
    "duration": 1526,
    "start_time": "2022-08-23T17:00:15.666Z"
   },
   {
    "duration": 85,
    "start_time": "2022-08-23T17:00:17.193Z"
   },
   {
    "duration": 30,
    "start_time": "2022-08-23T17:00:17.279Z"
   },
   {
    "duration": 18,
    "start_time": "2022-08-23T17:00:17.310Z"
   },
   {
    "duration": 11,
    "start_time": "2022-08-23T17:00:17.331Z"
   },
   {
    "duration": 15,
    "start_time": "2022-08-23T17:00:17.343Z"
   },
   {
    "duration": 34,
    "start_time": "2022-08-23T17:00:17.360Z"
   },
   {
    "duration": 5,
    "start_time": "2022-08-23T17:00:17.396Z"
   },
   {
    "duration": 5,
    "start_time": "2022-08-23T17:00:17.403Z"
   },
   {
    "duration": 10,
    "start_time": "2022-08-23T17:00:17.409Z"
   },
   {
    "duration": 7,
    "start_time": "2022-08-23T17:00:17.420Z"
   },
   {
    "duration": 18,
    "start_time": "2022-08-23T17:00:17.428Z"
   },
   {
    "duration": 38,
    "start_time": "2022-08-23T17:00:17.447Z"
   },
   {
    "duration": 121,
    "start_time": "2022-08-23T17:00:17.487Z"
   },
   {
    "duration": 1,
    "start_time": "2022-08-23T17:00:17.609Z"
   },
   {
    "duration": 0,
    "start_time": "2022-08-23T17:00:17.611Z"
   },
   {
    "duration": 0,
    "start_time": "2022-08-23T17:00:17.613Z"
   },
   {
    "duration": 0,
    "start_time": "2022-08-23T17:00:17.614Z"
   },
   {
    "duration": 0,
    "start_time": "2022-08-23T17:00:17.615Z"
   },
   {
    "duration": 15,
    "start_time": "2022-08-23T17:03:27.864Z"
   },
   {
    "duration": 18,
    "start_time": "2022-08-23T17:03:30.271Z"
   },
   {
    "duration": 4,
    "start_time": "2022-08-23T17:04:12.146Z"
   },
   {
    "duration": 11,
    "start_time": "2022-08-23T17:04:13.056Z"
   },
   {
    "duration": 1383,
    "start_time": "2022-08-23T17:04:23.907Z"
   },
   {
    "duration": 50,
    "start_time": "2022-08-23T17:04:25.292Z"
   },
   {
    "duration": 16,
    "start_time": "2022-08-23T17:04:26.289Z"
   },
   {
    "duration": 10,
    "start_time": "2022-08-23T17:04:30.456Z"
   },
   {
    "duration": 6,
    "start_time": "2022-08-23T17:04:33.952Z"
   },
   {
    "duration": 12,
    "start_time": "2022-08-23T17:04:51.449Z"
   },
   {
    "duration": 7,
    "start_time": "2022-08-23T17:05:08.909Z"
   },
   {
    "duration": 1356,
    "start_time": "2022-08-23T17:05:19.174Z"
   },
   {
    "duration": 40,
    "start_time": "2022-08-23T17:05:20.532Z"
   },
   {
    "duration": 15,
    "start_time": "2022-08-23T17:05:20.574Z"
   },
   {
    "duration": 11,
    "start_time": "2022-08-23T17:05:20.591Z"
   },
   {
    "duration": 8,
    "start_time": "2022-08-23T17:05:20.604Z"
   },
   {
    "duration": 5,
    "start_time": "2022-08-23T17:05:20.614Z"
   },
   {
    "duration": 17,
    "start_time": "2022-08-23T17:05:20.621Z"
   },
   {
    "duration": 19,
    "start_time": "2022-08-23T17:05:20.639Z"
   },
   {
    "duration": 30,
    "start_time": "2022-08-23T17:05:20.660Z"
   },
   {
    "duration": 9,
    "start_time": "2022-08-23T17:05:20.693Z"
   },
   {
    "duration": 5,
    "start_time": "2022-08-23T17:05:20.703Z"
   },
   {
    "duration": 9,
    "start_time": "2022-08-23T17:05:20.710Z"
   },
   {
    "duration": 6,
    "start_time": "2022-08-23T17:05:20.721Z"
   },
   {
    "duration": 17,
    "start_time": "2022-08-23T17:05:20.729Z"
   },
   {
    "duration": 3,
    "start_time": "2022-08-23T17:05:20.784Z"
   },
   {
    "duration": 26,
    "start_time": "2022-08-23T17:05:20.789Z"
   },
   {
    "duration": 15,
    "start_time": "2022-08-23T17:05:20.818Z"
   },
   {
    "duration": 74,
    "start_time": "2022-08-23T17:05:20.835Z"
   },
   {
    "duration": 5,
    "start_time": "2022-08-23T17:05:20.911Z"
   },
   {
    "duration": 14,
    "start_time": "2022-08-23T17:05:20.917Z"
   },
   {
    "duration": 8,
    "start_time": "2022-08-23T17:05:20.932Z"
   },
   {
    "duration": 21,
    "start_time": "2022-08-23T17:09:45.073Z"
   },
   {
    "duration": 17,
    "start_time": "2022-08-23T17:10:25.962Z"
   },
   {
    "duration": 14,
    "start_time": "2022-08-23T17:10:36.121Z"
   },
   {
    "duration": 11,
    "start_time": "2022-08-23T17:10:43.215Z"
   },
   {
    "duration": 40,
    "start_time": "2022-08-23T17:10:49.441Z"
   },
   {
    "duration": 3,
    "start_time": "2022-08-23T17:10:50.811Z"
   },
   {
    "duration": 5,
    "start_time": "2022-08-23T17:11:00.545Z"
   },
   {
    "duration": 4,
    "start_time": "2022-08-23T17:11:02.417Z"
   },
   {
    "duration": 38,
    "start_time": "2022-08-23T17:15:31.294Z"
   },
   {
    "duration": 3,
    "start_time": "2022-08-23T17:15:32.749Z"
   },
   {
    "duration": 98,
    "start_time": "2022-08-23T17:15:46.900Z"
   },
   {
    "duration": 31,
    "start_time": "2022-08-23T17:15:48.428Z"
   },
   {
    "duration": 4,
    "start_time": "2022-08-23T17:15:49.300Z"
   },
   {
    "duration": 593,
    "start_time": "2022-08-23T17:16:48.742Z"
   },
   {
    "duration": 3,
    "start_time": "2022-08-23T17:16:58.861Z"
   },
   {
    "duration": 618,
    "start_time": "2022-08-23T17:17:03.030Z"
   },
   {
    "duration": 4,
    "start_time": "2022-08-23T17:17:05.302Z"
   },
   {
    "duration": 167,
    "start_time": "2022-08-23T17:18:52.620Z"
   },
   {
    "duration": 4,
    "start_time": "2022-08-23T17:19:01.728Z"
   },
   {
    "duration": 7,
    "start_time": "2022-08-23T17:21:30.249Z"
   },
   {
    "duration": 5,
    "start_time": "2022-08-23T17:21:32.217Z"
   },
   {
    "duration": 4,
    "start_time": "2022-08-23T17:35:22.927Z"
   },
   {
    "duration": 7,
    "start_time": "2022-08-23T17:35:48.120Z"
   },
   {
    "duration": 31,
    "start_time": "2022-08-23T17:36:20.865Z"
   },
   {
    "duration": 3,
    "start_time": "2022-08-23T17:36:22.297Z"
   },
   {
    "duration": 136,
    "start_time": "2022-08-23T17:36:27.849Z"
   },
   {
    "duration": 4,
    "start_time": "2022-08-23T17:36:29.113Z"
   },
   {
    "duration": 602,
    "start_time": "2022-08-23T17:36:40.689Z"
   },
   {
    "duration": 4,
    "start_time": "2022-08-23T17:36:42.553Z"
   },
   {
    "duration": 5,
    "start_time": "2022-08-23T17:36:48.442Z"
   },
   {
    "duration": 1288,
    "start_time": "2022-08-23T17:36:57.478Z"
   },
   {
    "duration": 42,
    "start_time": "2022-08-23T17:36:58.768Z"
   },
   {
    "duration": 16,
    "start_time": "2022-08-23T17:36:58.812Z"
   },
   {
    "duration": 11,
    "start_time": "2022-08-23T17:36:58.830Z"
   },
   {
    "duration": 5,
    "start_time": "2022-08-23T17:36:58.842Z"
   },
   {
    "duration": 5,
    "start_time": "2022-08-23T17:36:58.848Z"
   },
   {
    "duration": 11,
    "start_time": "2022-08-23T17:36:58.854Z"
   },
   {
    "duration": 20,
    "start_time": "2022-08-23T17:36:58.866Z"
   },
   {
    "duration": 5,
    "start_time": "2022-08-23T17:36:58.887Z"
   },
   {
    "duration": 5,
    "start_time": "2022-08-23T17:36:58.894Z"
   },
   {
    "duration": 8,
    "start_time": "2022-08-23T17:36:58.901Z"
   },
   {
    "duration": 6,
    "start_time": "2022-08-23T17:36:58.910Z"
   },
   {
    "duration": 12,
    "start_time": "2022-08-23T17:36:58.917Z"
   },
   {
    "duration": 3,
    "start_time": "2022-08-23T17:36:58.930Z"
   },
   {
    "duration": 60,
    "start_time": "2022-08-23T17:36:58.934Z"
   },
   {
    "duration": 11,
    "start_time": "2022-08-23T17:36:58.995Z"
   },
   {
    "duration": 34,
    "start_time": "2022-08-23T17:36:59.008Z"
   },
   {
    "duration": 3,
    "start_time": "2022-08-23T17:36:59.044Z"
   },
   {
    "duration": 633,
    "start_time": "2022-08-23T17:36:59.048Z"
   },
   {
    "duration": 3,
    "start_time": "2022-08-23T17:36:59.683Z"
   },
   {
    "duration": 104,
    "start_time": "2022-08-23T17:36:59.687Z"
   },
   {
    "duration": 95,
    "start_time": "2022-08-23T17:36:59.793Z"
   },
   {
    "duration": 104,
    "start_time": "2022-08-23T17:36:59.889Z"
   },
   {
    "duration": 10,
    "start_time": "2022-08-23T17:36:59.994Z"
   },
   {
    "duration": 118,
    "start_time": "2022-08-23T17:37:00.006Z"
   },
   {
    "duration": 5,
    "start_time": "2022-08-23T17:37:17.003Z"
   },
   {
    "duration": 7,
    "start_time": "2022-08-23T17:38:00.187Z"
   },
   {
    "duration": 16,
    "start_time": "2022-08-23T17:38:28.447Z"
   },
   {
    "duration": 13,
    "start_time": "2022-08-23T17:39:10.677Z"
   },
   {
    "duration": 31,
    "start_time": "2022-08-23T17:39:41.442Z"
   },
   {
    "duration": 3,
    "start_time": "2022-08-23T17:39:42.589Z"
   },
   {
    "duration": 1404,
    "start_time": "2022-08-23T17:40:15.041Z"
   },
   {
    "duration": 41,
    "start_time": "2022-08-23T17:40:16.447Z"
   },
   {
    "duration": 17,
    "start_time": "2022-08-23T17:40:16.489Z"
   },
   {
    "duration": 11,
    "start_time": "2022-08-23T17:40:16.507Z"
   },
   {
    "duration": 4,
    "start_time": "2022-08-23T17:40:16.520Z"
   },
   {
    "duration": 5,
    "start_time": "2022-08-23T17:40:16.526Z"
   },
   {
    "duration": 16,
    "start_time": "2022-08-23T17:40:16.533Z"
   },
   {
    "duration": 10,
    "start_time": "2022-08-23T17:40:16.551Z"
   },
   {
    "duration": 26,
    "start_time": "2022-08-23T17:40:16.563Z"
   },
   {
    "duration": 5,
    "start_time": "2022-08-23T17:40:16.591Z"
   },
   {
    "duration": 10,
    "start_time": "2022-08-23T17:40:16.597Z"
   },
   {
    "duration": 6,
    "start_time": "2022-08-23T17:40:16.609Z"
   },
   {
    "duration": 19,
    "start_time": "2022-08-23T17:40:16.616Z"
   },
   {
    "duration": 4,
    "start_time": "2022-08-23T17:40:16.636Z"
   },
   {
    "duration": 47,
    "start_time": "2022-08-23T17:40:16.642Z"
   },
   {
    "duration": 15,
    "start_time": "2022-08-23T17:40:16.691Z"
   },
   {
    "duration": 43,
    "start_time": "2022-08-23T17:40:16.708Z"
   },
   {
    "duration": 4,
    "start_time": "2022-08-23T17:40:16.753Z"
   },
   {
    "duration": 717,
    "start_time": "2022-08-23T17:40:16.758Z"
   },
   {
    "duration": 3,
    "start_time": "2022-08-23T17:40:17.477Z"
   },
   {
    "duration": 406,
    "start_time": "2022-08-23T17:40:17.482Z"
   },
   {
    "duration": 96,
    "start_time": "2022-08-23T17:40:17.890Z"
   },
   {
    "duration": 10,
    "start_time": "2022-08-23T17:40:17.988Z"
   },
   {
    "duration": 9,
    "start_time": "2022-08-23T17:40:18.000Z"
   },
   {
    "duration": 16,
    "start_time": "2022-08-23T17:40:18.010Z"
   },
   {
    "duration": 1488,
    "start_time": "2022-08-27T06:47:15.816Z"
   },
   {
    "duration": 77,
    "start_time": "2022-08-27T06:47:17.306Z"
   },
   {
    "duration": 17,
    "start_time": "2022-08-27T06:47:17.384Z"
   },
   {
    "duration": 12,
    "start_time": "2022-08-27T06:47:17.402Z"
   },
   {
    "duration": 4,
    "start_time": "2022-08-27T06:47:17.416Z"
   },
   {
    "duration": 5,
    "start_time": "2022-08-27T06:47:17.421Z"
   },
   {
    "duration": 11,
    "start_time": "2022-08-27T06:47:17.427Z"
   },
   {
    "duration": 11,
    "start_time": "2022-08-27T06:47:17.439Z"
   },
   {
    "duration": 6,
    "start_time": "2022-08-27T06:47:17.485Z"
   },
   {
    "duration": 5,
    "start_time": "2022-08-27T06:47:17.492Z"
   },
   {
    "duration": 10,
    "start_time": "2022-08-27T06:47:17.498Z"
   },
   {
    "duration": 6,
    "start_time": "2022-08-27T06:47:17.509Z"
   },
   {
    "duration": 18,
    "start_time": "2022-08-27T06:47:17.516Z"
   },
   {
    "duration": 3,
    "start_time": "2022-08-27T06:47:17.536Z"
   },
   {
    "duration": 63,
    "start_time": "2022-08-27T06:47:17.540Z"
   },
   {
    "duration": 11,
    "start_time": "2022-08-27T06:47:17.605Z"
   },
   {
    "duration": 37,
    "start_time": "2022-08-27T06:47:17.618Z"
   },
   {
    "duration": 4,
    "start_time": "2022-08-27T06:47:17.656Z"
   },
   {
    "duration": 728,
    "start_time": "2022-08-27T06:47:17.661Z"
   },
   {
    "duration": 4,
    "start_time": "2022-08-27T06:47:18.390Z"
   },
   {
    "duration": 98,
    "start_time": "2022-08-27T06:47:18.396Z"
   },
   {
    "duration": 9,
    "start_time": "2022-08-27T06:47:18.584Z"
   },
   {
    "duration": 94,
    "start_time": "2022-08-27T06:47:18.595Z"
   },
   {
    "duration": 8,
    "start_time": "2022-08-27T06:47:18.691Z"
   },
   {
    "duration": 15,
    "start_time": "2022-08-27T06:47:18.700Z"
   },
   {
    "duration": 38,
    "start_time": "2022-08-27T06:49:00.810Z"
   },
   {
    "duration": 24,
    "start_time": "2022-08-27T06:52:07.676Z"
   },
   {
    "duration": 11,
    "start_time": "2022-08-27T06:52:10.390Z"
   },
   {
    "duration": 31,
    "start_time": "2022-08-27T06:53:00.860Z"
   },
   {
    "duration": 3,
    "start_time": "2022-08-27T06:53:02.909Z"
   },
   {
    "duration": 3,
    "start_time": "2022-08-27T06:54:19.837Z"
   },
   {
    "duration": 4,
    "start_time": "2022-08-27T06:54:21.213Z"
   },
   {
    "duration": 4,
    "start_time": "2022-08-27T06:56:35.375Z"
   },
   {
    "duration": 4,
    "start_time": "2022-08-27T06:56:41.503Z"
   },
   {
    "duration": 4,
    "start_time": "2022-08-27T06:57:18.999Z"
   },
   {
    "duration": 4,
    "start_time": "2022-08-27T06:57:21.923Z"
   },
   {
    "duration": 111,
    "start_time": "2022-08-27T07:02:22.683Z"
   },
   {
    "duration": 6,
    "start_time": "2022-08-27T07:02:26.507Z"
   },
   {
    "duration": 3,
    "start_time": "2022-08-27T07:02:27.755Z"
   },
   {
    "duration": 17,
    "start_time": "2022-08-27T07:04:48.596Z"
   },
   {
    "duration": 49,
    "start_time": "2022-08-27T07:08:42.840Z"
   },
   {
    "duration": 34,
    "start_time": "2022-08-27T07:13:43.563Z"
   },
   {
    "duration": 27,
    "start_time": "2022-08-27T07:14:14.164Z"
   },
   {
    "duration": 4,
    "start_time": "2022-08-27T07:42:40.691Z"
   },
   {
    "duration": 20,
    "start_time": "2022-08-27T07:48:25.053Z"
   },
   {
    "duration": 4,
    "start_time": "2022-08-27T07:48:44.814Z"
   },
   {
    "duration": 92,
    "start_time": "2022-08-27T07:48:55.893Z"
   },
   {
    "duration": 46,
    "start_time": "2022-08-27T07:49:23.951Z"
   },
   {
    "duration": 20,
    "start_time": "2022-08-27T07:49:26.567Z"
   },
   {
    "duration": 4,
    "start_time": "2022-08-27T07:49:28.287Z"
   },
   {
    "duration": 66,
    "start_time": "2022-08-27T07:49:30.151Z"
   },
   {
    "duration": 5,
    "start_time": "2022-08-27T07:58:51.766Z"
   },
   {
    "duration": 19,
    "start_time": "2022-08-27T07:59:29.613Z"
   },
   {
    "duration": 90,
    "start_time": "2022-08-27T07:59:50.295Z"
   },
   {
    "duration": 16,
    "start_time": "2022-08-27T08:02:11.440Z"
   },
   {
    "duration": 97,
    "start_time": "2022-08-27T08:02:59.688Z"
   },
   {
    "duration": 19,
    "start_time": "2022-08-27T08:03:06.825Z"
   },
   {
    "duration": 5,
    "start_time": "2022-08-27T08:06:28.243Z"
   },
   {
    "duration": 285,
    "start_time": "2022-08-27T08:07:40.363Z"
   },
   {
    "duration": 20,
    "start_time": "2022-08-27T08:08:24.932Z"
   },
   {
    "duration": 277,
    "start_time": "2022-08-27T08:08:29.068Z"
   },
   {
    "duration": 293,
    "start_time": "2022-08-27T08:08:52.532Z"
   },
   {
    "duration": 1314,
    "start_time": "2022-08-27T08:09:32.981Z"
   },
   {
    "duration": 299,
    "start_time": "2022-08-27T08:10:33.246Z"
   },
   {
    "duration": 1282,
    "start_time": "2022-08-27T08:10:43.686Z"
   },
   {
    "duration": 19,
    "start_time": "2022-08-27T08:12:34.737Z"
   },
   {
    "duration": 58,
    "start_time": "2022-08-27T08:13:01.783Z"
   },
   {
    "duration": 3,
    "start_time": "2022-08-27T08:14:26.024Z"
   },
   {
    "duration": 46685,
    "start_time": "2022-08-27T08:14:51.921Z"
   },
   {
    "duration": 4,
    "start_time": "2022-08-27T08:16:05.194Z"
   },
   {
    "duration": 4,
    "start_time": "2022-08-27T08:16:37.354Z"
   },
   {
    "duration": 23,
    "start_time": "2022-08-27T08:18:56.043Z"
   },
   {
    "duration": 6,
    "start_time": "2022-08-27T08:19:08.363Z"
   },
   {
    "duration": 3,
    "start_time": "2022-08-27T08:22:37.504Z"
   },
   {
    "duration": 98180,
    "start_time": "2022-08-27T08:22:51.478Z"
   },
   {
    "duration": 3,
    "start_time": "2022-08-27T08:25:12.409Z"
   },
   {
    "duration": 4,
    "start_time": "2022-08-27T08:25:15.489Z"
   },
   {
    "duration": 42,
    "start_time": "2022-08-27T08:25:18.201Z"
   },
   {
    "duration": 6,
    "start_time": "2022-08-27T08:25:19.576Z"
   },
   {
    "duration": 3,
    "start_time": "2022-08-27T08:26:01.073Z"
   },
   {
    "duration": 4,
    "start_time": "2022-08-27T08:26:05.217Z"
   },
   {
    "duration": 100368,
    "start_time": "2022-08-27T08:26:06.513Z"
   },
   {
    "duration": 4,
    "start_time": "2022-08-27T08:28:17.650Z"
   },
   {
    "duration": 5,
    "start_time": "2022-08-27T08:28:19.083Z"
   },
   {
    "duration": 53,
    "start_time": "2022-08-27T08:28:24.355Z"
   },
   {
    "duration": 5,
    "start_time": "2022-08-27T08:28:25.972Z"
   },
   {
    "duration": 4,
    "start_time": "2022-08-27T08:28:51.163Z"
   },
   {
    "duration": 2,
    "start_time": "2022-08-27T08:29:12.980Z"
   },
   {
    "duration": 9,
    "start_time": "2022-08-27T08:29:17.411Z"
   },
   {
    "duration": 3,
    "start_time": "2022-08-27T08:29:20.995Z"
   },
   {
    "duration": 5,
    "start_time": "2022-08-27T08:29:28.828Z"
   },
   {
    "duration": 8,
    "start_time": "2022-08-27T08:31:20.044Z"
   },
   {
    "duration": 4,
    "start_time": "2022-08-27T08:31:26.636Z"
   },
   {
    "duration": 2313,
    "start_time": "2022-08-27T08:31:27.692Z"
   },
   {
    "duration": 4,
    "start_time": "2022-08-27T08:31:48.878Z"
   },
   {
    "duration": 4,
    "start_time": "2022-08-27T08:31:57.190Z"
   },
   {
    "duration": 5,
    "start_time": "2022-08-27T08:32:05.692Z"
   },
   {
    "duration": 6986,
    "start_time": "2022-08-27T08:32:06.949Z"
   },
   {
    "duration": 4,
    "start_time": "2022-08-27T08:32:15.693Z"
   },
   {
    "duration": 3,
    "start_time": "2022-08-27T08:32:21.269Z"
   },
   {
    "duration": 4456,
    "start_time": "2022-08-27T08:32:22.245Z"
   },
   {
    "duration": 3,
    "start_time": "2022-08-27T08:32:28.174Z"
   },
   {
    "duration": 58,
    "start_time": "2022-08-27T08:33:00.254Z"
   },
   {
    "duration": 4,
    "start_time": "2022-08-27T08:33:51.742Z"
   },
   {
    "duration": 5,
    "start_time": "2022-08-27T08:33:57.622Z"
   },
   {
    "duration": 9,
    "start_time": "2022-08-27T08:36:28.016Z"
   },
   {
    "duration": 83654,
    "start_time": "2022-08-27T08:36:47.314Z"
   },
   {
    "duration": 4,
    "start_time": "2022-08-27T08:38:59.906Z"
   },
   {
    "duration": 8,
    "start_time": "2022-08-27T08:39:21.356Z"
   },
   {
    "duration": 46,
    "start_time": "2022-08-27T08:39:25.675Z"
   },
   {
    "duration": 5,
    "start_time": "2022-08-27T08:39:26.858Z"
   },
   {
    "duration": 4,
    "start_time": "2022-08-27T08:39:30.234Z"
   },
   {
    "duration": 107044,
    "start_time": "2022-08-27T08:39:39.131Z"
   },
   {
    "duration": 3,
    "start_time": "2022-08-27T08:41:39.676Z"
   },
   {
    "duration": 4,
    "start_time": "2022-08-27T08:41:46.612Z"
   },
   {
    "duration": 38,
    "start_time": "2022-08-27T08:41:49.379Z"
   },
   {
    "duration": 5,
    "start_time": "2022-08-27T08:41:50.950Z"
   },
   {
    "duration": 24,
    "start_time": "2022-08-27T08:41:59.789Z"
   },
   {
    "duration": 5,
    "start_time": "2022-08-27T08:42:00.956Z"
   },
   {
    "duration": 6,
    "start_time": "2022-08-27T08:43:50.717Z"
   },
   {
    "duration": 288,
    "start_time": "2022-08-27T08:48:50.162Z"
   },
   {
    "duration": 1195,
    "start_time": "2022-08-27T08:48:55.617Z"
   },
   {
    "duration": 964,
    "start_time": "2022-08-27T08:49:28.946Z"
   },
   {
    "duration": 968,
    "start_time": "2022-08-27T08:49:35.870Z"
   },
   {
    "duration": 1231,
    "start_time": "2022-08-27T08:49:50.780Z"
   },
   {
    "duration": 173,
    "start_time": "2022-08-27T08:51:01.140Z"
   },
   {
    "duration": 179,
    "start_time": "2022-08-27T08:52:06.470Z"
   },
   {
    "duration": 9,
    "start_time": "2022-08-27T08:53:02.589Z"
   },
   {
    "duration": 4,
    "start_time": "2022-08-27T08:53:34.172Z"
   },
   {
    "duration": 6,
    "start_time": "2022-08-27T08:53:44.013Z"
   },
   {
    "duration": 7,
    "start_time": "2022-08-27T08:53:47.748Z"
   },
   {
    "duration": 32,
    "start_time": "2022-08-27T08:56:25.847Z"
   },
   {
    "duration": 155,
    "start_time": "2022-08-27T08:58:18.808Z"
   },
   {
    "duration": 33,
    "start_time": "2022-08-27T08:58:54.161Z"
   },
   {
    "duration": 16,
    "start_time": "2022-08-27T08:59:01.808Z"
   },
   {
    "duration": 56,
    "start_time": "2022-08-27T08:59:02.976Z"
   },
   {
    "duration": 7,
    "start_time": "2022-08-27T08:59:24.081Z"
   },
   {
    "duration": 1255,
    "start_time": "2022-08-27T08:59:39.809Z"
   },
   {
    "duration": 1240,
    "start_time": "2022-08-27T09:00:05.577Z"
   },
   {
    "duration": 46,
    "start_time": "2022-08-27T09:00:19.737Z"
   },
   {
    "duration": 141,
    "start_time": "2022-08-27T09:00:21.527Z"
   },
   {
    "duration": 141,
    "start_time": "2022-08-27T09:00:28.393Z"
   },
   {
    "duration": 652,
    "start_time": "2022-08-27T09:43:00.998Z"
   },
   {
    "duration": 4,
    "start_time": "2022-08-27T09:43:02.309Z"
   },
   {
    "duration": 3,
    "start_time": "2022-08-27T09:43:13.022Z"
   },
   {
    "duration": 3,
    "start_time": "2022-08-27T09:43:54.294Z"
   },
   {
    "duration": 58080,
    "start_time": "2022-08-27T09:44:13.927Z"
   },
   {
    "duration": 1436,
    "start_time": "2022-08-27T10:16:18.746Z"
   },
   {
    "duration": 42,
    "start_time": "2022-08-27T10:16:20.184Z"
   },
   {
    "duration": 17,
    "start_time": "2022-08-27T10:16:20.228Z"
   },
   {
    "duration": 15,
    "start_time": "2022-08-27T10:16:20.247Z"
   },
   {
    "duration": 54,
    "start_time": "2022-08-27T10:16:20.264Z"
   },
   {
    "duration": 5,
    "start_time": "2022-08-27T10:16:20.319Z"
   },
   {
    "duration": 9,
    "start_time": "2022-08-27T10:16:20.325Z"
   },
   {
    "duration": 12,
    "start_time": "2022-08-27T10:16:20.335Z"
   },
   {
    "duration": 10,
    "start_time": "2022-08-27T10:16:20.348Z"
   },
   {
    "duration": 25,
    "start_time": "2022-08-27T10:16:20.361Z"
   },
   {
    "duration": 15,
    "start_time": "2022-08-27T10:16:20.388Z"
   },
   {
    "duration": 17,
    "start_time": "2022-08-27T10:16:20.405Z"
   },
   {
    "duration": 10,
    "start_time": "2022-08-27T10:16:20.423Z"
   },
   {
    "duration": 15,
    "start_time": "2022-08-27T10:16:20.434Z"
   },
   {
    "duration": 35,
    "start_time": "2022-08-27T10:16:20.450Z"
   },
   {
    "duration": 42,
    "start_time": "2022-08-27T10:16:20.488Z"
   },
   {
    "duration": 11,
    "start_time": "2022-08-27T10:16:20.532Z"
   },
   {
    "duration": 61,
    "start_time": "2022-08-27T10:16:20.545Z"
   },
   {
    "duration": 5,
    "start_time": "2022-08-27T10:16:20.609Z"
   },
   {
    "duration": 769,
    "start_time": "2022-08-27T10:16:20.616Z"
   },
   {
    "duration": 5,
    "start_time": "2022-08-27T10:16:21.387Z"
   },
   {
    "duration": 16,
    "start_time": "2022-08-27T10:16:21.394Z"
   },
   {
    "duration": 63647,
    "start_time": "2022-08-27T10:16:21.412Z"
   },
   {
    "duration": 430,
    "start_time": "2022-08-27T10:17:25.061Z"
   },
   {
    "duration": 5,
    "start_time": "2022-08-27T10:17:25.493Z"
   },
   {
    "duration": 109,
    "start_time": "2022-08-27T10:17:25.500Z"
   },
   {
    "duration": 12,
    "start_time": "2022-08-27T10:17:25.611Z"
   },
   {
    "duration": 24,
    "start_time": "2022-08-27T10:17:25.625Z"
   },
   {
    "duration": 21,
    "start_time": "2022-08-27T10:17:25.650Z"
   },
   {
    "duration": 94,
    "start_time": "2022-08-27T10:17:25.692Z"
   },
   {
    "duration": 117,
    "start_time": "2022-08-27T10:17:25.788Z"
   },
   {
    "duration": 6,
    "start_time": "2022-08-27T10:17:25.984Z"
   },
   {
    "duration": 108,
    "start_time": "2022-08-27T10:17:25.992Z"
   },
   {
    "duration": 443,
    "start_time": "2022-08-27T10:17:26.101Z"
   },
   {
    "duration": 1409,
    "start_time": "2022-08-27T10:17:26.546Z"
   },
   {
    "duration": 205,
    "start_time": "2022-08-27T10:17:27.956Z"
   },
   {
    "duration": 6,
    "start_time": "2022-08-27T10:17:28.163Z"
   },
   {
    "duration": 17,
    "start_time": "2022-08-27T10:17:28.170Z"
   },
   {
    "duration": 56,
    "start_time": "2022-08-27T10:17:28.189Z"
   },
   {
    "duration": 73,
    "start_time": "2022-08-27T10:17:28.247Z"
   },
   {
    "duration": 189,
    "start_time": "2022-08-27T10:17:28.321Z"
   },
   {
    "duration": 4,
    "start_time": "2022-08-29T16:45:07.128Z"
   },
   {
    "duration": 42,
    "start_time": "2022-08-29T16:45:07.134Z"
   },
   {
    "duration": 13,
    "start_time": "2022-08-29T16:45:07.177Z"
   },
   {
    "duration": 13,
    "start_time": "2022-08-29T16:45:07.191Z"
   },
   {
    "duration": 39,
    "start_time": "2022-08-29T16:45:07.205Z"
   },
   {
    "duration": 4,
    "start_time": "2022-08-29T16:45:07.246Z"
   },
   {
    "duration": 6,
    "start_time": "2022-08-29T16:45:07.251Z"
   },
   {
    "duration": 35,
    "start_time": "2022-08-29T16:45:07.258Z"
   },
   {
    "duration": 10,
    "start_time": "2022-08-29T16:45:07.295Z"
   },
   {
    "duration": 22,
    "start_time": "2022-08-29T16:45:07.306Z"
   },
   {
    "duration": 5,
    "start_time": "2022-08-29T16:45:07.329Z"
   },
   {
    "duration": 9,
    "start_time": "2022-08-29T16:45:07.335Z"
   },
   {
    "duration": 5,
    "start_time": "2022-08-29T16:45:07.346Z"
   },
   {
    "duration": 34,
    "start_time": "2022-08-29T16:45:07.352Z"
   },
   {
    "duration": 2,
    "start_time": "2022-08-29T16:45:07.388Z"
   },
   {
    "duration": 29,
    "start_time": "2022-08-29T16:45:07.391Z"
   },
   {
    "duration": 10,
    "start_time": "2022-08-29T16:45:07.422Z"
   },
   {
    "duration": 35,
    "start_time": "2022-08-29T16:45:07.434Z"
   },
   {
    "duration": 4,
    "start_time": "2022-08-29T16:45:07.484Z"
   },
   {
    "duration": 644,
    "start_time": "2022-08-29T16:45:07.489Z"
   },
   {
    "duration": 3,
    "start_time": "2022-08-29T16:45:08.135Z"
   },
   {
    "duration": 9,
    "start_time": "2022-08-29T16:45:08.140Z"
   },
   {
    "duration": 55354,
    "start_time": "2022-08-29T16:45:08.151Z"
   },
   {
    "duration": 179,
    "start_time": "2022-08-29T16:46:03.508Z"
   },
   {
    "duration": 4,
    "start_time": "2022-08-29T16:46:03.689Z"
   },
   {
    "duration": 190,
    "start_time": "2022-08-29T16:46:03.695Z"
   },
   {
    "duration": 10,
    "start_time": "2022-08-29T16:46:03.887Z"
   },
   {
    "duration": 31,
    "start_time": "2022-08-29T16:46:03.898Z"
   },
   {
    "duration": 54,
    "start_time": "2022-08-29T16:46:03.931Z"
   },
   {
    "duration": 5,
    "start_time": "2022-08-29T16:46:03.987Z"
   },
   {
    "duration": 143,
    "start_time": "2022-08-29T16:46:03.993Z"
   },
   {
    "duration": 7,
    "start_time": "2022-08-29T16:46:04.186Z"
   },
   {
    "duration": 106,
    "start_time": "2022-08-29T16:46:04.197Z"
   },
   {
    "duration": 398,
    "start_time": "2022-08-29T16:46:04.390Z"
   },
   {
    "duration": 1168,
    "start_time": "2022-08-29T16:46:04.790Z"
   },
   {
    "duration": 163,
    "start_time": "2022-08-29T16:46:05.959Z"
   },
   {
    "duration": 6,
    "start_time": "2022-08-29T16:46:06.124Z"
   },
   {
    "duration": 21,
    "start_time": "2022-08-29T16:46:06.132Z"
   },
   {
    "duration": 65,
    "start_time": "2022-08-29T16:46:06.155Z"
   },
   {
    "duration": 64,
    "start_time": "2022-08-29T16:46:06.222Z"
   },
   {
    "duration": 167,
    "start_time": "2022-08-29T16:46:06.288Z"
   },
   {
    "duration": 1321,
    "start_time": "2022-08-29T16:47:33.001Z"
   },
   {
    "duration": 40,
    "start_time": "2022-08-29T16:47:34.324Z"
   },
   {
    "duration": 22,
    "start_time": "2022-08-29T16:47:34.366Z"
   },
   {
    "duration": 33,
    "start_time": "2022-08-29T16:47:34.392Z"
   },
   {
    "duration": 46,
    "start_time": "2022-08-29T16:47:34.427Z"
   },
   {
    "duration": 7,
    "start_time": "2022-08-29T16:47:34.475Z"
   },
   {
    "duration": 8,
    "start_time": "2022-08-29T16:47:34.485Z"
   },
   {
    "duration": 14,
    "start_time": "2022-08-29T16:47:34.494Z"
   },
   {
    "duration": 18,
    "start_time": "2022-08-29T16:47:34.510Z"
   },
   {
    "duration": 11,
    "start_time": "2022-08-29T16:47:34.531Z"
   },
   {
    "duration": 11,
    "start_time": "2022-08-29T16:47:34.545Z"
   },
   {
    "duration": 24,
    "start_time": "2022-08-29T16:47:34.558Z"
   },
   {
    "duration": 8,
    "start_time": "2022-08-29T16:47:34.584Z"
   },
   {
    "duration": 16,
    "start_time": "2022-08-29T16:47:34.593Z"
   },
   {
    "duration": 3,
    "start_time": "2022-08-29T16:47:34.610Z"
   },
   {
    "duration": 28,
    "start_time": "2022-08-29T16:47:34.614Z"
   },
   {
    "duration": 43,
    "start_time": "2022-08-29T16:47:34.643Z"
   },
   {
    "duration": 35,
    "start_time": "2022-08-29T16:47:34.687Z"
   },
   {
    "duration": 3,
    "start_time": "2022-08-29T16:47:34.724Z"
   },
   {
    "duration": 701,
    "start_time": "2022-08-29T16:47:34.728Z"
   },
   {
    "duration": 4,
    "start_time": "2022-08-29T16:47:35.430Z"
   },
   {
    "duration": 149,
    "start_time": "2022-08-29T16:47:35.436Z"
   },
   {
    "duration": 4,
    "start_time": "2022-08-29T16:47:35.587Z"
   },
   {
    "duration": 100,
    "start_time": "2022-08-29T16:47:35.592Z"
   },
   {
    "duration": 5,
    "start_time": "2022-08-29T16:47:35.694Z"
   },
   {
    "duration": 14,
    "start_time": "2022-08-29T16:47:35.701Z"
   },
   {
    "duration": 68,
    "start_time": "2022-08-29T16:47:35.717Z"
   },
   {
    "duration": 6,
    "start_time": "2022-08-29T16:47:35.789Z"
   },
   {
    "duration": 57,
    "start_time": "2022-08-29T16:47:35.885Z"
   },
   {
    "duration": 6,
    "start_time": "2022-08-29T16:47:35.985Z"
   },
   {
    "duration": 117,
    "start_time": "2022-08-29T16:47:35.994Z"
   },
   {
    "duration": 447,
    "start_time": "2022-08-29T16:47:36.113Z"
   },
   {
    "duration": 1291,
    "start_time": "2022-08-29T16:47:36.562Z"
   },
   {
    "duration": 183,
    "start_time": "2022-08-29T16:47:37.855Z"
   },
   {
    "duration": 6,
    "start_time": "2022-08-29T16:47:38.039Z"
   },
   {
    "duration": 17,
    "start_time": "2022-08-29T16:47:38.046Z"
   },
   {
    "duration": 73,
    "start_time": "2022-08-29T16:47:38.064Z"
   },
   {
    "duration": 62,
    "start_time": "2022-08-29T16:47:38.139Z"
   },
   {
    "duration": 177,
    "start_time": "2022-08-29T16:47:38.203Z"
   },
   {
    "duration": 156,
    "start_time": "2022-08-29T16:58:28.731Z"
   },
   {
    "duration": 1202,
    "start_time": "2022-08-29T16:59:00.901Z"
   },
   {
    "duration": 0,
    "start_time": "2022-08-29T16:59:02.106Z"
   },
   {
    "duration": 0,
    "start_time": "2022-08-29T16:59:02.107Z"
   },
   {
    "duration": 0,
    "start_time": "2022-08-29T16:59:02.108Z"
   },
   {
    "duration": 0,
    "start_time": "2022-08-29T16:59:02.109Z"
   },
   {
    "duration": 0,
    "start_time": "2022-08-29T16:59:02.110Z"
   },
   {
    "duration": 0,
    "start_time": "2022-08-29T16:59:02.111Z"
   },
   {
    "duration": 0,
    "start_time": "2022-08-29T16:59:02.112Z"
   },
   {
    "duration": 0,
    "start_time": "2022-08-29T16:59:02.113Z"
   },
   {
    "duration": 0,
    "start_time": "2022-08-29T16:59:02.114Z"
   },
   {
    "duration": 0,
    "start_time": "2022-08-29T16:59:02.115Z"
   },
   {
    "duration": 0,
    "start_time": "2022-08-29T16:59:02.116Z"
   },
   {
    "duration": 0,
    "start_time": "2022-08-29T16:59:02.118Z"
   },
   {
    "duration": 0,
    "start_time": "2022-08-29T16:59:02.119Z"
   },
   {
    "duration": 0,
    "start_time": "2022-08-29T16:59:02.121Z"
   },
   {
    "duration": 0,
    "start_time": "2022-08-29T16:59:02.122Z"
   },
   {
    "duration": 0,
    "start_time": "2022-08-29T16:59:02.123Z"
   },
   {
    "duration": 0,
    "start_time": "2022-08-29T16:59:02.124Z"
   },
   {
    "duration": 0,
    "start_time": "2022-08-29T16:59:02.125Z"
   },
   {
    "duration": 0,
    "start_time": "2022-08-29T16:59:02.126Z"
   },
   {
    "duration": 0,
    "start_time": "2022-08-29T16:59:02.126Z"
   },
   {
    "duration": 0,
    "start_time": "2022-08-29T16:59:02.128Z"
   },
   {
    "duration": 0,
    "start_time": "2022-08-29T16:59:02.129Z"
   },
   {
    "duration": 0,
    "start_time": "2022-08-29T16:59:02.131Z"
   },
   {
    "duration": 0,
    "start_time": "2022-08-29T16:59:02.132Z"
   },
   {
    "duration": 0,
    "start_time": "2022-08-29T16:59:02.134Z"
   },
   {
    "duration": 0,
    "start_time": "2022-08-29T16:59:02.136Z"
   },
   {
    "duration": 0,
    "start_time": "2022-08-29T16:59:02.137Z"
   },
   {
    "duration": 0,
    "start_time": "2022-08-29T16:59:02.138Z"
   },
   {
    "duration": 0,
    "start_time": "2022-08-29T16:59:02.185Z"
   },
   {
    "duration": 0,
    "start_time": "2022-08-29T16:59:02.187Z"
   },
   {
    "duration": 0,
    "start_time": "2022-08-29T16:59:02.188Z"
   },
   {
    "duration": 0,
    "start_time": "2022-08-29T16:59:02.190Z"
   },
   {
    "duration": 0,
    "start_time": "2022-08-29T16:59:02.191Z"
   },
   {
    "duration": 0,
    "start_time": "2022-08-29T16:59:02.192Z"
   },
   {
    "duration": 0,
    "start_time": "2022-08-29T16:59:02.194Z"
   },
   {
    "duration": 0,
    "start_time": "2022-08-29T16:59:02.196Z"
   },
   {
    "duration": 0,
    "start_time": "2022-08-29T16:59:02.197Z"
   },
   {
    "duration": 0,
    "start_time": "2022-08-29T16:59:02.198Z"
   },
   {
    "duration": 183,
    "start_time": "2022-08-29T16:59:25.783Z"
   },
   {
    "duration": 39,
    "start_time": "2022-08-29T16:59:25.967Z"
   },
   {
    "duration": 15,
    "start_time": "2022-08-29T16:59:26.008Z"
   },
   {
    "duration": 13,
    "start_time": "2022-08-29T16:59:26.024Z"
   },
   {
    "duration": 47,
    "start_time": "2022-08-29T16:59:26.039Z"
   },
   {
    "duration": 5,
    "start_time": "2022-08-29T16:59:26.088Z"
   },
   {
    "duration": 5,
    "start_time": "2022-08-29T16:59:26.095Z"
   },
   {
    "duration": 10,
    "start_time": "2022-08-29T16:59:26.101Z"
   },
   {
    "duration": 9,
    "start_time": "2022-08-29T16:59:26.113Z"
   },
   {
    "duration": 9,
    "start_time": "2022-08-29T16:59:26.123Z"
   },
   {
    "duration": 4,
    "start_time": "2022-08-29T16:59:26.134Z"
   },
   {
    "duration": 12,
    "start_time": "2022-08-29T16:59:26.139Z"
   },
   {
    "duration": 37,
    "start_time": "2022-08-29T16:59:26.152Z"
   },
   {
    "duration": 17,
    "start_time": "2022-08-29T16:59:26.192Z"
   },
   {
    "duration": 3,
    "start_time": "2022-08-29T16:59:26.210Z"
   },
   {
    "duration": 31,
    "start_time": "2022-08-29T16:59:26.215Z"
   },
   {
    "duration": 39,
    "start_time": "2022-08-29T16:59:26.248Z"
   },
   {
    "duration": 29,
    "start_time": "2022-08-29T16:59:26.288Z"
   },
   {
    "duration": 3,
    "start_time": "2022-08-29T16:59:26.319Z"
   },
   {
    "duration": 633,
    "start_time": "2022-08-29T16:59:26.323Z"
   },
   {
    "duration": 4,
    "start_time": "2022-08-29T16:59:26.957Z"
   },
   {
    "duration": 127,
    "start_time": "2022-08-29T16:59:26.963Z"
   },
   {
    "duration": 196,
    "start_time": "2022-08-29T16:59:27.091Z"
   },
   {
    "duration": 12,
    "start_time": "2022-08-29T16:59:27.288Z"
   },
   {
    "duration": 9,
    "start_time": "2022-08-29T16:59:27.302Z"
   },
   {
    "duration": 18,
    "start_time": "2022-08-29T16:59:27.312Z"
   },
   {
    "duration": 55,
    "start_time": "2022-08-29T16:59:27.331Z"
   },
   {
    "duration": 4,
    "start_time": "2022-08-29T16:59:27.388Z"
   },
   {
    "duration": 246,
    "start_time": "2022-08-29T16:59:27.394Z"
   },
   {
    "duration": 5,
    "start_time": "2022-08-29T16:59:27.689Z"
   },
   {
    "duration": 21,
    "start_time": "2022-08-29T16:59:27.785Z"
   },
   {
    "duration": 432,
    "start_time": "2022-08-29T16:59:27.807Z"
   },
   {
    "duration": 3329,
    "start_time": "2022-08-29T16:59:28.241Z"
   },
   {
    "duration": 172,
    "start_time": "2022-08-29T16:59:31.572Z"
   },
   {
    "duration": 7,
    "start_time": "2022-08-29T16:59:31.746Z"
   },
   {
    "duration": 21,
    "start_time": "2022-08-29T16:59:31.755Z"
   },
   {
    "duration": 131,
    "start_time": "2022-08-29T16:59:31.784Z"
   },
   {
    "duration": 50,
    "start_time": "2022-08-29T16:59:31.916Z"
   },
   {
    "duration": 319,
    "start_time": "2022-08-29T16:59:31.967Z"
   },
   {
    "duration": 1364,
    "start_time": "2022-08-29T17:00:22.493Z"
   },
   {
    "duration": 39,
    "start_time": "2022-08-29T17:00:23.860Z"
   },
   {
    "duration": 17,
    "start_time": "2022-08-29T17:00:23.900Z"
   },
   {
    "duration": 13,
    "start_time": "2022-08-29T17:00:23.920Z"
   },
   {
    "duration": 55,
    "start_time": "2022-08-29T17:00:23.935Z"
   },
   {
    "duration": 6,
    "start_time": "2022-08-29T17:00:23.992Z"
   },
   {
    "duration": 9,
    "start_time": "2022-08-29T17:00:23.999Z"
   },
   {
    "duration": 12,
    "start_time": "2022-08-29T17:00:24.009Z"
   },
   {
    "duration": 10,
    "start_time": "2022-08-29T17:00:24.022Z"
   },
   {
    "duration": 7,
    "start_time": "2022-08-29T17:00:24.034Z"
   },
   {
    "duration": 11,
    "start_time": "2022-08-29T17:00:24.042Z"
   },
   {
    "duration": 30,
    "start_time": "2022-08-29T17:00:24.055Z"
   },
   {
    "duration": 5,
    "start_time": "2022-08-29T17:00:24.086Z"
   },
   {
    "duration": 20,
    "start_time": "2022-08-29T17:00:24.092Z"
   },
   {
    "duration": 3,
    "start_time": "2022-08-29T17:00:24.113Z"
   },
   {
    "duration": 33,
    "start_time": "2022-08-29T17:00:24.118Z"
   },
   {
    "duration": 37,
    "start_time": "2022-08-29T17:00:24.153Z"
   },
   {
    "duration": 44,
    "start_time": "2022-08-29T17:00:24.191Z"
   },
   {
    "duration": 7,
    "start_time": "2022-08-29T17:00:24.236Z"
   },
   {
    "duration": 664,
    "start_time": "2022-08-29T17:00:24.244Z"
   },
   {
    "duration": 3,
    "start_time": "2022-08-29T17:00:24.910Z"
   },
   {
    "duration": 171,
    "start_time": "2022-08-29T17:00:24.914Z"
   },
   {
    "duration": 4,
    "start_time": "2022-08-29T17:00:25.086Z"
   },
   {
    "duration": 101,
    "start_time": "2022-08-29T17:00:25.091Z"
   },
   {
    "duration": 8,
    "start_time": "2022-08-29T17:00:25.193Z"
   },
   {
    "duration": 14,
    "start_time": "2022-08-29T17:00:25.202Z"
   },
   {
    "duration": 68,
    "start_time": "2022-08-29T17:00:25.217Z"
   },
   {
    "duration": 5,
    "start_time": "2022-08-29T17:00:25.289Z"
   },
   {
    "duration": 302,
    "start_time": "2022-08-29T17:00:25.385Z"
   },
   {
    "duration": 5,
    "start_time": "2022-08-29T17:00:25.689Z"
   },
   {
    "duration": 125,
    "start_time": "2022-08-29T17:00:25.786Z"
   },
   {
    "duration": 428,
    "start_time": "2022-08-29T17:00:25.913Z"
   },
   {
    "duration": 5744,
    "start_time": "2022-08-29T17:00:26.343Z"
   },
   {
    "duration": 166,
    "start_time": "2022-08-29T17:00:32.089Z"
   },
   {
    "duration": 6,
    "start_time": "2022-08-29T17:00:32.256Z"
   },
   {
    "duration": 30,
    "start_time": "2022-08-29T17:00:32.263Z"
   },
   {
    "duration": 231,
    "start_time": "2022-08-29T17:00:32.294Z"
   },
   {
    "duration": 61,
    "start_time": "2022-08-29T17:00:32.527Z"
   },
   {
    "duration": 168,
    "start_time": "2022-08-29T17:00:32.589Z"
   },
   {
    "duration": 4642,
    "start_time": "2022-08-29T17:01:37.527Z"
   },
   {
    "duration": 149,
    "start_time": "2022-08-29T17:01:42.171Z"
   },
   {
    "duration": 6,
    "start_time": "2022-08-29T17:01:44.758Z"
   },
   {
    "duration": 17,
    "start_time": "2022-08-29T17:01:46.390Z"
   },
   {
    "duration": 48,
    "start_time": "2022-08-29T17:01:52.646Z"
   },
   {
    "duration": 1380,
    "start_time": "2022-08-29T17:02:02.458Z"
   },
   {
    "duration": 39,
    "start_time": "2022-08-29T17:02:03.839Z"
   },
   {
    "duration": 16,
    "start_time": "2022-08-29T17:02:03.879Z"
   },
   {
    "duration": 12,
    "start_time": "2022-08-29T17:02:03.896Z"
   },
   {
    "duration": 42,
    "start_time": "2022-08-29T17:02:03.909Z"
   },
   {
    "duration": 4,
    "start_time": "2022-08-29T17:02:03.953Z"
   },
   {
    "duration": 29,
    "start_time": "2022-08-29T17:02:03.958Z"
   },
   {
    "duration": 11,
    "start_time": "2022-08-29T17:02:03.989Z"
   },
   {
    "duration": 13,
    "start_time": "2022-08-29T17:02:04.002Z"
   },
   {
    "duration": 11,
    "start_time": "2022-08-29T17:02:04.017Z"
   },
   {
    "duration": 23,
    "start_time": "2022-08-29T17:02:04.030Z"
   },
   {
    "duration": 27,
    "start_time": "2022-08-29T17:02:04.054Z"
   },
   {
    "duration": 17,
    "start_time": "2022-08-29T17:02:04.082Z"
   },
   {
    "duration": 46,
    "start_time": "2022-08-29T17:02:04.101Z"
   },
   {
    "duration": 5,
    "start_time": "2022-08-29T17:02:04.148Z"
   },
   {
    "duration": 39,
    "start_time": "2022-08-29T17:02:04.154Z"
   },
   {
    "duration": 10,
    "start_time": "2022-08-29T17:02:04.195Z"
   },
   {
    "duration": 50,
    "start_time": "2022-08-29T17:02:04.206Z"
   },
   {
    "duration": 3,
    "start_time": "2022-08-29T17:02:04.257Z"
   },
   {
    "duration": 659,
    "start_time": "2022-08-29T17:02:04.261Z"
   },
   {
    "duration": 3,
    "start_time": "2022-08-29T17:02:04.922Z"
   },
   {
    "duration": 164,
    "start_time": "2022-08-29T17:02:04.926Z"
   },
   {
    "duration": 96,
    "start_time": "2022-08-29T17:02:05.092Z"
   },
   {
    "duration": 119,
    "start_time": "2022-08-29T17:02:05.190Z"
   },
   {
    "duration": 14,
    "start_time": "2022-08-29T17:02:05.310Z"
   },
   {
    "duration": 28,
    "start_time": "2022-08-29T17:02:05.326Z"
   },
   {
    "duration": 29,
    "start_time": "2022-08-29T17:02:05.356Z"
   },
   {
    "duration": 101,
    "start_time": "2022-08-29T17:02:05.389Z"
   },
   {
    "duration": 400,
    "start_time": "2022-08-29T17:02:05.492Z"
   },
   {
    "duration": 91,
    "start_time": "2022-08-29T17:02:05.893Z"
   },
   {
    "duration": 122,
    "start_time": "2022-08-29T17:02:05.986Z"
   },
   {
    "duration": 450,
    "start_time": "2022-08-29T17:02:06.110Z"
   },
   {
    "duration": 4587,
    "start_time": "2022-08-29T17:02:06.561Z"
   },
   {
    "duration": 167,
    "start_time": "2022-08-29T17:02:11.150Z"
   },
   {
    "duration": 6,
    "start_time": "2022-08-29T17:02:11.318Z"
   },
   {
    "duration": 14,
    "start_time": "2022-08-29T17:02:11.325Z"
   },
   {
    "duration": 259,
    "start_time": "2022-08-29T17:02:11.340Z"
   },
   {
    "duration": 45,
    "start_time": "2022-08-29T17:02:11.600Z"
   },
   {
    "duration": 157,
    "start_time": "2022-08-29T17:02:11.647Z"
   },
   {
    "duration": 4,
    "start_time": "2022-08-29T17:04:10.749Z"
   },
   {
    "duration": 39,
    "start_time": "2022-08-29T17:04:10.755Z"
   },
   {
    "duration": 12,
    "start_time": "2022-08-29T17:04:10.796Z"
   },
   {
    "duration": 14,
    "start_time": "2022-08-29T17:04:10.809Z"
   },
   {
    "duration": 36,
    "start_time": "2022-08-29T17:04:10.825Z"
   },
   {
    "duration": 6,
    "start_time": "2022-08-29T17:04:10.884Z"
   },
   {
    "duration": 6,
    "start_time": "2022-08-29T17:04:10.891Z"
   },
   {
    "duration": 11,
    "start_time": "2022-08-29T17:04:10.898Z"
   },
   {
    "duration": 9,
    "start_time": "2022-08-29T17:04:10.911Z"
   },
   {
    "duration": 4,
    "start_time": "2022-08-29T17:04:10.922Z"
   },
   {
    "duration": 4,
    "start_time": "2022-08-29T17:04:10.928Z"
   },
   {
    "duration": 15,
    "start_time": "2022-08-29T17:04:10.933Z"
   },
   {
    "duration": 10,
    "start_time": "2022-08-29T17:04:10.950Z"
   },
   {
    "duration": 35,
    "start_time": "2022-08-29T17:04:10.961Z"
   },
   {
    "duration": 3,
    "start_time": "2022-08-29T17:04:10.997Z"
   },
   {
    "duration": 25,
    "start_time": "2022-08-29T17:04:11.001Z"
   },
   {
    "duration": 10,
    "start_time": "2022-08-29T17:04:11.027Z"
   },
   {
    "duration": 56,
    "start_time": "2022-08-29T17:04:11.039Z"
   },
   {
    "duration": 4,
    "start_time": "2022-08-29T17:04:11.096Z"
   },
   {
    "duration": 618,
    "start_time": "2022-08-29T17:04:11.101Z"
   },
   {
    "duration": 3,
    "start_time": "2022-08-29T17:04:11.721Z"
   },
   {
    "duration": 169,
    "start_time": "2022-08-29T17:04:11.725Z"
   },
   {
    "duration": 4,
    "start_time": "2022-08-29T17:04:11.986Z"
   },
   {
    "duration": 98,
    "start_time": "2022-08-29T17:04:11.994Z"
   },
   {
    "duration": 3,
    "start_time": "2022-08-29T17:04:12.094Z"
   },
   {
    "duration": 19,
    "start_time": "2022-08-29T17:04:12.098Z"
   },
   {
    "duration": 67,
    "start_time": "2022-08-29T17:04:12.119Z"
   },
   {
    "duration": 5,
    "start_time": "2022-08-29T17:04:12.188Z"
   },
   {
    "duration": 391,
    "start_time": "2022-08-29T17:04:12.194Z"
   },
   {
    "duration": 97,
    "start_time": "2022-08-29T17:04:12.587Z"
   },
   {
    "duration": 21,
    "start_time": "2022-08-29T17:04:12.686Z"
   },
   {
    "duration": 465,
    "start_time": "2022-08-29T17:04:12.709Z"
   },
   {
    "duration": 4545,
    "start_time": "2022-08-29T17:04:13.176Z"
   },
   {
    "duration": 214,
    "start_time": "2022-08-29T17:04:17.723Z"
   },
   {
    "duration": 6,
    "start_time": "2022-08-29T17:04:17.939Z"
   },
   {
    "duration": 15,
    "start_time": "2022-08-29T17:04:17.947Z"
   },
   {
    "duration": 255,
    "start_time": "2022-08-29T17:04:17.966Z"
   },
   {
    "duration": 45,
    "start_time": "2022-08-29T17:04:18.224Z"
   },
   {
    "duration": 177,
    "start_time": "2022-08-29T17:04:18.271Z"
   },
   {
    "duration": 1355,
    "start_time": "2022-08-29T17:09:48.528Z"
   },
   {
    "duration": 39,
    "start_time": "2022-08-29T17:09:49.885Z"
   },
   {
    "duration": 15,
    "start_time": "2022-08-29T17:09:49.925Z"
   },
   {
    "duration": 10,
    "start_time": "2022-08-29T17:09:49.942Z"
   },
   {
    "duration": 39,
    "start_time": "2022-08-29T17:09:49.953Z"
   },
   {
    "duration": 5,
    "start_time": "2022-08-29T17:09:49.994Z"
   },
   {
    "duration": 7,
    "start_time": "2022-08-29T17:09:50.000Z"
   },
   {
    "duration": 13,
    "start_time": "2022-08-29T17:09:50.009Z"
   },
   {
    "duration": 13,
    "start_time": "2022-08-29T17:09:50.024Z"
   },
   {
    "duration": 8,
    "start_time": "2022-08-29T17:09:50.039Z"
   },
   {
    "duration": 7,
    "start_time": "2022-08-29T17:09:50.048Z"
   },
   {
    "duration": 15,
    "start_time": "2022-08-29T17:09:50.057Z"
   },
   {
    "duration": 6,
    "start_time": "2022-08-29T17:09:50.085Z"
   },
   {
    "duration": 15,
    "start_time": "2022-08-29T17:09:50.092Z"
   },
   {
    "duration": 3,
    "start_time": "2022-08-29T17:09:50.108Z"
   },
   {
    "duration": 30,
    "start_time": "2022-08-29T17:09:50.112Z"
   },
   {
    "duration": 43,
    "start_time": "2022-08-29T17:09:50.143Z"
   },
   {
    "duration": 33,
    "start_time": "2022-08-29T17:09:50.188Z"
   },
   {
    "duration": 4,
    "start_time": "2022-08-29T17:09:50.223Z"
   },
   {
    "duration": 633,
    "start_time": "2022-08-29T17:09:50.229Z"
   },
   {
    "duration": 4,
    "start_time": "2022-08-29T17:09:50.863Z"
   },
   {
    "duration": 120,
    "start_time": "2022-08-29T17:09:50.869Z"
   },
   {
    "duration": 5,
    "start_time": "2022-08-29T17:09:50.991Z"
   },
   {
    "duration": 187,
    "start_time": "2022-08-29T17:09:50.998Z"
   },
   {
    "duration": 8,
    "start_time": "2022-08-29T17:09:51.187Z"
   },
   {
    "duration": 15,
    "start_time": "2022-08-29T17:09:51.197Z"
   },
   {
    "duration": 76,
    "start_time": "2022-08-29T17:09:51.213Z"
   },
   {
    "duration": 91,
    "start_time": "2022-08-29T17:09:51.294Z"
   },
   {
    "duration": 403,
    "start_time": "2022-08-29T17:09:51.387Z"
   },
   {
    "duration": 5,
    "start_time": "2022-08-29T17:09:51.792Z"
   },
   {
    "duration": 102,
    "start_time": "2022-08-29T17:09:51.798Z"
   },
   {
    "duration": 467,
    "start_time": "2022-08-29T17:09:51.901Z"
   },
   {
    "duration": 5856,
    "start_time": "2022-08-29T17:09:52.369Z"
   },
   {
    "duration": 3,
    "start_time": "2022-08-29T17:09:58.227Z"
   },
   {
    "duration": 521732,
    "start_time": "2022-08-29T17:09:58.232Z"
   },
   {
    "duration": 0,
    "start_time": "2022-08-29T17:18:39.966Z"
   },
   {
    "duration": 0,
    "start_time": "2022-08-29T17:18:39.967Z"
   },
   {
    "duration": 0,
    "start_time": "2022-08-29T17:18:39.968Z"
   },
   {
    "duration": 0,
    "start_time": "2022-08-29T17:18:39.969Z"
   },
   {
    "duration": 0,
    "start_time": "2022-08-29T17:18:39.969Z"
   },
   {
    "duration": 0,
    "start_time": "2022-08-29T17:18:39.970Z"
   },
   {
    "duration": 138933,
    "start_time": "2022-08-29T17:18:49.210Z"
   },
   {
    "duration": 1271,
    "start_time": "2022-08-29T17:21:18.136Z"
   },
   {
    "duration": 37,
    "start_time": "2022-08-29T17:21:19.409Z"
   },
   {
    "duration": 13,
    "start_time": "2022-08-29T17:21:19.448Z"
   },
   {
    "duration": 14,
    "start_time": "2022-08-29T17:21:19.463Z"
   },
   {
    "duration": 44,
    "start_time": "2022-08-29T17:21:19.479Z"
   },
   {
    "duration": 5,
    "start_time": "2022-08-29T17:21:19.524Z"
   },
   {
    "duration": 10,
    "start_time": "2022-08-29T17:21:19.531Z"
   },
   {
    "duration": 16,
    "start_time": "2022-08-29T17:21:19.542Z"
   },
   {
    "duration": 17,
    "start_time": "2022-08-29T17:21:19.559Z"
   },
   {
    "duration": 22,
    "start_time": "2022-08-29T17:21:19.577Z"
   },
   {
    "duration": 7,
    "start_time": "2022-08-29T17:21:19.601Z"
   },
   {
    "duration": 11,
    "start_time": "2022-08-29T17:21:19.610Z"
   },
   {
    "duration": 9,
    "start_time": "2022-08-29T17:21:19.623Z"
   },
   {
    "duration": 14,
    "start_time": "2022-08-29T17:21:19.635Z"
   },
   {
    "duration": 2,
    "start_time": "2022-08-29T17:21:19.651Z"
   },
   {
    "duration": 50,
    "start_time": "2022-08-29T17:21:19.654Z"
   },
   {
    "duration": 12,
    "start_time": "2022-08-29T17:21:19.706Z"
   },
   {
    "duration": 31,
    "start_time": "2022-08-29T17:21:19.720Z"
   },
   {
    "duration": 4,
    "start_time": "2022-08-29T17:21:19.752Z"
   },
   {
    "duration": 692,
    "start_time": "2022-08-29T17:21:19.758Z"
   },
   {
    "duration": 4,
    "start_time": "2022-08-29T17:21:20.452Z"
   },
   {
    "duration": 440,
    "start_time": "2022-08-29T17:21:20.458Z"
   },
   {
    "duration": 85,
    "start_time": "2022-08-29T17:21:20.900Z"
   },
   {
    "duration": 120,
    "start_time": "2022-08-29T17:21:20.987Z"
   },
   {
    "duration": 6,
    "start_time": "2022-08-29T17:21:21.109Z"
   },
   {
    "duration": 16,
    "start_time": "2022-08-29T17:21:21.116Z"
   },
   {
    "duration": 52,
    "start_time": "2022-08-29T17:21:21.133Z"
   },
   {
    "duration": 6,
    "start_time": "2022-08-29T17:21:21.187Z"
   },
   {
    "duration": 416,
    "start_time": "2022-08-29T17:21:21.194Z"
   },
   {
    "duration": 20,
    "start_time": "2022-08-29T17:21:21.686Z"
   },
   {
    "duration": 30,
    "start_time": "2022-08-29T17:21:21.786Z"
   },
   {
    "duration": 450,
    "start_time": "2022-08-29T17:21:21.819Z"
   },
   {
    "duration": 6491,
    "start_time": "2022-08-29T17:21:22.270Z"
   },
   {
    "duration": 3,
    "start_time": "2022-08-29T17:21:28.763Z"
   },
   {
    "duration": 11,
    "start_time": "2022-08-29T17:21:28.767Z"
   },
   {
    "duration": 180,
    "start_time": "2022-08-29T17:21:28.779Z"
   },
   {
    "duration": 6,
    "start_time": "2022-08-29T17:21:28.960Z"
   },
   {
    "duration": 29,
    "start_time": "2022-08-29T17:21:28.967Z"
   },
   {
    "duration": 271,
    "start_time": "2022-08-29T17:21:28.998Z"
   },
   {
    "duration": 65,
    "start_time": "2022-08-29T17:21:29.271Z"
   },
   {
    "duration": 175,
    "start_time": "2022-08-29T17:21:29.339Z"
   },
   {
    "duration": 15,
    "start_time": "2022-08-29T17:22:46.313Z"
   },
   {
    "duration": 62,
    "start_time": "2022-08-29T17:22:57.873Z"
   },
   {
    "duration": 15,
    "start_time": "2022-08-29T17:23:04.263Z"
   },
   {
    "duration": 5,
    "start_time": "2022-08-29T17:23:53.665Z"
   },
   {
    "duration": 48,
    "start_time": "2022-08-29T17:24:00.281Z"
   },
   {
    "duration": 4,
    "start_time": "2022-08-29T17:24:02.649Z"
   },
   {
    "duration": 47,
    "start_time": "2022-08-29T17:24:08.138Z"
   },
   {
    "duration": 4,
    "start_time": "2022-08-29T17:24:09.681Z"
   },
   {
    "duration": 29,
    "start_time": "2022-08-29T17:24:16.737Z"
   },
   {
    "duration": 4,
    "start_time": "2022-08-29T17:24:18.550Z"
   },
   {
    "duration": 1274,
    "start_time": "2022-08-29T17:24:27.397Z"
   },
   {
    "duration": 40,
    "start_time": "2022-08-29T17:24:28.673Z"
   },
   {
    "duration": 16,
    "start_time": "2022-08-29T17:24:28.714Z"
   },
   {
    "duration": 16,
    "start_time": "2022-08-29T17:24:28.732Z"
   },
   {
    "duration": 38,
    "start_time": "2022-08-29T17:24:28.749Z"
   },
   {
    "duration": 4,
    "start_time": "2022-08-29T17:24:28.789Z"
   },
   {
    "duration": 5,
    "start_time": "2022-08-29T17:24:28.794Z"
   },
   {
    "duration": 10,
    "start_time": "2022-08-29T17:24:28.800Z"
   },
   {
    "duration": 13,
    "start_time": "2022-08-29T17:24:28.811Z"
   },
   {
    "duration": 13,
    "start_time": "2022-08-29T17:24:28.826Z"
   },
   {
    "duration": 6,
    "start_time": "2022-08-29T17:24:28.841Z"
   },
   {
    "duration": 8,
    "start_time": "2022-08-29T17:24:28.849Z"
   },
   {
    "duration": 30,
    "start_time": "2022-08-29T17:24:28.858Z"
   },
   {
    "duration": 18,
    "start_time": "2022-08-29T17:24:28.889Z"
   },
   {
    "duration": 2,
    "start_time": "2022-08-29T17:24:28.909Z"
   },
   {
    "duration": 24,
    "start_time": "2022-08-29T17:24:28.912Z"
   },
   {
    "duration": 9,
    "start_time": "2022-08-29T17:24:28.938Z"
   },
   {
    "duration": 65,
    "start_time": "2022-08-29T17:24:28.948Z"
   },
   {
    "duration": 3,
    "start_time": "2022-08-29T17:24:29.015Z"
   },
   {
    "duration": 647,
    "start_time": "2022-08-29T17:24:29.020Z"
   },
   {
    "duration": 3,
    "start_time": "2022-08-29T17:24:29.669Z"
   },
   {
    "duration": 121,
    "start_time": "2022-08-29T17:24:29.673Z"
   },
   {
    "duration": 100,
    "start_time": "2022-08-29T17:24:29.886Z"
   },
   {
    "duration": 21,
    "start_time": "2022-08-29T17:24:29.988Z"
   },
   {
    "duration": 19,
    "start_time": "2022-08-29T17:24:30.010Z"
   },
   {
    "duration": 38,
    "start_time": "2022-08-29T17:24:30.030Z"
   },
   {
    "duration": 20,
    "start_time": "2022-08-29T17:24:30.070Z"
   },
   {
    "duration": 91,
    "start_time": "2022-08-29T17:24:30.093Z"
   },
   {
    "duration": 156,
    "start_time": "2022-08-29T17:24:30.187Z"
   },
   {
    "duration": 47,
    "start_time": "2022-08-29T17:24:30.345Z"
   },
   {
    "duration": 137,
    "start_time": "2022-08-29T17:24:30.393Z"
   },
   {
    "duration": 430,
    "start_time": "2022-08-29T17:24:30.532Z"
   },
   {
    "duration": 869,
    "start_time": "2022-08-29T17:24:30.963Z"
   },
   {
    "duration": 3,
    "start_time": "2022-08-29T17:24:31.833Z"
   },
   {
    "duration": 34910,
    "start_time": "2022-08-29T17:24:31.838Z"
   },
   {
    "duration": 0,
    "start_time": "2022-08-29T17:25:06.750Z"
   },
   {
    "duration": 0,
    "start_time": "2022-08-29T17:25:06.750Z"
   },
   {
    "duration": 1,
    "start_time": "2022-08-29T17:25:06.751Z"
   },
   {
    "duration": 0,
    "start_time": "2022-08-29T17:25:06.752Z"
   },
   {
    "duration": 0,
    "start_time": "2022-08-29T17:25:06.753Z"
   },
   {
    "duration": 0,
    "start_time": "2022-08-29T17:25:06.754Z"
   },
   {
    "duration": 1228,
    "start_time": "2022-08-29T17:25:16.226Z"
   },
   {
    "duration": 38,
    "start_time": "2022-08-29T17:25:17.456Z"
   },
   {
    "duration": 16,
    "start_time": "2022-08-29T17:25:17.495Z"
   },
   {
    "duration": 11,
    "start_time": "2022-08-29T17:25:17.513Z"
   },
   {
    "duration": 37,
    "start_time": "2022-08-29T17:25:17.526Z"
   },
   {
    "duration": 21,
    "start_time": "2022-08-29T17:25:17.564Z"
   },
   {
    "duration": 4,
    "start_time": "2022-08-29T17:25:17.586Z"
   },
   {
    "duration": 13,
    "start_time": "2022-08-29T17:25:17.591Z"
   },
   {
    "duration": 10,
    "start_time": "2022-08-29T17:25:17.605Z"
   },
   {
    "duration": 5,
    "start_time": "2022-08-29T17:25:17.617Z"
   },
   {
    "duration": 4,
    "start_time": "2022-08-29T17:25:17.623Z"
   },
   {
    "duration": 8,
    "start_time": "2022-08-29T17:25:17.629Z"
   },
   {
    "duration": 5,
    "start_time": "2022-08-29T17:25:17.638Z"
   },
   {
    "duration": 46,
    "start_time": "2022-08-29T17:25:17.644Z"
   },
   {
    "duration": 3,
    "start_time": "2022-08-29T17:25:17.692Z"
   },
   {
    "duration": 30,
    "start_time": "2022-08-29T17:25:17.696Z"
   },
   {
    "duration": 10,
    "start_time": "2022-08-29T17:25:17.727Z"
   },
   {
    "duration": 49,
    "start_time": "2022-08-29T17:25:17.739Z"
   },
   {
    "duration": 3,
    "start_time": "2022-08-29T17:25:17.789Z"
   },
   {
    "duration": 644,
    "start_time": "2022-08-29T17:25:17.793Z"
   },
   {
    "duration": 4,
    "start_time": "2022-08-29T17:25:18.439Z"
   },
   {
    "duration": 148,
    "start_time": "2022-08-29T17:25:18.444Z"
   },
   {
    "duration": 91,
    "start_time": "2022-08-29T17:25:18.595Z"
   },
   {
    "duration": 100,
    "start_time": "2022-08-29T17:25:18.687Z"
   },
   {
    "duration": 5,
    "start_time": "2022-08-29T17:25:18.788Z"
   },
   {
    "duration": 14,
    "start_time": "2022-08-29T17:25:18.795Z"
   },
   {
    "duration": 19,
    "start_time": "2022-08-29T17:25:18.810Z"
   },
   {
    "duration": 55,
    "start_time": "2022-08-29T17:25:18.831Z"
   },
   {
    "duration": 127,
    "start_time": "2022-08-29T17:25:18.887Z"
   },
   {
    "duration": 7,
    "start_time": "2022-08-29T17:25:19.084Z"
   },
   {
    "duration": 116,
    "start_time": "2022-08-29T17:25:19.094Z"
   },
   {
    "duration": 418,
    "start_time": "2022-08-29T17:25:19.212Z"
   },
   {
    "duration": 859,
    "start_time": "2022-08-29T17:25:19.632Z"
   },
   {
    "duration": 3,
    "start_time": "2022-08-29T17:25:20.493Z"
   },
   {
    "duration": 6,
    "start_time": "2022-08-29T17:25:20.497Z"
   },
   {
    "duration": 181,
    "start_time": "2022-08-29T17:25:20.504Z"
   },
   {
    "duration": 6,
    "start_time": "2022-08-29T17:25:20.686Z"
   },
   {
    "duration": 16,
    "start_time": "2022-08-29T17:25:20.693Z"
   },
   {
    "duration": 40,
    "start_time": "2022-08-29T17:25:20.710Z"
   },
   {
    "duration": 72,
    "start_time": "2022-08-29T17:25:20.751Z"
   },
   {
    "duration": 165,
    "start_time": "2022-08-29T17:25:20.825Z"
   },
   {
    "duration": 3,
    "start_time": "2022-08-29T17:26:07.763Z"
   },
   {
    "duration": 21,
    "start_time": "2022-08-29T17:26:13.643Z"
   },
   {
    "duration": 4,
    "start_time": "2022-08-29T17:26:15.378Z"
   },
   {
    "duration": 19,
    "start_time": "2022-08-29T17:26:18.730Z"
   },
   {
    "duration": 4,
    "start_time": "2022-08-29T17:26:19.794Z"
   },
   {
    "duration": 18,
    "start_time": "2022-08-29T17:26:25.284Z"
   },
   {
    "duration": 4,
    "start_time": "2022-08-29T17:26:27.523Z"
   },
   {
    "duration": 1307,
    "start_time": "2022-08-29T17:26:49.181Z"
   },
   {
    "duration": 40,
    "start_time": "2022-08-29T17:26:50.490Z"
   },
   {
    "duration": 18,
    "start_time": "2022-08-29T17:26:50.532Z"
   },
   {
    "duration": 14,
    "start_time": "2022-08-29T17:26:50.553Z"
   },
   {
    "duration": 38,
    "start_time": "2022-08-29T17:26:50.569Z"
   },
   {
    "duration": 4,
    "start_time": "2022-08-29T17:26:50.608Z"
   },
   {
    "duration": 7,
    "start_time": "2022-08-29T17:26:50.614Z"
   },
   {
    "duration": 19,
    "start_time": "2022-08-29T17:26:50.623Z"
   },
   {
    "duration": 15,
    "start_time": "2022-08-29T17:26:50.644Z"
   },
   {
    "duration": 5,
    "start_time": "2022-08-29T17:26:50.663Z"
   },
   {
    "duration": 18,
    "start_time": "2022-08-29T17:26:50.669Z"
   },
   {
    "duration": 9,
    "start_time": "2022-08-29T17:26:50.688Z"
   },
   {
    "duration": 9,
    "start_time": "2022-08-29T17:26:50.699Z"
   },
   {
    "duration": 21,
    "start_time": "2022-08-29T17:26:50.709Z"
   },
   {
    "duration": 2,
    "start_time": "2022-08-29T17:26:50.732Z"
   },
   {
    "duration": 56,
    "start_time": "2022-08-29T17:26:50.736Z"
   },
   {
    "duration": 10,
    "start_time": "2022-08-29T17:26:50.794Z"
   },
   {
    "duration": 32,
    "start_time": "2022-08-29T17:26:50.806Z"
   },
   {
    "duration": 4,
    "start_time": "2022-08-29T17:26:50.839Z"
   },
   {
    "duration": 638,
    "start_time": "2022-08-29T17:26:50.844Z"
   },
   {
    "duration": 3,
    "start_time": "2022-08-29T17:26:51.485Z"
   },
   {
    "duration": 106,
    "start_time": "2022-08-29T17:26:51.490Z"
   },
   {
    "duration": 193,
    "start_time": "2022-08-29T17:26:51.597Z"
   },
   {
    "duration": 10,
    "start_time": "2022-08-29T17:26:51.792Z"
   },
   {
    "duration": 4,
    "start_time": "2022-08-29T17:26:51.803Z"
   },
   {
    "duration": 19,
    "start_time": "2022-08-29T17:26:51.809Z"
   },
   {
    "duration": 55,
    "start_time": "2022-08-29T17:26:51.830Z"
   },
   {
    "duration": 5,
    "start_time": "2022-08-29T17:26:51.889Z"
   },
   {
    "duration": 127,
    "start_time": "2022-08-29T17:26:51.896Z"
   },
   {
    "duration": 61,
    "start_time": "2022-08-29T17:26:52.025Z"
   },
   {
    "duration": 124,
    "start_time": "2022-08-29T17:26:52.088Z"
   },
   {
    "duration": 499,
    "start_time": "2022-08-29T17:26:52.217Z"
   },
   {
    "duration": 888,
    "start_time": "2022-08-29T17:26:52.718Z"
   },
   {
    "duration": 3,
    "start_time": "2022-08-29T17:26:53.608Z"
   },
   {
    "duration": 8,
    "start_time": "2022-08-29T17:26:53.613Z"
   },
   {
    "duration": 174,
    "start_time": "2022-08-29T17:26:53.622Z"
   },
   {
    "duration": 6,
    "start_time": "2022-08-29T17:26:53.797Z"
   },
   {
    "duration": 17,
    "start_time": "2022-08-29T17:26:53.805Z"
   },
   {
    "duration": 39,
    "start_time": "2022-08-29T17:26:53.824Z"
   },
   {
    "duration": 73,
    "start_time": "2022-08-29T17:26:53.864Z"
   },
   {
    "duration": 183,
    "start_time": "2022-08-29T17:26:53.939Z"
   },
   {
    "duration": 330,
    "start_time": "2022-08-29T17:28:08.416Z"
   },
   {
    "duration": 901,
    "start_time": "2022-08-29T17:28:09.879Z"
   },
   {
    "duration": 891,
    "start_time": "2022-08-29T17:28:12.487Z"
   },
   {
    "duration": 278,
    "start_time": "2022-08-29T17:28:31.713Z"
   },
   {
    "duration": 289,
    "start_time": "2022-08-29T17:28:44.592Z"
   },
   {
    "duration": 733,
    "start_time": "2022-08-29T17:29:00.274Z"
   },
   {
    "duration": 105,
    "start_time": "2022-08-29T17:29:07.033Z"
   },
   {
    "duration": 68,
    "start_time": "2022-08-29T17:29:12.089Z"
   },
   {
    "duration": 331,
    "start_time": "2022-08-29T17:29:18.128Z"
   },
   {
    "duration": 865,
    "start_time": "2022-08-29T17:29:21.753Z"
   },
   {
    "duration": 490,
    "start_time": "2022-08-29T17:29:34.121Z"
   },
   {
    "duration": 466,
    "start_time": "2022-08-29T17:29:39.985Z"
   },
   {
    "duration": 430,
    "start_time": "2022-08-29T17:29:49.537Z"
   },
   {
    "duration": 545,
    "start_time": "2022-08-29T17:29:54.241Z"
   },
   {
    "duration": 606,
    "start_time": "2022-08-29T17:29:59.049Z"
   },
   {
    "duration": 508,
    "start_time": "2022-08-29T17:30:03.617Z"
   },
   {
    "duration": 692,
    "start_time": "2022-08-29T17:30:09.993Z"
   },
   {
    "duration": 543,
    "start_time": "2022-08-29T17:30:13.914Z"
   },
   {
    "duration": 431,
    "start_time": "2022-08-29T17:30:21.354Z"
   },
   {
    "duration": 275,
    "start_time": "2022-08-29T17:30:25.513Z"
   },
   {
    "duration": 436,
    "start_time": "2022-08-29T17:30:30.170Z"
   },
   {
    "duration": 423,
    "start_time": "2022-08-29T17:30:36.889Z"
   },
   {
    "duration": 423,
    "start_time": "2022-08-29T17:30:42.155Z"
   },
   {
    "duration": 441,
    "start_time": "2022-08-29T17:30:47.338Z"
   },
   {
    "duration": 136,
    "start_time": "2022-08-29T17:30:58.610Z"
   },
   {
    "duration": 6,
    "start_time": "2022-08-29T17:31:00.634Z"
   },
   {
    "duration": 21,
    "start_time": "2022-08-29T17:31:04.498Z"
   },
   {
    "duration": 40,
    "start_time": "2022-08-29T17:31:05.778Z"
   },
   {
    "duration": 31,
    "start_time": "2022-08-29T17:31:08.274Z"
   },
   {
    "duration": 149,
    "start_time": "2022-08-29T17:31:10.258Z"
   },
   {
    "duration": 3,
    "start_time": "2022-08-29T17:32:58.020Z"
   },
   {
    "duration": 67955,
    "start_time": "2022-08-29T17:33:06.954Z"
   },
   {
    "duration": 4,
    "start_time": "2022-08-29T17:35:01.779Z"
   },
   {
    "duration": 3,
    "start_time": "2022-08-29T17:35:39.549Z"
   },
   {
    "duration": 468,
    "start_time": "2022-08-29T17:35:54.917Z"
   },
   {
    "duration": 33,
    "start_time": "2022-08-29T17:37:10.071Z"
   },
   {
    "duration": 36,
    "start_time": "2022-08-29T17:37:58.215Z"
   },
   {
    "duration": 97,
    "start_time": "2022-08-29T17:38:02.279Z"
   },
   {
    "duration": 33,
    "start_time": "2022-08-29T17:38:18.575Z"
   },
   {
    "duration": 522,
    "start_time": "2022-08-29T17:38:31.311Z"
   },
   {
    "duration": 37,
    "start_time": "2022-08-29T17:38:34.191Z"
   },
   {
    "duration": 10,
    "start_time": "2022-08-29T17:38:40.046Z"
   },
   {
    "duration": 41,
    "start_time": "2022-08-29T17:39:06.592Z"
   },
   {
    "duration": 9,
    "start_time": "2022-08-29T17:41:07.136Z"
   },
   {
    "duration": 8,
    "start_time": "2022-08-29T17:41:33.724Z"
   },
   {
    "duration": 1266,
    "start_time": "2022-08-29T17:42:11.940Z"
   },
   {
    "duration": 38,
    "start_time": "2022-08-29T17:42:13.208Z"
   },
   {
    "duration": 14,
    "start_time": "2022-08-29T17:42:13.247Z"
   },
   {
    "duration": 10,
    "start_time": "2022-08-29T17:42:13.264Z"
   },
   {
    "duration": 40,
    "start_time": "2022-08-29T17:42:13.276Z"
   },
   {
    "duration": 5,
    "start_time": "2022-08-29T17:42:13.318Z"
   },
   {
    "duration": 29,
    "start_time": "2022-08-29T17:42:13.325Z"
   },
   {
    "duration": 11,
    "start_time": "2022-08-29T17:42:13.356Z"
   },
   {
    "duration": 11,
    "start_time": "2022-08-29T17:42:13.369Z"
   },
   {
    "duration": 5,
    "start_time": "2022-08-29T17:42:13.383Z"
   },
   {
    "duration": 14,
    "start_time": "2022-08-29T17:42:13.390Z"
   },
   {
    "duration": 19,
    "start_time": "2022-08-29T17:42:13.406Z"
   },
   {
    "duration": 6,
    "start_time": "2022-08-29T17:42:13.427Z"
   },
   {
    "duration": 24,
    "start_time": "2022-08-29T17:42:13.434Z"
   },
   {
    "duration": 3,
    "start_time": "2022-08-29T17:42:13.460Z"
   },
   {
    "duration": 32,
    "start_time": "2022-08-29T17:42:13.464Z"
   },
   {
    "duration": 11,
    "start_time": "2022-08-29T17:42:13.498Z"
   },
   {
    "duration": 36,
    "start_time": "2022-08-29T17:42:13.511Z"
   },
   {
    "duration": 4,
    "start_time": "2022-08-29T17:42:13.549Z"
   },
   {
    "duration": 627,
    "start_time": "2022-08-29T17:42:13.554Z"
   },
   {
    "duration": 4,
    "start_time": "2022-08-29T17:42:14.182Z"
   },
   {
    "duration": 209,
    "start_time": "2022-08-29T17:42:14.187Z"
   },
   {
    "duration": 90,
    "start_time": "2022-08-29T17:42:14.397Z"
   },
   {
    "duration": 108,
    "start_time": "2022-08-29T17:42:14.489Z"
   },
   {
    "duration": 17,
    "start_time": "2022-08-29T17:42:14.599Z"
   },
   {
    "duration": 15,
    "start_time": "2022-08-29T17:42:14.618Z"
   },
   {
    "duration": 52,
    "start_time": "2022-08-29T17:42:14.634Z"
   },
   {
    "duration": 6,
    "start_time": "2022-08-29T17:42:14.689Z"
   },
   {
    "duration": 124,
    "start_time": "2022-08-29T17:42:14.697Z"
   },
   {
    "duration": 66,
    "start_time": "2022-08-29T17:42:14.824Z"
   },
   {
    "duration": 107,
    "start_time": "2022-08-29T17:42:14.895Z"
   },
   {
    "duration": 449,
    "start_time": "2022-08-29T17:42:15.004Z"
   },
   {
    "duration": 446,
    "start_time": "2022-08-29T17:42:15.456Z"
   },
   {
    "duration": 3,
    "start_time": "2022-08-29T17:42:15.904Z"
   },
   {
    "duration": 7,
    "start_time": "2022-08-29T17:42:15.908Z"
   },
   {
    "duration": 159,
    "start_time": "2022-08-29T17:42:15.916Z"
   },
   {
    "duration": 11,
    "start_time": "2022-08-29T17:42:16.077Z"
   },
   {
    "duration": 39,
    "start_time": "2022-08-29T17:42:16.090Z"
   },
   {
    "duration": 46,
    "start_time": "2022-08-29T17:42:16.131Z"
   },
   {
    "duration": 111,
    "start_time": "2022-08-29T17:42:16.179Z"
   },
   {
    "duration": 0,
    "start_time": "2022-08-29T17:42:16.291Z"
   },
   {
    "duration": 0,
    "start_time": "2022-08-29T17:42:16.292Z"
   },
   {
    "duration": 30,
    "start_time": "2022-08-29T17:43:07.198Z"
   },
   {
    "duration": 143,
    "start_time": "2022-08-29T17:43:08.398Z"
   },
   {
    "duration": 12,
    "start_time": "2022-08-29T17:43:53.640Z"
   },
   {
    "duration": 181,
    "start_time": "2022-08-29T17:44:11.943Z"
   },
   {
    "duration": 28,
    "start_time": "2022-08-29T17:44:57.032Z"
   },
   {
    "duration": 124,
    "start_time": "2022-08-29T17:47:21.144Z"
   },
   {
    "duration": 140,
    "start_time": "2022-08-29T17:47:23.888Z"
   },
   {
    "duration": 431,
    "start_time": "2022-08-29T17:47:26.520Z"
   },
   {
    "duration": 224,
    "start_time": "2022-08-29T17:47:28.432Z"
   },
   {
    "duration": 7,
    "start_time": "2022-08-29T17:47:40.143Z"
   },
   {
    "duration": 18,
    "start_time": "2022-08-29T17:47:42.408Z"
   },
   {
    "duration": 29,
    "start_time": "2022-08-29T17:48:07.016Z"
   },
   {
    "duration": 139,
    "start_time": "2022-08-29T17:48:08.744Z"
   },
   {
    "duration": 6,
    "start_time": "2022-08-29T17:48:45.713Z"
   },
   {
    "duration": 143,
    "start_time": "2022-08-29T17:48:49.185Z"
   },
   {
    "duration": 7,
    "start_time": "2022-08-29T17:48:51.393Z"
   },
   {
    "duration": 7,
    "start_time": "2022-08-29T17:49:02.769Z"
   },
   {
    "duration": 158,
    "start_time": "2022-08-29T17:49:37.753Z"
   },
   {
    "duration": 7,
    "start_time": "2022-08-29T17:49:45.953Z"
   },
   {
    "duration": 10,
    "start_time": "2022-08-29T17:50:34.130Z"
   },
   {
    "duration": 180,
    "start_time": "2022-08-29T17:50:35.746Z"
   },
   {
    "duration": 35,
    "start_time": "2022-08-29T17:50:40.179Z"
   },
   {
    "duration": 143,
    "start_time": "2022-08-29T17:50:53.747Z"
   },
   {
    "duration": 5,
    "start_time": "2022-08-29T17:51:03.379Z"
   },
   {
    "duration": 109,
    "start_time": "2022-08-29T18:05:16.079Z"
   },
   {
    "duration": 1763,
    "start_time": "2022-08-29T18:57:06.950Z"
   },
   {
    "duration": 82,
    "start_time": "2022-08-29T18:57:08.715Z"
   },
   {
    "duration": 14,
    "start_time": "2022-08-29T18:57:08.798Z"
   },
   {
    "duration": 10,
    "start_time": "2022-08-29T18:57:08.814Z"
   },
   {
    "duration": 33,
    "start_time": "2022-08-29T18:57:08.825Z"
   },
   {
    "duration": 4,
    "start_time": "2022-08-29T18:57:08.860Z"
   },
   {
    "duration": 8,
    "start_time": "2022-08-29T18:57:08.865Z"
   },
   {
    "duration": 26,
    "start_time": "2022-08-29T18:57:08.875Z"
   },
   {
    "duration": 10,
    "start_time": "2022-08-29T18:57:08.903Z"
   },
   {
    "duration": 10,
    "start_time": "2022-08-29T18:57:08.915Z"
   },
   {
    "duration": 5,
    "start_time": "2022-08-29T18:57:08.926Z"
   },
   {
    "duration": 18,
    "start_time": "2022-08-29T18:57:08.933Z"
   },
   {
    "duration": 7,
    "start_time": "2022-08-29T18:57:08.952Z"
   },
   {
    "duration": 18,
    "start_time": "2022-08-29T18:57:08.961Z"
   },
   {
    "duration": 3,
    "start_time": "2022-08-29T18:57:08.998Z"
   },
   {
    "duration": 26,
    "start_time": "2022-08-29T18:57:09.002Z"
   },
   {
    "duration": 9,
    "start_time": "2022-08-29T18:57:09.030Z"
   },
   {
    "duration": 33,
    "start_time": "2022-08-29T18:57:09.041Z"
   },
   {
    "duration": 23,
    "start_time": "2022-08-29T18:57:09.076Z"
   },
   {
    "duration": 686,
    "start_time": "2022-08-29T18:57:09.100Z"
   },
   {
    "duration": 3,
    "start_time": "2022-08-29T18:57:09.788Z"
   },
   {
    "duration": 108,
    "start_time": "2022-08-29T18:57:09.792Z"
   },
   {
    "duration": 98,
    "start_time": "2022-08-29T18:57:09.902Z"
   },
   {
    "duration": 11,
    "start_time": "2022-08-29T18:57:10.004Z"
   },
   {
    "duration": 84,
    "start_time": "2022-08-29T18:57:10.016Z"
   },
   {
    "duration": 13,
    "start_time": "2022-08-29T18:57:10.102Z"
   },
   {
    "duration": 81,
    "start_time": "2022-08-29T18:57:10.117Z"
   },
   {
    "duration": 5,
    "start_time": "2022-08-29T18:57:10.203Z"
   },
   {
    "duration": 41,
    "start_time": "2022-08-29T18:57:10.299Z"
   },
   {
    "duration": 58,
    "start_time": "2022-08-29T18:57:10.342Z"
   },
   {
    "duration": 113,
    "start_time": "2022-08-29T18:57:10.402Z"
   },
   {
    "duration": 453,
    "start_time": "2022-08-29T18:57:10.516Z"
   },
   {
    "duration": 470,
    "start_time": "2022-08-29T18:57:10.970Z"
   },
   {
    "duration": 136,
    "start_time": "2022-08-29T18:57:11.441Z"
   },
   {
    "duration": 5,
    "start_time": "2022-08-29T18:57:11.578Z"
   },
   {
    "duration": 29,
    "start_time": "2022-08-29T18:57:11.584Z"
   },
   {
    "duration": 42,
    "start_time": "2022-08-29T18:57:11.614Z"
   },
   {
    "duration": 24,
    "start_time": "2022-08-29T18:57:11.658Z"
   },
   {
    "duration": 140,
    "start_time": "2022-08-29T18:57:11.683Z"
   },
   {
    "duration": 5,
    "start_time": "2022-08-29T18:57:11.824Z"
   },
   {
    "duration": 7,
    "start_time": "2022-08-29T18:57:11.830Z"
   },
   {
    "duration": 213,
    "start_time": "2022-08-29T18:57:11.839Z"
   },
   {
    "duration": 25,
    "start_time": "2022-08-29T18:57:12.053Z"
   },
   {
    "duration": 138,
    "start_time": "2022-08-29T18:57:12.080Z"
   },
   {
    "duration": 6,
    "start_time": "2022-08-29T18:57:12.219Z"
   },
   {
    "duration": 2932,
    "start_time": "2022-08-29T19:08:09.177Z"
   },
   {
    "duration": 3,
    "start_time": "2022-08-29T19:08:14.589Z"
   },
   {
    "duration": 1654,
    "start_time": "2022-08-30T16:31:42.932Z"
   },
   {
    "duration": 367,
    "start_time": "2022-08-30T16:31:44.589Z"
   },
   {
    "duration": 17,
    "start_time": "2022-08-30T16:31:44.958Z"
   },
   {
    "duration": 13,
    "start_time": "2022-08-30T16:31:44.977Z"
   },
   {
    "duration": 40,
    "start_time": "2022-08-30T16:31:44.992Z"
   },
   {
    "duration": 5,
    "start_time": "2022-08-30T16:31:45.034Z"
   },
   {
    "duration": 26,
    "start_time": "2022-08-30T16:31:45.040Z"
   },
   {
    "duration": 14,
    "start_time": "2022-08-30T16:31:45.068Z"
   },
   {
    "duration": 14,
    "start_time": "2022-08-30T16:31:45.084Z"
   },
   {
    "duration": 6,
    "start_time": "2022-08-30T16:31:45.101Z"
   },
   {
    "duration": 5,
    "start_time": "2022-08-30T16:31:45.109Z"
   },
   {
    "duration": 10,
    "start_time": "2022-08-30T16:31:45.116Z"
   },
   {
    "duration": 6,
    "start_time": "2022-08-30T16:31:45.128Z"
   },
   {
    "duration": 57,
    "start_time": "2022-08-30T16:31:45.136Z"
   },
   {
    "duration": 3373,
    "start_time": "2022-08-30T16:31:45.194Z"
   },
   {
    "duration": 4,
    "start_time": "2022-08-30T16:31:48.569Z"
   },
   {
    "duration": 6,
    "start_time": "2022-08-30T16:31:48.575Z"
   },
   {
    "duration": 31,
    "start_time": "2022-08-30T16:31:48.582Z"
   },
   {
    "duration": 12,
    "start_time": "2022-08-30T16:31:48.614Z"
   },
   {
    "duration": 37,
    "start_time": "2022-08-30T16:31:48.627Z"
   },
   {
    "duration": 4,
    "start_time": "2022-08-30T16:31:48.666Z"
   },
   {
    "duration": 163,
    "start_time": "2022-08-30T16:31:48.671Z"
   },
   {
    "duration": 778,
    "start_time": "2022-08-30T16:31:48.836Z"
   },
   {
    "duration": 4,
    "start_time": "2022-08-30T16:31:49.616Z"
   },
   {
    "duration": 180,
    "start_time": "2022-08-30T16:31:49.621Z"
   },
   {
    "duration": 5,
    "start_time": "2022-08-30T16:31:49.893Z"
   },
   {
    "duration": 7,
    "start_time": "2022-08-30T16:31:49.992Z"
   },
   {
    "duration": 4,
    "start_time": "2022-08-30T16:31:50.003Z"
   },
   {
    "duration": 16,
    "start_time": "2022-08-30T16:31:50.009Z"
   },
   {
    "duration": 165,
    "start_time": "2022-08-30T16:31:50.027Z"
   },
   {
    "duration": 5,
    "start_time": "2022-08-30T16:31:50.194Z"
   },
   {
    "duration": 90,
    "start_time": "2022-08-30T16:31:50.201Z"
   },
   {
    "duration": 98,
    "start_time": "2022-08-30T16:31:50.294Z"
   },
   {
    "duration": 31,
    "start_time": "2022-08-30T16:31:50.394Z"
   },
   {
    "duration": 396,
    "start_time": "2022-08-30T16:31:50.493Z"
   },
   {
    "duration": 496,
    "start_time": "2022-08-30T16:31:50.892Z"
   },
   {
    "duration": 156,
    "start_time": "2022-08-30T16:31:51.391Z"
   },
   {
    "duration": 7,
    "start_time": "2022-08-30T16:31:51.549Z"
   },
   {
    "duration": 36,
    "start_time": "2022-08-30T16:31:51.558Z"
   },
   {
    "duration": 47,
    "start_time": "2022-08-30T16:31:51.596Z"
   },
   {
    "duration": 50,
    "start_time": "2022-08-30T16:31:51.645Z"
   },
   {
    "duration": 173,
    "start_time": "2022-08-30T16:31:51.697Z"
   },
   {
    "duration": 9,
    "start_time": "2022-08-30T16:31:51.872Z"
   },
   {
    "duration": 18,
    "start_time": "2022-08-30T16:31:51.896Z"
   },
   {
    "duration": 252,
    "start_time": "2022-08-30T16:31:51.916Z"
   },
   {
    "duration": 40,
    "start_time": "2022-08-30T16:31:52.170Z"
   },
   {
    "duration": 242,
    "start_time": "2022-08-30T16:31:52.212Z"
   },
   {
    "duration": 6,
    "start_time": "2022-08-30T16:31:52.456Z"
   },
   {
    "duration": 7,
    "start_time": "2022-08-30T16:33:12.202Z"
   },
   {
    "duration": 132,
    "start_time": "2022-08-30T16:33:15.772Z"
   },
   {
    "duration": 7,
    "start_time": "2022-08-30T16:33:17.698Z"
   },
   {
    "duration": 150,
    "start_time": "2022-08-30T16:35:07.132Z"
   },
   {
    "duration": 6,
    "start_time": "2022-08-30T16:35:09.756Z"
   },
   {
    "duration": 737,
    "start_time": "2022-08-30T16:35:12.449Z"
   },
   {
    "duration": 4,
    "start_time": "2022-08-30T16:35:14.260Z"
   },
   {
    "duration": 186,
    "start_time": "2022-08-30T16:35:15.562Z"
   },
   {
    "duration": 7,
    "start_time": "2022-08-30T16:35:17.794Z"
   },
   {
    "duration": 1865,
    "start_time": "2022-08-30T16:36:15.117Z"
   },
   {
    "duration": 44,
    "start_time": "2022-08-30T16:36:16.984Z"
   },
   {
    "duration": 21,
    "start_time": "2022-08-30T16:36:17.030Z"
   },
   {
    "duration": 15,
    "start_time": "2022-08-30T16:36:17.054Z"
   },
   {
    "duration": 61,
    "start_time": "2022-08-30T16:36:17.071Z"
   },
   {
    "duration": 6,
    "start_time": "2022-08-30T16:36:17.134Z"
   },
   {
    "duration": 20,
    "start_time": "2022-08-30T16:36:17.142Z"
   },
   {
    "duration": 12,
    "start_time": "2022-08-30T16:36:17.164Z"
   },
   {
    "duration": 18,
    "start_time": "2022-08-30T16:36:17.178Z"
   },
   {
    "duration": 8,
    "start_time": "2022-08-30T16:36:17.199Z"
   },
   {
    "duration": 8,
    "start_time": "2022-08-30T16:36:17.209Z"
   },
   {
    "duration": 14,
    "start_time": "2022-08-30T16:36:17.219Z"
   },
   {
    "duration": 7,
    "start_time": "2022-08-30T16:36:17.235Z"
   },
   {
    "duration": 20,
    "start_time": "2022-08-30T16:36:17.243Z"
   },
   {
    "duration": 2477,
    "start_time": "2022-08-30T16:36:17.264Z"
   },
   {
    "duration": 5,
    "start_time": "2022-08-30T16:36:19.743Z"
   },
   {
    "duration": 9,
    "start_time": "2022-08-30T16:36:19.749Z"
   },
   {
    "duration": 30,
    "start_time": "2022-08-30T16:36:19.760Z"
   },
   {
    "duration": 13,
    "start_time": "2022-08-30T16:36:19.792Z"
   },
   {
    "duration": 41,
    "start_time": "2022-08-30T16:36:19.807Z"
   },
   {
    "duration": 4,
    "start_time": "2022-08-30T16:36:19.850Z"
   },
   {
    "duration": 163,
    "start_time": "2022-08-30T16:36:19.856Z"
   },
   {
    "duration": 7,
    "start_time": "2022-08-30T16:36:20.020Z"
   },
   {
    "duration": 765,
    "start_time": "2022-08-30T16:36:20.028Z"
   },
   {
    "duration": 4,
    "start_time": "2022-08-30T16:36:20.795Z"
   },
   {
    "duration": 185,
    "start_time": "2022-08-30T16:36:20.800Z"
   },
   {
    "duration": 8,
    "start_time": "2022-08-30T16:36:20.987Z"
   },
   {
    "duration": 199,
    "start_time": "2022-08-30T16:36:20.998Z"
   },
   {
    "duration": 95,
    "start_time": "2022-08-30T16:36:21.200Z"
   },
   {
    "duration": 416,
    "start_time": "2022-08-30T16:36:21.297Z"
   },
   {
    "duration": 6,
    "start_time": "2022-08-30T16:36:21.715Z"
   },
   {
    "duration": 4,
    "start_time": "2022-08-30T16:36:21.723Z"
   },
   {
    "duration": 8,
    "start_time": "2022-08-30T16:36:21.729Z"
   },
   {
    "duration": 18,
    "start_time": "2022-08-30T16:36:21.739Z"
   },
   {
    "duration": 53,
    "start_time": "2022-08-30T16:36:21.758Z"
   },
   {
    "duration": 82,
    "start_time": "2022-08-30T16:36:21.813Z"
   },
   {
    "duration": 263,
    "start_time": "2022-08-30T16:36:21.897Z"
   },
   {
    "duration": 8,
    "start_time": "2022-08-30T16:36:22.193Z"
   },
   {
    "duration": 101,
    "start_time": "2022-08-30T16:36:22.292Z"
   },
   {
    "duration": 418,
    "start_time": "2022-08-30T16:36:22.395Z"
   },
   {
    "duration": 510,
    "start_time": "2022-08-30T16:36:22.814Z"
   },
   {
    "duration": 166,
    "start_time": "2022-08-30T16:36:23.326Z"
   },
   {
    "duration": 7,
    "start_time": "2022-08-30T16:36:23.494Z"
   },
   {
    "duration": 24,
    "start_time": "2022-08-30T16:36:23.502Z"
   },
   {
    "duration": 64,
    "start_time": "2022-08-30T16:36:23.528Z"
   },
   {
    "duration": 32,
    "start_time": "2022-08-30T16:36:23.594Z"
   },
   {
    "duration": 170,
    "start_time": "2022-08-30T16:36:23.628Z"
   },
   {
    "duration": 7,
    "start_time": "2022-08-30T16:36:23.800Z"
   },
   {
    "duration": 18,
    "start_time": "2022-08-30T16:36:23.809Z"
   },
   {
    "duration": 222,
    "start_time": "2022-08-30T16:36:23.829Z"
   },
   {
    "duration": 41,
    "start_time": "2022-08-30T16:36:24.053Z"
   },
   {
    "duration": 153,
    "start_time": "2022-08-30T16:36:24.096Z"
   },
   {
    "duration": 8,
    "start_time": "2022-08-30T16:36:24.251Z"
   },
   {
    "duration": 305,
    "start_time": "2022-08-30T16:39:15.505Z"
   },
   {
    "duration": 8,
    "start_time": "2022-08-30T16:39:44.033Z"
   },
   {
    "duration": 279,
    "start_time": "2022-08-30T16:43:24.733Z"
   },
   {
    "duration": 7,
    "start_time": "2022-08-30T16:43:27.069Z"
   },
   {
    "duration": 1517,
    "start_time": "2022-08-30T16:44:38.083Z"
   },
   {
    "duration": 43,
    "start_time": "2022-08-30T16:44:39.602Z"
   },
   {
    "duration": 19,
    "start_time": "2022-08-30T16:44:39.647Z"
   },
   {
    "duration": 15,
    "start_time": "2022-08-30T16:44:39.668Z"
   },
   {
    "duration": 41,
    "start_time": "2022-08-30T16:44:39.684Z"
   },
   {
    "duration": 5,
    "start_time": "2022-08-30T16:44:39.727Z"
   },
   {
    "duration": 6,
    "start_time": "2022-08-30T16:44:39.734Z"
   },
   {
    "duration": 11,
    "start_time": "2022-08-30T16:44:39.742Z"
   },
   {
    "duration": 37,
    "start_time": "2022-08-30T16:44:39.755Z"
   },
   {
    "duration": 5,
    "start_time": "2022-08-30T16:44:39.795Z"
   },
   {
    "duration": 4,
    "start_time": "2022-08-30T16:44:39.802Z"
   },
   {
    "duration": 13,
    "start_time": "2022-08-30T16:44:39.808Z"
   },
   {
    "duration": 7,
    "start_time": "2022-08-30T16:44:39.823Z"
   },
   {
    "duration": 61,
    "start_time": "2022-08-30T16:44:39.832Z"
   },
   {
    "duration": 2324,
    "start_time": "2022-08-30T16:44:39.895Z"
   },
   {
    "duration": 5,
    "start_time": "2022-08-30T16:44:42.221Z"
   },
   {
    "duration": 7,
    "start_time": "2022-08-30T16:44:42.227Z"
   },
   {
    "duration": 37,
    "start_time": "2022-08-30T16:44:42.236Z"
   },
   {
    "duration": 19,
    "start_time": "2022-08-30T16:44:42.274Z"
   },
   {
    "duration": 36,
    "start_time": "2022-08-30T16:44:42.295Z"
   },
   {
    "duration": 4,
    "start_time": "2022-08-30T16:44:42.332Z"
   },
   {
    "duration": 159,
    "start_time": "2022-08-30T16:44:42.338Z"
   },
   {
    "duration": 6,
    "start_time": "2022-08-30T16:44:42.499Z"
   },
   {
    "duration": 760,
    "start_time": "2022-08-30T16:44:42.506Z"
   },
   {
    "duration": 4,
    "start_time": "2022-08-30T16:44:43.268Z"
   },
   {
    "duration": 191,
    "start_time": "2022-08-30T16:44:43.273Z"
   },
   {
    "duration": 6,
    "start_time": "2022-08-30T16:44:43.466Z"
   },
   {
    "duration": 226,
    "start_time": "2022-08-30T16:44:43.476Z"
   },
   {
    "duration": 12,
    "start_time": "2022-08-30T16:44:43.792Z"
   },
   {
    "duration": 316,
    "start_time": "2022-08-30T16:44:43.892Z"
   },
   {
    "duration": 8,
    "start_time": "2022-08-30T16:44:44.210Z"
   },
   {
    "duration": 16,
    "start_time": "2022-08-30T16:44:44.220Z"
   },
   {
    "duration": 13,
    "start_time": "2022-08-30T16:44:44.238Z"
   },
   {
    "duration": 21,
    "start_time": "2022-08-30T16:44:44.252Z"
   },
   {
    "duration": 39,
    "start_time": "2022-08-30T16:44:44.274Z"
   },
   {
    "duration": 698,
    "start_time": "2022-08-30T16:44:44.316Z"
   },
   {
    "duration": 8,
    "start_time": "2022-08-30T16:44:45.016Z"
   },
   {
    "duration": 67,
    "start_time": "2022-08-30T16:44:45.026Z"
   },
   {
    "duration": 97,
    "start_time": "2022-08-30T16:44:45.096Z"
   },
   {
    "duration": 423,
    "start_time": "2022-08-30T16:44:45.195Z"
   },
   {
    "duration": 8,
    "start_time": "2022-08-30T16:44:45.620Z"
   },
   {
    "duration": 11,
    "start_time": "2022-08-30T16:44:45.630Z"
   },
   {
    "duration": 110,
    "start_time": "2022-08-30T16:44:45.691Z"
   },
   {
    "duration": 506,
    "start_time": "2022-08-30T16:44:45.804Z"
   },
   {
    "duration": 6,
    "start_time": "2022-08-30T16:44:46.312Z"
   },
   {
    "duration": 773,
    "start_time": "2022-08-30T16:44:46.319Z"
   },
   {
    "duration": 626,
    "start_time": "2022-08-30T16:44:47.095Z"
   },
   {
    "duration": 175,
    "start_time": "2022-08-30T16:44:47.723Z"
   },
   {
    "duration": 8,
    "start_time": "2022-08-30T16:44:47.900Z"
   },
   {
    "duration": 24,
    "start_time": "2022-08-30T16:44:47.909Z"
   },
   {
    "duration": 83,
    "start_time": "2022-08-30T16:44:47.935Z"
   },
   {
    "duration": 43,
    "start_time": "2022-08-30T16:44:48.021Z"
   },
   {
    "duration": 178,
    "start_time": "2022-08-30T16:44:48.066Z"
   },
   {
    "duration": 6,
    "start_time": "2022-08-30T16:44:48.246Z"
   },
   {
    "duration": 14,
    "start_time": "2022-08-30T16:44:48.255Z"
   },
   {
    "duration": 241,
    "start_time": "2022-08-30T16:44:48.271Z"
   },
   {
    "duration": 41,
    "start_time": "2022-08-30T16:44:48.513Z"
   },
   {
    "duration": 206,
    "start_time": "2022-08-30T16:44:48.556Z"
   },
   {
    "duration": 8,
    "start_time": "2022-08-30T16:44:48.764Z"
   },
   {
    "duration": 158,
    "start_time": "2022-08-30T16:45:56.144Z"
   },
   {
    "duration": 523,
    "start_time": "2022-08-30T16:46:05.664Z"
   },
   {
    "duration": 160,
    "start_time": "2022-08-30T16:46:06.746Z"
   },
   {
    "duration": 6,
    "start_time": "2022-08-30T16:46:10.971Z"
   },
   {
    "duration": 1582,
    "start_time": "2022-08-30T16:48:07.150Z"
   },
   {
    "duration": 43,
    "start_time": "2022-08-30T16:48:08.734Z"
   },
   {
    "duration": 18,
    "start_time": "2022-08-30T16:48:08.779Z"
   },
   {
    "duration": 14,
    "start_time": "2022-08-30T16:48:08.799Z"
   },
   {
    "duration": 45,
    "start_time": "2022-08-30T16:48:08.814Z"
   },
   {
    "duration": 5,
    "start_time": "2022-08-30T16:48:08.861Z"
   },
   {
    "duration": 28,
    "start_time": "2022-08-30T16:48:08.867Z"
   },
   {
    "duration": 13,
    "start_time": "2022-08-30T16:48:08.897Z"
   },
   {
    "duration": 12,
    "start_time": "2022-08-30T16:48:08.912Z"
   },
   {
    "duration": 6,
    "start_time": "2022-08-30T16:48:08.928Z"
   },
   {
    "duration": 6,
    "start_time": "2022-08-30T16:48:08.935Z"
   },
   {
    "duration": 11,
    "start_time": "2022-08-30T16:48:08.942Z"
   },
   {
    "duration": 38,
    "start_time": "2022-08-30T16:48:08.955Z"
   },
   {
    "duration": 19,
    "start_time": "2022-08-30T16:48:08.995Z"
   },
   {
    "duration": 2365,
    "start_time": "2022-08-30T16:48:09.016Z"
   },
   {
    "duration": 4,
    "start_time": "2022-08-30T16:48:11.383Z"
   },
   {
    "duration": 6,
    "start_time": "2022-08-30T16:48:11.389Z"
   },
   {
    "duration": 34,
    "start_time": "2022-08-30T16:48:11.397Z"
   },
   {
    "duration": 13,
    "start_time": "2022-08-30T16:48:11.432Z"
   },
   {
    "duration": 48,
    "start_time": "2022-08-30T16:48:11.446Z"
   },
   {
    "duration": 4,
    "start_time": "2022-08-30T16:48:11.496Z"
   },
   {
    "duration": 153,
    "start_time": "2022-08-30T16:48:11.502Z"
   },
   {
    "duration": 7,
    "start_time": "2022-08-30T16:48:11.657Z"
   },
   {
    "duration": 805,
    "start_time": "2022-08-30T16:48:11.665Z"
   },
   {
    "duration": 4,
    "start_time": "2022-08-30T16:48:12.472Z"
   },
   {
    "duration": 186,
    "start_time": "2022-08-30T16:48:12.477Z"
   },
   {
    "duration": 7,
    "start_time": "2022-08-30T16:48:12.664Z"
   },
   {
    "duration": 222,
    "start_time": "2022-08-30T16:48:12.675Z"
   },
   {
    "duration": 194,
    "start_time": "2022-08-30T16:48:12.899Z"
   },
   {
    "duration": 305,
    "start_time": "2022-08-30T16:48:13.095Z"
   },
   {
    "duration": 6,
    "start_time": "2022-08-30T16:48:13.402Z"
   },
   {
    "duration": 5,
    "start_time": "2022-08-30T16:48:13.410Z"
   },
   {
    "duration": 8,
    "start_time": "2022-08-30T16:48:13.416Z"
   },
   {
    "duration": 22,
    "start_time": "2022-08-30T16:48:13.425Z"
   },
   {
    "duration": 53,
    "start_time": "2022-08-30T16:48:13.449Z"
   },
   {
    "duration": 490,
    "start_time": "2022-08-30T16:48:13.503Z"
   },
   {
    "duration": 7,
    "start_time": "2022-08-30T16:48:13.995Z"
   },
   {
    "duration": 11,
    "start_time": "2022-08-30T16:48:14.004Z"
   },
   {
    "duration": 175,
    "start_time": "2022-08-30T16:48:14.017Z"
   },
   {
    "duration": 309,
    "start_time": "2022-08-30T16:48:14.194Z"
   },
   {
    "duration": 7,
    "start_time": "2022-08-30T16:48:14.505Z"
   },
   {
    "duration": 8,
    "start_time": "2022-08-30T16:48:14.513Z"
   },
   {
    "duration": 71,
    "start_time": "2022-08-30T16:48:14.522Z"
   },
   {
    "duration": 314,
    "start_time": "2022-08-30T16:48:14.595Z"
   },
   {
    "duration": 9,
    "start_time": "2022-08-30T16:48:14.911Z"
   },
   {
    "duration": 351,
    "start_time": "2022-08-30T16:48:14.921Z"
   },
   {
    "duration": 528,
    "start_time": "2022-08-30T16:48:15.274Z"
   },
   {
    "duration": 164,
    "start_time": "2022-08-30T16:48:15.804Z"
   },
   {
    "duration": 7,
    "start_time": "2022-08-30T16:48:15.971Z"
   },
   {
    "duration": 21,
    "start_time": "2022-08-30T16:48:15.992Z"
   },
   {
    "duration": 154,
    "start_time": "2022-08-30T16:48:16.015Z"
   },
   {
    "duration": 8,
    "start_time": "2022-08-30T16:48:16.170Z"
   },
   {
    "duration": 57,
    "start_time": "2022-08-30T16:48:16.180Z"
   },
   {
    "duration": 143,
    "start_time": "2022-08-30T16:48:16.239Z"
   },
   {
    "duration": 8,
    "start_time": "2022-08-30T16:48:16.384Z"
   },
   {
    "duration": 40,
    "start_time": "2022-08-30T16:48:16.394Z"
   },
   {
    "duration": 169,
    "start_time": "2022-08-30T16:48:16.436Z"
   },
   {
    "duration": 7,
    "start_time": "2022-08-30T16:48:16.606Z"
   },
   {
    "duration": 14,
    "start_time": "2022-08-30T16:48:16.614Z"
   },
   {
    "duration": 220,
    "start_time": "2022-08-30T16:48:16.630Z"
   },
   {
    "duration": 40,
    "start_time": "2022-08-30T16:48:16.852Z"
   },
   {
    "duration": 163,
    "start_time": "2022-08-30T16:48:16.894Z"
   },
   {
    "duration": 6,
    "start_time": "2022-08-30T16:48:17.059Z"
   }
  ],
  "kernelspec": {
   "display_name": "Python 3 (ipykernel)",
   "language": "python",
   "name": "python3"
  },
  "language_info": {
   "codemirror_mode": {
    "name": "ipython",
    "version": 3
   },
   "file_extension": ".py",
   "mimetype": "text/x-python",
   "name": "python",
   "nbconvert_exporter": "python",
   "pygments_lexer": "ipython3",
   "version": "3.9.7"
  },
  "toc": {
   "base_numbering": 1,
   "nav_menu": {},
   "number_sections": true,
   "sideBar": true,
   "skip_h1_title": true,
   "title_cell": "Содержание",
   "title_sidebar": "Contents",
   "toc_cell": true,
   "toc_position": {
    "height": "calc(100% - 180px)",
    "left": "10px",
    "top": "150px",
    "width": "323.963px"
   },
   "toc_section_display": true,
   "toc_window_display": true
  }
 },
 "nbformat": 4,
 "nbformat_minor": 2
}
